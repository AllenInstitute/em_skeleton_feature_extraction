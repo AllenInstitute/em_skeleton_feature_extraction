{
 "cells": [
  {
   "cell_type": "code",
   "execution_count": null,
   "metadata": {},
   "outputs": [],
   "source": [
    "import skel_features\n",
    "from meshparty import meshwork\n",
    "from caveclient import CAVEclient\n",
    "from cloudpathlib import AnyPath as Path\n",
    "import cloudfiles\n",
    "from io import BytesIO\n",
    "import tqdm.autonotebook as tqdm\n",
    "\n",
    "import numpy as np\n",
    "\n",
    "\n",
    "client = CAVEclient('minnie65_public')\n",
    "client.version = 1300"
   ]
  },
  {
   "cell_type": "code",
   "execution_count": null,
   "metadata": {},
   "outputs": [],
   "source": [
    "int(all_files[0].name.split(\".\")[0])"
   ]
  },
  {
   "cell_type": "code",
   "execution_count": null,
   "metadata": {},
   "outputs": [],
   "source": []
  },
  {
   "cell_type": "code",
   "execution_count": null,
   "metadata": {},
   "outputs": [],
   "source": [
    "import pandas as pd"
   ]
  },
  {
   "cell_type": "code",
   "execution_count": null,
   "metadata": {},
   "outputs": [],
   "source": []
  },
  {
   "cell_type": "code",
   "execution_count": null,
   "metadata": {},
   "outputs": [],
   "source": []
  },
  {
   "cell_type": "code",
   "execution_count": null,
   "metadata": {},
   "outputs": [],
   "source": []
  },
  {
   "cell_type": "code",
   "execution_count": null,
   "metadata": {},
   "outputs": [],
   "source": [
    "import pandas as pd"
   ]
  },
  {
   "cell_type": "code",
   "execution_count": null,
   "metadata": {},
   "outputs": [],
   "source": [
    "df.columns = [\"id\", 'structure', \"x\", \"y\", \"z\", \"radius\", \"parent\"]"
   ]
  },
  {
   "cell_type": "code",
   "execution_count": null,
   "metadata": {},
   "outputs": [],
   "source": [
    "df.structure.value_counts()"
   ]
  },
  {
   "cell_type": "code",
   "execution_count": null,
   "metadata": {},
   "outputs": [],
   "source": [
    "skel_dir = Path(\"gs://csm-skel/skel-test/\")\n",
    "swc_dir = Path(\"gs://microns-static-links/skel/swc/proofread/\")\n",
    "\n",
    "cf = cloudfiles.CloudFiles(\"gs://microns-static-links/skel/swc/proofread/\")"
   ]
  },
  {
   "cell_type": "code",
   "execution_count": null,
   "metadata": {},
   "outputs": [],
   "source": [
    "tbl_qry = client.materialize.tables\n",
    "pf_df = tbl_qry.proofreading_status_and_strategy.get_all()\n",
    "pf_df.query('status_axon == \"t\"')"
   ]
  },
  {
   "cell_type": "code",
   "execution_count": null,
   "metadata": {},
   "outputs": [],
   "source": [
    "def convert_to_swc(root_id, skel_dir, cf):\n",
    "    try:\n",
    "        nrn = skel_features.io_utils.load_root_id(root_id, skel_dir, 0.1)\n",
    "        dend_inds = nrn.anno.compartment.df.query('compartment == 3').mesh_ind\n",
    "        axon_inds = nrn.anno.compartment.df.query('compartment == 2').mesh_ind\n",
    "\n",
    "        nrn.anno.add_annotations('is_dendrite', dend_inds, mask=True, overwrite=True)\n",
    "        nrn.anno.add_annotations('is_axon', axon_inds, mask=True, overwrite=True)\n",
    "\n",
    "        with BytesIO() as bio:\n",
    "            nrn.export_to_swc(\n",
    "                bio,\n",
    "                resample_spacing=1000,\n",
    "                axon_label='is_axon',\n",
    "                dendrite_label='is_dendrite',\n",
    "                soma_label='is_soma',\n",
    "                radius=nrn.anno.segment_properties.df['r_eff'].values,\n",
    "            )\n",
    "            bio.seek(0)\n",
    "            cf.put(f'{root_id}.swc', bio.read())\n",
    "        return True\n",
    "    except Exception as e:\n",
    "        print(f\"Error processing root_id {root_id}: {e}\")\n",
    "        return False\n",
    "    "
   ]
  },
  {
   "cell_type": "code",
   "execution_count": null,
   "metadata": {},
   "outputs": [],
   "source": [
    "root_id = pf_df.query('status_axon == \"t\"')['pt_root_id'].values[30]\n",
    "convert_to_swc(root_id, skel_dir, cf)"
   ]
  },
  {
   "cell_type": "code",
   "execution_count": null,
   "metadata": {},
   "outputs": [],
   "source": [
    "from joblib import Parallel, delayed\n",
    "\n",
    "success = Parallel(n_jobs=16)(\n",
    "    delayed(convert_to_swc)(root_id, skel_dir, cf)\n",
    "    for root_id in pf_df.query('status_axon == \"t\"')['pt_root_id'].values\n",
    ")"
   ]
  },
  {
   "cell_type": "code",
   "execution_count": null,
   "metadata": {},
   "outputs": [],
   "source": [
    "import pcg_skel"
   ]
  },
  {
   "cell_type": "markdown",
   "metadata": {},
   "source": [
    "Do singlet cell that wasn't in the bulk hydration"
   ]
  },
  {
   "cell_type": "code",
   "execution_count": null,
   "metadata": {},
   "outputs": [],
   "source": [
    "rid = 864691136119883288\n",
    "nrn = pcg_skel.service.get_meshwork_from_client(\n",
    "    rid,\n",
    "    client,\n",
    "    synapses=True,\n",
    "    restore_properties=True,\n",
    ")\n",
    "\n",
    "dend_inds = nrn.anno.compartment.df.query('compartment == 3').mesh_ind\n",
    "axon_inds = nrn.anno.compartment.df.query('compartment == 2').mesh_ind\n",
    "soma_inds = nrn.anno.compartment.df.query('compartment == 1').mesh_ind\n",
    "\n",
    "nrn.anno.add_annotations('is_dendrite', dend_inds, mask=True, overwrite=True)\n",
    "nrn.anno.add_annotations('is_axon', axon_inds, mask=True, overwrite=True)\n",
    "nrn.anno.add_annotations('is_soma', soma_inds, mask=True, overwrite=True)\n",
    "\n",
    "with BytesIO() as bio:\n",
    "    nrn.export_to_swc(\n",
    "        bio,\n",
    "        resample_spacing=1000,\n",
    "        axon_label='is_axon',\n",
    "        dendrite_label='is_dendrite',\n",
    "        soma_label='is_soma',\n",
    "        radius=nrn.anno.segment_properties.df['r_eff'].values,\n",
    "    )\n",
    "    bio.seek(0)\n",
    "    cf.put(f'{rid}.swc', bio.read())\n"
   ]
  },
  {
   "cell_type": "markdown",
   "metadata": {},
   "source": [
    "Do thalamic axons"
   ]
  },
  {
   "cell_type": "code",
   "execution_count": null,
   "metadata": {},
   "outputs": [],
   "source": [
    "Parallel?"
   ]
  },
  {
   "cell_type": "code",
   "execution_count": null,
   "metadata": {},
   "outputs": [],
   "source": [
    "thal_axon = [864691135279153313, 864691135489461050, 864691135561626081, 864691135572519149, 864691135700619810, 864691135738851953, 864691135874798734, 864691135947132769, 864691135947139681, 864691136419064727, 864691136618899341, 864691136967639758]"
   ]
  },
  {
   "cell_type": "code",
   "execution_count": null,
   "metadata": {},
   "outputs": [],
   "source": [
    "for rid in tqdm.tqdm(thal_axon[10:]):\n",
    "    nrn = pcg_skel.service.get_meshwork_from_client(\n",
    "        rid,\n",
    "        client,\n",
    "        synapses=True,\n",
    "        restore_properties=True,\n",
    "        )\n",
    "\n",
    "    axon_inds = np.arange(len(nrn.vertices))\n",
    "\n",
    "    nrn.anno.add_annotations('is_axon', axon_inds, mask=True, overwrite=True)\n",
    "\n",
    "    with BytesIO() as bio:\n",
    "        nrn.export_to_swc(\n",
    "            bio,\n",
    "            resample_spacing=1000,\n",
    "            axon_label='is_axon',\n",
    "            radius=nrn.anno.segment_properties.df['r_eff'].values,\n",
    "        )\n",
    "        bio.seek(0)\n",
    "        cf.put(f'{rid}.swc', bio.read())"
   ]
  },
  {
   "cell_type": "markdown",
   "metadata": {},
   "source": [
    "Now do dendrite-only for all neurons"
   ]
  },
  {
   "cell_type": "code",
   "execution_count": null,
   "metadata": {},
   "outputs": [],
   "source": [
    "root_id = pf_df.query('status_axon == \"t\"')['pt_root_id'].values[800]"
   ]
  },
  {
   "cell_type": "code",
   "execution_count": null,
   "metadata": {},
   "outputs": [],
   "source": [
    "nrn = skel_features.io_utils.load_root_id(root_id, skel_dir)\n",
    "nrn.apply_mask(nrn.anno.is_dendrite.mesh_mask)\n"
   ]
  },
  {
   "cell_type": "code",
   "execution_count": null,
   "metadata": {},
   "outputs": [],
   "source": [
    "nrn.export_to_swc?"
   ]
  },
  {
   "cell_type": "code",
   "execution_count": null,
   "metadata": {},
   "outputs": [],
   "source": [
    "nrn = skel_features.io_utils.load_root_id(root_id, skel_dir)\n",
    "nrn.apply_mask(nrn.anno.is_dendrite.mesh_mask)\n",
    "\n",
    "nrn.export_to_swc(\n",
    "    'dend_test.swc',\n",
    "    resample_spacing=1000,\n",
    "    soma_label='is_soma',\n",
    "    radius=nrn.anno.segment_properties.df['r_eff'].values,\n",
    ")"
   ]
  },
  {
   "cell_type": "code",
   "execution_count": null,
   "metadata": {},
   "outputs": [],
   "source": [
    "def convert_dendrite_to_swc(root_id, skel_dir, cf):\n",
    "    try:\n",
    "        nrn = skel_features.io_utils.load_root_id(root_id, skel_dir)\n",
    "        nrn.apply_mask(nrn.anno.is_dendrite.mesh_mask)\n",
    "\n",
    "        with BytesIO() as bio:\n",
    "            nrn.export_to_swc(\n",
    "                bio,\n",
    "                resample_spacing=1000,\n",
    "                dendrite_label='is_dendrite',\n",
    "                radius=nrn.anno.segment_properties.df['r_eff'].values,\n",
    "            )\n",
    "            bio.seek(0)\n",
    "            cf.put(f'{root_id}.swc', bio.read())\n",
    "        return True\n",
    "    except Exception as e:\n",
    "        print(f\"Error processing root_id {root_id}: {e}\")\n",
    "        return False\n",
    "    "
   ]
  },
  {
   "cell_type": "code",
   "execution_count": null,
   "metadata": {},
   "outputs": [],
   "source": []
  },
  {
   "cell_type": "code",
   "execution_count": null,
   "metadata": {},
   "outputs": [],
   "source": [
    "swc_dir = Path(\"gs://microns-static-links/skel/swc/proofread/\")\n",
    "all_files = list(swc_dir.glob(\"*.swc\"))\n",
    "pf_root_ids = [int(f.name.split(\".\")[0]) for f in all_files]\n",
    "filenames = [str(f).replace(\"gs://\", \"https://storage.googleapis.com/\") for f in all_files]\n",
    "pf_df = pd.DataFrame(\n",
    "    {\n",
    "        \"root_id\": pf_root_ids,\n",
    "        \"filepath\": filenames\n",
    "    }\n",
    ").to_csv(\"proofread_manifest.csv\", index=False)\n",
    "swc_dir = Path(\"gs://microns-static-links/skel/swc/dendrite/\")\n",
    "all_files = list(swc_dir.glob(\"*.swc\"))\n",
    "dend_root_ids = [int(f.name.split(\".\")[0]) for f in all_files]\n",
    "filenames = [str(f).replace(\"gs://\", \"https://storage.googleapis.com/\") for f in all_files]\n",
    "dend_df = pd.DataFrame(\n",
    "    {\n",
    "        \"root_id\": dend_root_ids,\n",
    "        \"filepath\": filenames\n",
    "    }\n",
    ").to_csv(\"dendrite_manifest.csv\", index=False)\n"
   ]
  },
  {
   "cell_type": "code",
   "execution_count": null,
   "metadata": {},
   "outputs": [],
   "source": [
    "pd.read_csv(\n",
    "    pf_df.filepath[0],\n",
    "    sep=\" \",\n",
    "    header=None,\n",
    "    names=[\"id\", 'type', \"x\", \"y\", \"z\", \"radius\", \"parent\"],\n",
    ")"
   ]
  }
 ],
 "metadata": {
  "kernelspec": {
   "display_name": ".venv",
   "language": "python",
   "name": "python3"
  },
  "language_info": {
   "codemirror_mode": {
    "name": "ipython",
    "version": 3
   },
   "file_extension": ".py",
   "mimetype": "text/x-python",
   "name": "python",
   "nbconvert_exporter": "python",
   "pygments_lexer": "ipython3",
   "version": "3.12.7"
  }
 },
 "nbformat": 4,
 "nbformat_minor": 2
}
