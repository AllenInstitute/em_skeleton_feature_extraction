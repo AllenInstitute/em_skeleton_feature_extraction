{
 "cells": [
  {
   "cell_type": "code",
   "execution_count": null,
   "id": "f30f3dd6-014c-42d4-9a06-babe24caa853",
   "metadata": {},
   "outputs": [],
   "source": []
  },
  {
   "cell_type": "code",
   "execution_count": null,
   "id": "5b20435b-c0ee-4291-b259-53392afc1f3f",
   "metadata": {},
   "outputs": [],
   "source": [
    "import skel_features\n",
    "from standard_transform import v1dd_ds\n",
    "import pandas as pd\n",
    "import numpy as np\n",
    "from scipy import stats\n",
    "import umap\n",
    "\n",
    "skel_dir = '../skeletonization/skeletons/v1dd'\n",
    "feature_dir = 'features/v1dd'\n",
    "\n",
    "height_bnds = [-10, 900]"
   ]
  },
  {
   "cell_type": "code",
   "execution_count": null,
   "id": "e8d29478-560d-4f2f-8454-e72b35a342aa",
   "metadata": {},
   "outputs": [],
   "source": [
    "# df1 = pd.read_feather('../skeletonization/data/v1dd/v1dd_single_soma.feather')\n",
    "# df2 = pd.read_feather('../skeletonization/data/v1dd/v1dd_single_soma_r2.feather')\n",
    "df3 = pd.read_feather('../skeletonization/data/v1dd/v1dd_single_soma_r3.feather')\n",
    "df = df3\n",
    "# df = pd.concat((df1, df2))"
   ]
  },
  {
   "cell_type": "code",
   "execution_count": null,
   "id": "51471b95-44c2-4631-b36e-66abd5031c0a",
   "metadata": {},
   "outputs": [],
   "source": [
    "success = skel_features.extraction.extract_features_mp(\n",
    "    df['pt_root_id'],\n",
    "    skel_dir,\n",
    "    height_bnds,\n",
    "    v1dd_ds,\n",
    "    feature_dir,\n",
    ")"
   ]
  },
  {
   "cell_type": "code",
   "execution_count": null,
   "id": "3d4fd9e5-8d44-4b3b-b2a9-421eeeeb976e",
   "metadata": {},
   "outputs": [],
   "source": [
    "raw_df = skel_features.io_utils.load_features(df['pt_root_id'], feature_dir)"
   ]
  },
  {
   "cell_type": "code",
   "execution_count": null,
   "id": "e5c404a7-c068-4237-b19b-d2a8888b57ad",
   "metadata": {},
   "outputs": [],
   "source": [
    "(\n",
    "    feat_df,\n",
    "    feat_cols,\n",
    "    syn_pca,\n",
    "    br_svd,\n",
    "    keep_depth,\n",
    "    ego_pca,\n",
    "    scalers,\n",
    ") = skel_features.assembly.assemble_features_from_data(\n",
    "    raw_df.dropna(), n_syn_comp=6, n_branch_comp=3, n_syn_ego=5\n",
    ")\n",
    "\n",
    "feat_df = feat_df.dropna()"
   ]
  },
  {
   "cell_type": "code",
   "execution_count": null,
   "id": "4cff043b-516e-45bc-984a-8c787f9588fa",
   "metadata": {},
   "outputs": [],
   "source": [
    "feat_df.drop(feat_df.query('max_density == 0').index, inplace=True)"
   ]
  },
  {
   "cell_type": "code",
   "execution_count": null,
   "id": "c68ccf8a-3d21-4d95-a65e-495acadde4e5",
   "metadata": {},
   "outputs": [],
   "source": [
    "zero_df = feat_df.query('max_density==0')"
   ]
  },
  {
   "cell_type": "code",
   "execution_count": null,
   "id": "21166a8f-251b-4da0-81ee-5c629e6d5b5e",
   "metadata": {},
   "outputs": [],
   "source": [
    "import matplotlib.pyplot as plt\n",
    "import seaborn as sns"
   ]
  },
  {
   "cell_type": "code",
   "execution_count": null,
   "id": "403fe89a-9020-4b73-ad3b-37aef09a0f00",
   "metadata": {},
   "outputs": [],
   "source": [
    "from caveclient import CAVEclient\n",
    "client = CAVEclient('v1dd')\n",
    "\n",
    "ct_df = client.materialize.query_table('manual_central_types')"
   ]
  },
  {
   "cell_type": "code",
   "execution_count": null,
   "id": "2d54eba2-13fc-4dc5-9198-730cefe39ba5",
   "metadata": {},
   "outputs": [],
   "source": [
    "cids = client.materialize.get_cell_ids(feat_df['root_id'])"
   ]
  },
  {
   "cell_type": "code",
   "execution_count": null,
   "id": "79b44716-5763-40dd-95a4-3bbbac39a34f",
   "metadata": {},
   "outputs": [],
   "source": [
    "feat_df['nucleus_id'] = cids"
   ]
  },
  {
   "cell_type": "code",
   "execution_count": null,
   "id": "e1c4376b-6460-4899-8f99-d3c6c2e9e4b2",
   "metadata": {},
   "outputs": [],
   "source": [
    "feat_cols_nospace = [\n",
    "    \"tip_len_dist_dendrite_p50\",\n",
    "    \"tip_tort_dendrite_p50\",\n",
    "    \"num_syn_dendrite\",\n",
    "    \"num_syn_soma\",\n",
    "    \"path_length_dendrite\",\n",
    "    \"radial_extent_dendrite\",\n",
    "    \"syn_dist_distribution_dendrite_p50\",\n",
    "    \"syn_size_distribution_soma_p50\",\n",
    "    \"syn_size_distribution_dendrite_p50\",\n",
    "    \"syn_size_dendrite_cv\",\n",
    "    \"syn_depth_extent\",\n",
    "    \"max_density\",\n",
    "    \"radius_dist\",\n",
    "    \"branch_svd0\",\n",
    "    \"branch_svd1\",\n",
    "    \"branch_svd2\",\n",
    "    \"ego_count_pca0\",\n",
    "    \"ego_count_pca1\",\n",
    "    \"ego_count_pca2\",\n",
    "    \"ego_count_pca3\",\n",
    "    \"ego_count_pca4\",\n",
    "]"
   ]
  },
  {
   "cell_type": "code",
   "execution_count": null,
   "id": "05aace0a-facd-4eec-9094-d79a72c5dbc9",
   "metadata": {},
   "outputs": [],
   "source": [
    "feat_cols"
   ]
  },
  {
   "cell_type": "code",
   "execution_count": null,
   "id": "6dcf9133-6512-43f8-afe9-eb06c395f87f",
   "metadata": {},
   "outputs": [],
   "source": [
    "dat = feat_df[feat_cols].values\n",
    "datz = stats.zscore(dat)\n",
    "\n",
    "res = umap.UMAP(metric=\"euclidean\", min_dist=0.05, n_neighbors=20)\n",
    "xx = res.fit_transform(datz)\n",
    "feat_df[\"umap0\"] = xx[:, 0]\n",
    "feat_df[\"umap1\"] = xx[:, 1]"
   ]
  },
  {
   "cell_type": "code",
   "execution_count": null,
   "id": "7f2f202d-0f14-4638-b04b-6cdedd4718e3",
   "metadata": {},
   "outputs": [],
   "source": [
    "feat_df = feat_df.merge(\n",
    "    ct_df[['pt_root_id', 'cell_type']].rename(columns={'pt_root_id':'root_id'}),\n",
    "    how='left',\n",
    "    on='root_id',\n",
    ")"
   ]
  },
  {
   "cell_type": "code",
   "execution_count": null,
   "id": "578500c2-2369-422e-a678-d690a37ca657",
   "metadata": {},
   "outputs": [],
   "source": [
    "feat_df.drop(feat_df.query('cell_type==\"Non-neuronal\"').index, inplace=True)"
   ]
  },
  {
   "cell_type": "code",
   "execution_count": null,
   "id": "a8718368-53b2-47ac-bcb6-c08065d5a05f",
   "metadata": {},
   "outputs": [],
   "source": [
    "import pickle\n",
    "with open('../../../Projects/MinnieColumn/notebooks/paper_versions/v507/data/ctype_hues.pkl', 'br') as f:\n",
    "    ctype_hues = pickle.load(f)"
   ]
  },
  {
   "cell_type": "code",
   "execution_count": null,
   "id": "c513d2f3-cc49-4d1a-9108-b6ddafcdd6f7",
   "metadata": {},
   "outputs": [],
   "source": [
    "feat_df.cell_type.isnull().sum()"
   ]
  },
  {
   "cell_type": "code",
   "execution_count": null,
   "id": "320b9eb2-c9bc-4236-82d9-8701f6e8a288",
   "metadata": {},
   "outputs": [],
   "source": [
    "fig, ax = plt.subplots(figsize=(4, 4), dpi=300)\n",
    "feat_df.merge(\n",
    "    ct_df[[\"pt_root_id\", \"cell_type\"]].rename(columns={\"pt_root_id\": \"root_id\"}),\n",
    "    how=\"left\",\n",
    "    on=\"root_id\",\n",
    ")\n",
    "\n",
    "sns.scatterplot(\n",
    "    x=\"umap0\",\n",
    "    y=\"umap1\",\n",
    "    data=feat_df,\n",
    "    s=2,\n",
    "    alpha=0.2,\n",
    "    color='k',\n",
    ")\n",
    "\n",
    "sns.scatterplot(\n",
    "    x=\"umap0\",\n",
    "    y=\"umap1\",\n",
    "    data=feat_df.query('cell_type != \"Unsure I\"'),\n",
    "    s=10,\n",
    "    hue=\"cell_type\",\n",
    "    palette={\n",
    "        \"PYC\": [0.3, 0.3, 0.3],\n",
    "        \"BC\": (0.0, 0.10980392156862745, 0.4980392156862745),\n",
    "        \"BPC\": (0.07058823529411765, 0.44313725490196076, 0.10980392156862745),\n",
    "        \"MC\": (0.5490196078431373, 0.03137254901960784, 0.0),\n",
    "        \"NGC\": (0.7215686274509804, 0.5215686274509804, 0.0392156862745098),\n",
    "    },\n",
    ")\n",
    "\n",
    "ax.legend().set_bbox_to_anchor((1,1))"
   ]
  },
  {
   "cell_type": "code",
   "execution_count": null,
   "id": "5f2669bc-c689-4862-95aa-0cda41fedffe",
   "metadata": {},
   "outputs": [],
   "source": [
    "import phenograph\n",
    "\n",
    "from sklearn import ensemble, model_selection"
   ]
  },
  {
   "cell_type": "code",
   "execution_count": null,
   "id": "81d6779d-c9d0-4d51-9e0e-d42e854bb270",
   "metadata": {},
   "outputs": [],
   "source": [
    "from xgboost import XGBClassifier\n",
    "from bidict import bidict\n",
    "\n",
    "bst = XGBClassifier(n_estimators=10, max_depth=7, learning_rate=1, objective='binary:logistic')"
   ]
  },
  {
   "cell_type": "code",
   "execution_count": null,
   "id": "99f7308f-942a-4249-a4a7-48c19814313d",
   "metadata": {},
   "outputs": [],
   "source": [
    "feat_df['is_exc'] = (feat_df['cell_type']==\"PYC\").astype(int)"
   ]
  },
  {
   "cell_type": "code",
   "execution_count": null,
   "id": "177da652-35e0-4ebd-b5fd-9c9ef52994f6",
   "metadata": {},
   "outputs": [],
   "source": [
    "model_selection.cross_validate(\n",
    "    bst,\n",
    "    feat_df.dropna(subset='cell_type')[feat_cols_nospace],\n",
    "    feat_df.dropna(subset='cell_type')['is_exc'],\n",
    "    cv=5,\n",
    ")"
   ]
  },
  {
   "cell_type": "code",
   "execution_count": null,
   "id": "6352dd6b-7bb8-4f9d-8d71-3fe6d4c1b5d4",
   "metadata": {},
   "outputs": [],
   "source": [
    "bst.fit(\n",
    "    feat_df.dropna(subset=\"cell_type\")[feat_cols],\n",
    "    feat_df.dropna(subset=\"cell_type\")[\"is_exc\"],\n",
    ")\n",
    "feat_df['is_exc_pred'] = bst.predict(feat_df[feat_cols])\n",
    "feat_df['is_exc_pred'].replace({1: True, 0: False}, inplace=True)"
   ]
  },
  {
   "cell_type": "code",
   "execution_count": null,
   "id": "f403321e-9998-4261-980d-f5a9813def95",
   "metadata": {},
   "outputs": [],
   "source": [
    "i_oids = feat_df.query('~is_exc_pred')['root_id'].values\n",
    "raw_df_i = raw_df.query('root_id in @i_oids')\n",
    "(\n",
    "    feat_df_i,\n",
    "    feat_cols_i,\n",
    "    syn_pca_i,\n",
    "    br_svd_i,\n",
    "    keep_depth_i,\n",
    "    ego_pca_i,\n",
    "    model_dict_i,\n",
    ") = skel_features.assembly.assemble_features_from_data(raw_df_i.dropna(), n_syn_comp=8, n_branch_comp=3, n_syn_ego=5)\n",
    "\n",
    "idf = feat_df_i.dropna()\n",
    "\n",
    "idf = idf.merge(\n",
    "    ct_df[['pt_root_id', 'cell_type']].rename(columns={'pt_root_id':'root_id'}),\n",
    "    how='left',\n",
    "    on='root_id',\n",
    ")"
   ]
  },
  {
   "cell_type": "code",
   "execution_count": null,
   "id": "41aa9214-a080-44e6-b692-c81abf4d8d59",
   "metadata": {},
   "outputs": [],
   "source": [
    "bst = XGBClassifier(n_estimators=10, max_depth=7, learning_rate=1, objective='multi:softmax')\n",
    "\n",
    "ct_map = bidict(\n",
    "    {'BC': 0, 'MC': 1, 'NGC': 2, 'BPC': 3}\n",
    ")\n",
    "\n",
    "idftr = idf.dropna(subset='cell_type').query('cell_type!=\"Unsure I\"')\n",
    "idftr['cell_type_int'] = idftr['cell_type'].replace(ct_map)\n",
    "\n",
    "model_selection.cross_validate(\n",
    "    bst,\n",
    "    idftr[feat_cols_i],\n",
    "    idftr['cell_type_int'],\n",
    "    cv=6,\n",
    ")"
   ]
  },
  {
   "cell_type": "code",
   "execution_count": null,
   "id": "4760e7ed-d74c-4eed-8f67-fddf810e17d3",
   "metadata": {},
   "outputs": [],
   "source": [
    "bst = XGBClassifier(n_estimators=10, max_depth=7, learning_rate=1, objective='multi:softmax')\n",
    "\n",
    "bst.fit(\n",
    "    idftr[feat_cols_i],\n",
    "    idftr[\"cell_type_int\"],\n",
    ")\n",
    "idf['ct_pred'] = bst.predict(idf[feat_cols_i])\n",
    "idf['ct_pred'].replace(ct_map.inv, inplace=True)"
   ]
  },
  {
   "cell_type": "code",
   "execution_count": null,
   "id": "0ecf9de0-ab03-4aa8-9a93-81bdbe142ec1",
   "metadata": {},
   "outputs": [],
   "source": [
    "dat = idf[feat_cols_i].values\n",
    "datz = stats.zscore(dat)\n",
    "\n",
    "resi = umap.UMAP(metric=\"euclidean\", min_dist=0.05, n_neighbors=30)\n",
    "X = resi.fit_transform(datz)\n",
    "idf[\"umap0\"] = X[:, 0]\n",
    "idf[\"umap1\"] = X[:, 1]"
   ]
  },
  {
   "cell_type": "code",
   "execution_count": null,
   "id": "0c341610-fc75-425e-8e64-1d0072d5ab1a",
   "metadata": {},
   "outputs": [],
   "source": [
    "fig, ax = plt.subplots(figsize=(5,5), dpi=150)\n",
    "sns.scatterplot(\n",
    "    x='umap0',\n",
    "    y='umap1',\n",
    "    color=(0.5, 0.5, 0.5),\n",
    "    alpha=0.5,\n",
    "    data=idf,\n",
    "    s=10,\n",
    ")\n",
    "sns.scatterplot(\n",
    "    x='umap0',\n",
    "    y='umap1',\n",
    "    hue='cell_type',\n",
    "    palette='Set1',\n",
    "    data=idf.dropna(subset='cell_type').query('cell_type!=\"Unsure I\"'),\n",
    "    s=10,\n",
    ")\n",
    "ax.set_aspect('equal')"
   ]
  },
  {
   "cell_type": "code",
   "execution_count": null,
   "id": "cf22fc00-ac7c-4dda-8c94-67c99b4d4008",
   "metadata": {},
   "outputs": [],
   "source": [
    "ct_hues = {ct: clr for ct, clr in zip(['BC', 'MC', 'BPC', 'NGC'], sns.color_palette('Dark2', n_colors=4))}"
   ]
  },
  {
   "cell_type": "code",
   "execution_count": null,
   "id": "a22c2cf2-b0de-4f58-8e96-711f8a552199",
   "metadata": {},
   "outputs": [],
   "source": [
    "fig, ax = plt.subplots(figsize=(5,5), dpi=300)\n",
    "sns.scatterplot(\n",
    "    x='umap0',\n",
    "    y='umap1',\n",
    "    # color=(0.5, 0.5, 0.5),\n",
    "    hue='ct_pred',\n",
    "    palette=ct_hues,\n",
    "    alpha=0.5,\n",
    "    data=idf,\n",
    "    s=10,\n",
    ")\n",
    "sns.scatterplot(\n",
    "    x='umap0',\n",
    "    y='umap1',\n",
    "    hue='cell_type',\n",
    "    palette=ct_hues,\n",
    "    data=idf.dropna(subset='cell_type').query('cell_type!=\"Unsure I\"'),\n",
    "    s=10,\n",
    "    edgecolor='k',\n",
    "    legend=False,\n",
    ")\n",
    "ax.set_aspect('equal')\n",
    "ax.legend().set_bbox_to_anchor((1,1))"
   ]
  },
  {
   "cell_type": "code",
   "execution_count": null,
   "id": "dc321b13-cc04-4fa4-92bd-bc701ca81686",
   "metadata": {},
   "outputs": [],
   "source": [
    "G, _, _ = phenograph.cluster(\n",
    "    datz,\n",
    "    clustering_algo=\"leiden\",\n",
    "    k=10,\n",
    "    primary_metric=\"euclidean\",\n",
    "    resolution_parameter=1.2,\n",
    ")\n",
    "idf[\"clust\"] = G"
   ]
  },
  {
   "cell_type": "code",
   "execution_count": null,
   "id": "51befe5a-20aa-4154-a404-c7d3b97dcbe9",
   "metadata": {},
   "outputs": [],
   "source": [
    "idf.pivot_table(\n",
    "    index='clust',\n",
    "    columns='ct_pred',\n",
    "    values='root_id',\n",
    "    aggfunc='count',\n",
    "    fill_value=0,\n",
    ")"
   ]
  },
  {
   "cell_type": "code",
   "execution_count": null,
   "id": "d23eb840-00d8-4f59-a368-ad70f4e8f652",
   "metadata": {},
   "outputs": [],
   "source": [
    "from nglui import statebuilder"
   ]
  },
  {
   "cell_type": "code",
   "execution_count": null,
   "id": "1f7195aa-8dfa-49aa-8330-9ff4816a2615",
   "metadata": {},
   "outputs": [],
   "source": [
    "idf_s = idf.merge(\n",
    "    df[['pt_root_id', 'pt_position']],\n",
    "    left_on='root_id',\n",
    "    right_on='pt_root_id',\n",
    "    how='left',\n",
    ")"
   ]
  },
  {
   "cell_type": "code",
   "execution_count": null,
   "id": "e4001782-36bf-4f5f-a747-eb3115e08924",
   "metadata": {},
   "outputs": [],
   "source": [
    "idf_s.query('soma_depth < 110').groupby('ct_pred').count()"
   ]
  },
  {
   "cell_type": "code",
   "execution_count": null,
   "id": "6930c6ab-6687-4c6c-be15-9036dcba62a5",
   "metadata": {},
   "outputs": [],
   "source": [
    "idf = idf.merge(\n",
    "    df[['pt_root_id', 'id']],\n",
    "    left_on='root_id',\n",
    "    right_on='pt_root_id',\n",
    "    validate='1:1',\n",
    ")"
   ]
  },
  {
   "cell_type": "code",
   "execution_count": null,
   "id": "8121335d-b60c-4ca1-aec5-17cf04e7a86c",
   "metadata": {},
   "outputs": [],
   "source": [
    "# client.annotation.create_table(\n",
    "#     table_name='cell_type_skel_features_v1',\n",
    "#     schema_name='cell_type_reference',\n",
    "#     description='Cell type predictions for single nucleus objects within 175 microns of the centerline and with nucleus volume greater than 218, based on dendritic skeleton features similar to those in Schneider-Mizell et al. 2023. Classification system has excitatory and inhibitory info, cell type is more detailed, with four inhibitory types (Soma-targeting ProxTC, Dendrite-targeting DistTC, Inhibitory-targeting InhTC, and Sparsely targeting SparTC) and excitatory neurons labeled by layer and projection class for layer five: IT, NP, ET.',\n",
    "#     voxel_resolution=[1,1,1],\n",
    "#     reference_table='nucleus_detection_v0',\n",
    "#     track_target_id_updates=True,\n",
    "# )"
   ]
  },
  {
   "cell_type": "code",
   "execution_count": null,
   "id": "3b8a7e76-3c65-4b7d-942e-2d1a169f8bf7",
   "metadata": {},
   "outputs": [],
   "source": [
    "stage = client.annotation.stage_annotations('cell_type_skel_features_v1')"
   ]
  },
  {
   "cell_type": "code",
   "execution_count": null,
   "id": "52842e29-6342-4d05-9cd8-1b82f8c0ed78",
   "metadata": {},
   "outputs": [],
   "source": [
    "inh_replace = {'BC': 'ProxTC', 'MC': 'DistTC', 'BPC': 'InhTC', 'NGC': 'SparTC'}"
   ]
  },
  {
   "cell_type": "code",
   "execution_count": null,
   "id": "012801ed-a6f3-4447-949c-9a9047a9ceed",
   "metadata": {},
   "outputs": [],
   "source": [
    "idf['classification'] = 'inhibitory'"
   ]
  },
  {
   "cell_type": "code",
   "execution_count": null,
   "id": "98321a8f-955b-4ef4-9b42-faab42d24888",
   "metadata": {},
   "outputs": [],
   "source": [
    "stage.add?"
   ]
  },
  {
   "cell_type": "code",
   "execution_count": null,
   "id": "2d2892ec-1b6b-4f91-9c2c-69d53f0db5ba",
   "metadata": {},
   "outputs": [],
   "source": [
    "for _, row in idf.iterrows():\n",
    "    stage.add(\n",
    "        cell_type = inh_replace.get(row['ct_pred']),\n",
    "        classification_system='inhibitory',\n",
    "        target_id=row['id'],\n",
    "    )"
   ]
  },
  {
   "cell_type": "code",
   "execution_count": null,
   "id": "ec1828e3-7d27-465e-8692-81b65b7dea14",
   "metadata": {},
   "outputs": [],
   "source": [
    "client.annotation.upload_staged_annotations(stage)"
   ]
  },
  {
   "cell_type": "code",
   "execution_count": null,
   "id": "986e6be2-2809-4181-898e-f704bcf03182",
   "metadata": {},
   "outputs": [],
   "source": [
    "img, seg = statebuilder.from_client(client)\n",
    "annos = []\n",
    "for ct, clr in zip(sorted(idf_s['ct_pred'].unique()), sns.palettes.color_palette('tab20', n_colors=len(np.unique(idf_s['ct_pred'])))):\n",
    "    annos.append(\n",
    "        statebuilder.AnnotationLayerConfig(\n",
    "            ct,\n",
    "            mapping_rules=statebuilder.PointMapper('pt_position', linked_segmentation_column='pt_root_id'),\n",
    "            filter_query=f\"ct_pred=='{ct}'\",\n",
    "            color=clr,\n",
    "            data_resolution=[1,1,1],\n",
    "            linked_segmentation_layer=seg.name,\n",
    "        )\n",
    "    )\n",
    "sb = statebuilder.StateBuilder([img, seg]+annos, client=client)"
   ]
  },
  {
   "cell_type": "code",
   "execution_count": null,
   "id": "6b635cf2-8f55-4d40-9600-684d8fb9cdb3",
   "metadata": {},
   "outputs": [],
   "source": [
    "sb.render_state(\n",
    "    idf_s.query('cell_type not in @ct_hues').sort_values(by='soma_depth'),\n",
    "    return_as='html',\n",
    ")"
   ]
  },
  {
   "cell_type": "code",
   "execution_count": null,
   "id": "9e5969d5-b53f-4ded-bf3e-cfca0c52ab0c",
   "metadata": {},
   "outputs": [],
   "source": [
    "idf.groupby('ct_pred').count()"
   ]
  },
  {
   "cell_type": "code",
   "execution_count": null,
   "id": "c88badf2-a354-4007-a2a7-9215be60075a",
   "metadata": {},
   "outputs": [],
   "source": [
    "fig, ax = plt.subplots(figsize=(5,5), dpi=150)\n",
    "sns.scatterplot(\n",
    "    x='umap0',\n",
    "    y='umap1',\n",
    "    color=(0.5, 0.5, 0.5),\n",
    "    alpha=0.5,\n",
    "    data=idf,\n",
    "    s=5,\n",
    ")\n",
    "sns.scatterplot(\n",
    "    x='umap0',\n",
    "    y='umap1',\n",
    "    hue='clust',\n",
    "    palette='tab20',\n",
    "    data=idf,\n",
    "    s=5,\n",
    ")\n",
    "ax.legend().set_bbox_to_anchor((1,1))\n",
    "ax.set_aspect('equal')"
   ]
  },
  {
   "cell_type": "code",
   "execution_count": null,
   "id": "3d7cfe9b-0271-44cb-aad9-ddbf60fed4ec",
   "metadata": {},
   "outputs": [],
   "source": [
    "idf_s = idf.merge(\n",
    "    df[['pt_root_id', 'pt_position']],\n",
    "    left_on='root_id',\n",
    "    right_on='pt_root_id',\n",
    "    how='left',\n",
    ")"
   ]
  },
  {
   "cell_type": "code",
   "execution_count": null,
   "id": "28994796-d66d-4280-889b-798bf70efe4e",
   "metadata": {},
   "outputs": [],
   "source": [
    "from xgboost import XGBClassifier\n",
    "from bidict import bidict\n",
    "\n",
    "\n"
   ]
  },
  {
   "cell_type": "code",
   "execution_count": null,
   "id": "1fd86d43-0b1a-4ea2-b576-255db58dc414",
   "metadata": {},
   "outputs": [],
   "source": [
    "bst = XGBClassifier(n_estimators=10, max_depth=7, learning_rate=1, objective='multi:softmax')\n",
    "idftr = idf.dropna(subset='cell_type').query('cell_type!=\"Unsure I\"')\n",
    "idftr['cell_type_int'] = idftr['cell_type'].replace(ct_map)\n",
    "bst.fit(\n",
    "    idftr[feat_cols_i],\n",
    "    idftr['cell_type_int'],\n",
    ")\n"
   ]
  },
  {
   "cell_type": "code",
   "execution_count": null,
   "id": "6bee870f-e667-4717-a9aa-00ede8e4f986",
   "metadata": {},
   "outputs": [],
   "source": [
    "idf['ct_pred_xgb'] = bst.predict(idf[feat_cols_i])\n",
    "idf['ct_pred_xgb'] = idf['ct_pred_xgb'].replace(ct_map.inv)"
   ]
  },
  {
   "cell_type": "code",
   "execution_count": null,
   "id": "4d3b46c1-d317-4a21-8d82-0799e7977374",
   "metadata": {},
   "outputs": [],
   "source": [
    "idf_s = idf.merge(\n",
    "    df[['pt_root_id', 'pt_position']],\n",
    "    left_on='root_id',\n",
    "    right_on='pt_root_id',\n",
    "    how='left',\n",
    ")"
   ]
  },
  {
   "cell_type": "code",
   "execution_count": null,
   "id": "76071c8e-3896-40db-abb6-3db54a29875f",
   "metadata": {},
   "outputs": [],
   "source": [
    "img, seg = statebuilder.from_client(client)\n",
    "\n",
    "annos = []\n",
    "for ct, clr in zip(\n",
    "    np.unique(idf_s[\"ct_pred_xgb\"]),\n",
    "    sns.palettes.color_palette(\"husl\", n_colors=len(np.unique(idf_s[\"ct_pred_xgb\"]))),\n",
    "):\n",
    "    annos.append(\n",
    "        statebuilder.AnnotationLayerConfig(\n",
    "            f\"{ct}\",\n",
    "            mapping_rules=statebuilder.PointMapper(\n",
    "                \"pt_position\", linked_segmentation_column=\"pt_root_id\"\n",
    "            ),\n",
    "            filter_query=f\"ct_pred_xgb=='{ct}'\",\n",
    "            color=clr,\n",
    "            data_resolution=[1, 1, 1],\n",
    "            linked_segmentation_layer=seg.name,\n",
    "        )\n",
    "    )\n",
    "sb = statebuilder.StateBuilder([img, seg] + annos, client=client)"
   ]
  },
  {
   "cell_type": "code",
   "execution_count": null,
   "id": "8040d2e2-856f-4adb-8931-50c0a8c03f13",
   "metadata": {},
   "outputs": [],
   "source": [
    "sb.render_state(idf_s, return_as='html')"
   ]
  },
  {
   "cell_type": "code",
   "execution_count": null,
   "id": "152c947b-22c5-4b35-a68e-b161454aac98",
   "metadata": {},
   "outputs": [],
   "source": [
    "feat_df.query('is_exc_pred')"
   ]
  },
  {
   "cell_type": "markdown",
   "id": "ce1020ac-f91d-47fd-89ac-30d2466d465f",
   "metadata": {},
   "source": [
    "Excitatory neurons"
   ]
  },
  {
   "cell_type": "code",
   "execution_count": null,
   "id": "f7468cef-fef3-41f0-99c1-248b75ff4411",
   "metadata": {},
   "outputs": [],
   "source": [
    "# e_oids = feat_df.query('is_exc_pred')['root_id'].values\n",
    "e_oids = e_oids[~np.isin(e_oids, bad_l4)]\n",
    "raw_df_e = raw_df.query('root_id in @e_oids')\n",
    "(\n",
    "    feat_df_e,\n",
    "    feat_cols,\n",
    "    syn_pca,\n",
    "    br_svd,\n",
    "    keep_depth,\n",
    "    ego_pca,\n",
    "    model_dict_e,\n",
    ") = skel_features.assembly.assemble_features_from_data(raw_df_e.dropna(), n_syn_comp=10, n_branch_comp=3, n_syn_ego=5)\n",
    "\n",
    "edf = feat_df_e.dropna()\n",
    "\n",
    "feat_cols.pop(16)"
   ]
  },
  {
   "cell_type": "code",
   "execution_count": null,
   "id": "28517300-c611-4e7f-bf82-36e530195a79",
   "metadata": {},
   "outputs": [],
   "source": [
    "dat = edf[feat_cols].values\n",
    "datz = stats.zscore(dat)\n",
    "\n",
    "rese = umap.UMAP(metric=\"euclidean\", n_components=2, min_dist=0.05, n_neighbors=20)\n",
    "X = rese.fit_transform(datz)\n",
    "edf[\"umap0\"] = X[:, 0]\n",
    "edf[\"umap1\"] = X[:, 1]"
   ]
  },
  {
   "cell_type": "code",
   "execution_count": null,
   "id": "c8d0a773-d00a-4272-8add-cce3e48a4e9d",
   "metadata": {},
   "outputs": [],
   "source": [
    "fig, ax = plt.subplots(figsize=(5,5), dpi=150)\n",
    "sns.scatterplot(\n",
    "    x='umap0',\n",
    "    y='umap1',\n",
    "    hue='soma_depth',\n",
    "    palette='magma',\n",
    "    data=edf,\n",
    "    s=2,\n",
    "    alpha=0.7,\n",
    ")"
   ]
  },
  {
   "cell_type": "code",
   "execution_count": null,
   "id": "93728999-ac9e-423c-8d3a-81cf8020eb43",
   "metadata": {},
   "outputs": [],
   "source": [
    "def relabel_sorted(df, label_column, sort_column, ascending=True):\n",
    "    sorted_label = (\n",
    "        df.groupby(label_column)\n",
    "        .agg({sort_column: \"mean\"})\n",
    "        .sort_values(by=sort_column, ascending=ascending)\n",
    "        .index.values\n",
    "    )\n",
    "    relabel_index = {x: ii for ii, x in enumerate(sorted_label)}\n",
    "    df[label_column] = df[label_column].apply(lambda x: relabel_index[x])"
   ]
  },
  {
   "cell_type": "code",
   "execution_count": null,
   "id": "356151fe-9cd6-4f74-ab65-0e72138d0d17",
   "metadata": {},
   "outputs": [],
   "source": [
    "import tqdm"
   ]
  },
  {
   "cell_type": "code",
   "execution_count": null,
   "id": "83768de6-756d-4f9c-87f9-d6a935fb5985",
   "metadata": {},
   "outputs": [],
   "source": [
    "edf = edf.reset_index(drop=True)"
   ]
  },
  {
   "cell_type": "code",
   "execution_count": null,
   "id": "eed35f33-3727-4d12-a1ce-779631e7005f",
   "metadata": {},
   "outputs": [],
   "source": [
    "ntimes = 100\n",
    "hold_out = 0.95\n",
    "\n",
    "res_param = 2\n",
    "kph = 15\n",
    "\n",
    "dat = edf[feat_cols].values\n",
    "datz_all = stats.zscore(dat)\n",
    "\n",
    "df_groups = pd.DataFrame(index=edf.index.astype(int))\n",
    "for ii in tqdm.tqdm(np.arange(ntimes)):\n",
    "    subset_inds = np.sort(\n",
    "        np.random.choice(\n",
    "            np.arange(dat.shape[0]),\n",
    "            size=np.round(hold_out * dat.shape[0]).astype(int),\n",
    "            replace=False,\n",
    "        )\n",
    "    )\n",
    "    \n",
    "    datz = datz_all[subset_inds]\n",
    "\n",
    "    labels, G, Q = phenograph.cluster(\n",
    "        datz, clustering_algo=\"leiden\", k=kph, resolution_parameter=res_param,\n",
    "    )\n",
    "\n",
    "    colname = f\"r_k{kph}_{ii}\"\n",
    "    df_groups.loc[subset_inds, colname] = labels\n",
    "\n",
    "# if save_plots:\n",
    "# df_groups.to_pickle(\"df_groups_onehot_100_v5.pickle\")"
   ]
  },
  {
   "cell_type": "code",
   "execution_count": null,
   "id": "05974c6b-f5df-4188-a949-8159baed8937",
   "metadata": {},
   "outputs": [],
   "source": [
    "def eq_nan_dist(u, v):\n",
    "    no_nan = ~pd.isna(u + v)\n",
    "    is_eq = np.equal(u[no_nan], v[no_nan])\n",
    "    return is_eq.astype(int).sum()\n",
    "\n",
    "from scipy import spatial\n",
    "\n",
    "N_co = spatial.distance.pdist(df_groups, eq_nan_dist)\n",
    "N_square = spatial.distance.squareform(N_co)\n",
    "\n",
    "from sklearn import cluster, metrics\n",
    "\n",
    "n_cl = []\n",
    "sils = []\n",
    "dbscores=[]\n",
    "for k in np.arange(2,30):\n",
    "    n_cl.append(k)\n",
    "    model = cluster.AgglomerativeClustering(\n",
    "        n_clusters=k,\n",
    "        affinity=\"precomputed\",\n",
    "        linkage=\"complete\",\n",
    "        compute_distances=True,\n",
    "        compute_full_tree=True,\n",
    "    )\n",
    "    l = model.fit_predict(-N_square)\n",
    "    sils.append(metrics.silhouette_score(N_square, l))\n",
    "    dbscores.append(metrics.davies_bouldin_score(N_square, l))"
   ]
  },
  {
   "cell_type": "code",
   "execution_count": null,
   "id": "0a3f6953-3242-49c9-979a-9cbf320c6c03",
   "metadata": {},
   "outputs": [],
   "source": [
    "n_cl = []\n",
    "sils = []\n",
    "dbscores=[]\n",
    "for k in np.arange(20,40):\n",
    "    n_cl.append(k)\n",
    "    model = cluster.AgglomerativeClustering(\n",
    "        n_clusters=k,\n",
    "        metric=\"precomputed\",\n",
    "        linkage=\"complete\",\n",
    "        compute_distances=True,\n",
    "        compute_full_tree=True,\n",
    "    )\n",
    "    l = model.fit_predict(-N_square)\n",
    "    sils.append(metrics.silhouette_score(N_square, l))\n",
    "    dbscores.append(metrics.davies_bouldin_score(N_square, l))"
   ]
  },
  {
   "cell_type": "code",
   "execution_count": null,
   "id": "aed55cff-74b0-452d-8027-d2c9374d6a48",
   "metadata": {},
   "outputs": [],
   "source": [
    "n_cl[9]"
   ]
  },
  {
   "cell_type": "code",
   "execution_count": null,
   "id": "3093009b-ebf4-4112-8d85-c77c017a3e1f",
   "metadata": {},
   "outputs": [],
   "source": [
    "fig, ax = plt.subplots(figsize=(3, 3), nrows=2, sharex=True)\n",
    "rel_ind = 9\n",
    "ax[0].plot(n_cl, dbscores, color='k')\n",
    "ax[0].plot(n_cl[rel_ind], dbscores[rel_ind], 'ro')\n",
    "ax[0].set_ylabel('Davies-Bouldin')\n",
    "\n",
    "ax[1].plot(n_cl, sils, color='k')\n",
    "ax[1].plot(n_cl[rel_ind], sils[rel_ind], 'ro')\n",
    "ax[1].set_ylabel('Silhouette')\n",
    "_ = ax[1].set_xticks(np.arange(0, 20, 5))\n",
    "\n",
    "sns.despine(ax=ax[0])\n",
    "sns.despine(ax=ax[1])"
   ]
  },
  {
   "cell_type": "code",
   "execution_count": null,
   "id": "05b117cf-f619-434f-8fa4-fd54951c729e",
   "metadata": {},
   "outputs": [],
   "source": []
  },
  {
   "cell_type": "code",
   "execution_count": null,
   "id": "62cea9c0-9d43-4700-a790-af97328d457c",
   "metadata": {},
   "outputs": [],
   "source": [
    "model = cluster.AgglomerativeClustering(\n",
    "    n_clusters=n_cl[rel_ind],\n",
    "    metric=\"precomputed\",\n",
    "    linkage=\"complete\",\n",
    "    compute_distances=True,\n",
    "    compute_full_tree=True,\n",
    ")\n",
    "l = model.fit_predict(-N_square)"
   ]
  },
  {
   "cell_type": "code",
   "execution_count": null,
   "id": "368a13ea-512f-4081-962b-675078dc90b9",
   "metadata": {},
   "outputs": [],
   "source": [
    "edf['clust'] = l\n",
    "relabel_sorted(edf, \"clust\", \"soma_depth\")"
   ]
  },
  {
   "cell_type": "code",
   "execution_count": null,
   "id": "953e51c6-cf4e-41f6-9f50-3708a423e031",
   "metadata": {},
   "outputs": [],
   "source": [
    "G, _, _ = phenograph.cluster(\n",
    "    datz,\n",
    "    clustering_algo=\"leiden\",\n",
    "    k=15,\n",
    "    primary_metric=\"euclidean\",\n",
    "    resolution_parameter=2,\n",
    ")\n",
    "edf[\"clust\"] = G\n"
   ]
  },
  {
   "cell_type": "code",
   "execution_count": null,
   "id": "fb440f8e-0856-4deb-bace-214e014674de",
   "metadata": {},
   "outputs": [],
   "source": [
    "fig, ax = plt.subplots(figsize=(5, 5), dpi=300)\n",
    "sns.scatterplot(\n",
    "    x=\"umap0\",\n",
    "    y=\"umap1\",\n",
    "    hue=\"clust_str\",\n",
    "    palette=\"tab20\",\n",
    "    data=edf,\n",
    "    alpha=0.4,\n",
    "    s=3,\n",
    "    ax=ax,\n",
    ")\n",
    "# sns.scatterplot(\n",
    "#     x=\"umap0\",\n",
    "#     y=\"umap1\",\n",
    "#     data=edf.query('clust==18'),\n",
    "#     color='k',\n",
    "#     s=5,\n",
    "#     ax=ax,\n",
    "# )\n",
    "\n",
    "ax.legend().set_bbox_to_anchor((1,1))"
   ]
  },
  {
   "cell_type": "code",
   "execution_count": null,
   "id": "fcdd63ae-8805-406f-87f6-7219b39f5e48",
   "metadata": {},
   "outputs": [],
   "source": [
    "layer_bnds  = [100, 270, 400, 550, 750]\n",
    "\n",
    "fig, ax = plt.subplots(dpi=200, figsize=(6,3))\n",
    "sns.stripplot(\n",
    "    x='clust_str',\n",
    "    y='soma_depth',\n",
    "    hue='clust_str',\n",
    "    palette='tab20',\n",
    "    data=edf,\n",
    "    s=2,\n",
    "    alpha=0.1,\n",
    "    ax=ax,\n",
    "    legend=False,\n",
    ")\n",
    "ax.hlines(layer_bnds, *ax.get_xlim(), linestyle=':', color='k', linewidth=1, zorder=-20)\n",
    "sns.despine(ax=ax)\n",
    "ax.invert_yaxis()"
   ]
  },
  {
   "cell_type": "code",
   "execution_count": null,
   "id": "a93c5f25-3205-4f2e-bfd6-5de9d5774d49",
   "metadata": {},
   "outputs": [],
   "source": [
    "# bad_l4 = edf.query('clust in [8]')['root_id'].values"
   ]
  },
  {
   "cell_type": "code",
   "execution_count": null,
   "id": "c56e1bb7-e973-4f28-bcbb-02fa36632c09",
   "metadata": {},
   "outputs": [],
   "source": [
    "val = 'num_syn_dendrite'\n",
    "\n",
    "fig, ax = plt.subplots(dpi=200, figsize=(6,3))\n",
    "sns.stripplot(\n",
    "    x='clust',\n",
    "    y=val,\n",
    "    hue='clust',\n",
    "    palette='tab20',\n",
    "    data=edf,\n",
    "    s=2,\n",
    "    alpha=0.1,\n",
    "    ax=ax,\n",
    "    legend=False,\n",
    ")\n",
    "\n",
    "sns.pointplot(\n",
    "    x='clust',\n",
    "    y=val,\n",
    "    color='k',\n",
    "    estimator='median',\n",
    "    data=edf,\n",
    "    ax=ax,\n",
    "    join=False,\n",
    ")\n",
    "# ax.hlines(layer_bnds, *ax.get_xlim(), linestyle=':', color='k', linewidth=1, zorder=-20)\n",
    "# ax.invert_yaxis()\n",
    "sns.despine(ax=ax)"
   ]
  },
  {
   "cell_type": "code",
   "execution_count": null,
   "id": "e911b210-9b65-4c68-b28b-74bffebfc506",
   "metadata": {},
   "outputs": [],
   "source": [
    "fig, ax = plt.subplots(figsize=(3,3), dpi=300)\n",
    "sns.scatterplot(\n",
    "    x=\"umap0\",\n",
    "    y=\"umap1\",\n",
    "    hue=\"num_syn_dendrite\",\n",
    "    hue_norm=(1000, 15000),\n",
    "    palette=\"magma\",\n",
    "    data=edf,\n",
    "    s=1,\n",
    "    legend=False\n",
    ")"
   ]
  },
  {
   "cell_type": "code",
   "execution_count": null,
   "id": "bf501b5c-9866-4ff2-8dc8-9d7cd19ee915",
   "metadata": {},
   "outputs": [],
   "source": [
    "edf['num_syn_total']  = edf['num_syn_dendrite'] + edf['num_syn_soma']\n",
    "\n",
    "fig, ax = plt.subplots(figsize=(3, 6), dpi=300)\n",
    "sns.scatterplot(\n",
    "    x='syn_depth_dist_p5',\n",
    "    y='soma_depth',\n",
    "    hue='clust_str',\n",
    "    palette='tab20',\n",
    "    data=edf,\n",
    "    s=1,\n",
    ")\n",
    "ax.vlines(layer_bnds, *ax.get_ylim(), linestyle=':', color='k', linewidth=1, alpha=0.2, zorder=-20)\n",
    "\n",
    "ax.hlines(layer_bnds, *ax.get_xlim(), linestyle=':', color='k', linewidth=1, zorder=-20)\n",
    "\n",
    "ax.invert_yaxis()\n",
    "ax.set_aspect('equal')\n",
    "ax.legend().set_bbox_to_anchor((1,1))"
   ]
  },
  {
   "cell_type": "code",
   "execution_count": null,
   "id": "5fe1eec2-b24b-4b6b-a461-34f610f8ea43",
   "metadata": {},
   "outputs": [],
   "source": [
    "edf['num_syn_total']  = edf['num_syn_dendrite'] + edf['num_syn_soma']\n",
    "\n",
    "fig, ax = plt.subplots(figsize=(3, 6), dpi=300)\n",
    "sns.scatterplot(\n",
    "    x='syn_depth_dist_p95',\n",
    "    y='soma_depth',\n",
    "    hue='clust_str',\n",
    "    palette='tab20',\n",
    "    data=edf,\n",
    "    s=2,\n",
    "    alpha=0.1,\n",
    ")\n",
    "\n",
    "sns.scatterplot(\n",
    "    x='syn_depth_dist_p95',\n",
    "    y='soma_depth',\n",
    "    hue='clust_str',\n",
    "    palette='tab20',\n",
    "    data=edf.query('clust_str in [\"L4a\",\"L4b\",\"L4c\",\"L4d\"] or clust_str in [\"L6b\", \"L6g\"]'),\n",
    "    s=2,\n",
    "    edgecolor='k',\n",
    "    linewidth=0.05,\n",
    "    legend=None,\n",
    ")\n",
    "\n",
    "# ax.set_xlim(0,3)\n",
    "ax.hlines(layer_bnds, *ax.get_xlim(), linestyle=':', color='k', linewidth=1, zorder=-20)\n",
    "\n",
    "ax.invert_yaxis()\n",
    "# ax.set_aspect('equal')\n",
    "ax.legend().set_bbox_to_anchor((1,1))"
   ]
  },
  {
   "cell_type": "code",
   "execution_count": null,
   "id": "4a9b4b6d-4a6a-4c5c-b7d1-eedcda6560fb",
   "metadata": {},
   "outputs": [],
   "source": [
    "edf.query('soma_depth>300 and soma_depth<400 and max_density>1').root_id.values"
   ]
  },
  {
   "cell_type": "code",
   "execution_count": null,
   "id": "69e3fc08-0687-4410-833e-24b7f3b290a8",
   "metadata": {},
   "outputs": [],
   "source": [
    "val = 'syn_depth_dist_p95'\n",
    "\n",
    "fig, ax = plt.subplots(dpi=200, figsize=(6,3))\n",
    "sns.stripplot(\n",
    "    x='clust_str',\n",
    "    y=val,\n",
    "    hue='clust',\n",
    "    palette='tab20',\n",
    "    data=edf,\n",
    "    s=2,\n",
    "    alpha=0.1,\n",
    "    ax=ax,\n",
    "    legend=False,\n",
    ")\n",
    "\n",
    "sns.pointplot(\n",
    "    x='clust_str',\n",
    "    y=val,\n",
    "    color='k',\n",
    "    estimator='median',\n",
    "    data=edf,\n",
    "    ax=ax,\n",
    "    join=False,\n",
    ")\n",
    "# ax.hlines(layer_bnds, *ax.get_xlim(), linestyle=':', color='k', linewidth=1, zorder=-20)\n",
    "# ax.invert_yaxis()\n",
    "ax.set_xticks(ax.get_xticks(), ax.get_xticklabels(), rotation=45, ha='center')\n",
    "\n",
    "sns.despine(ax=ax)"
   ]
  },
  {
   "cell_type": "code",
   "execution_count": null,
   "id": "51a39863-38d7-41ef-8037-c979945d3e23",
   "metadata": {},
   "outputs": [],
   "source": [
    "pt_subtype = {\n",
    "    'L2': [0],\n",
    "    'L3': [1,2,3,4,5],\n",
    "    'L4': [6,7,8,9,10],\n",
    "    'L5': [11,15,17],\n",
    "    'L5ET': [12,13,14],\n",
    "    'L5NP': [16],\n",
    "    'L6': [18,19,20,21,22,23,24,25,26,27,28],\n",
    "}"
   ]
  },
  {
   "cell_type": "code",
   "execution_count": null,
   "id": "1800e348-8905-4fd0-a970-784c81a2c98f",
   "metadata": {},
   "outputs": [],
   "source": [
    "names_ord = list(name_rep.values())\n",
    "edf['clust_str'] = edf['clust_str'].astype(\n",
    "    pd.CategoricalDtype(\n",
    "        names_ord,\n",
    "        ordered=True\n",
    "    )\n",
    ")"
   ]
  },
  {
   "cell_type": "code",
   "execution_count": null,
   "id": "254af600-d3af-40c9-b1af-387bb7cd4b7e",
   "metadata": {},
   "outputs": [],
   "source": [
    "import string"
   ]
  },
  {
   "cell_type": "code",
   "execution_count": null,
   "id": "3ee0b832-db43-43c7-99ba-51518fb88860",
   "metadata": {},
   "outputs": [],
   "source": [
    "name_rep = {}\n",
    "for k, vl in pt_subtype.items():\n",
    "    if len(vl)>1:\n",
    "        for jth, jj in enumerate(vl):\n",
    "            name_rep[jj] = f\"{k}{string.ascii_lowercase[jth]}\"\n",
    "            ii = ii+1\n",
    "    else:\n",
    "        name_rep[vl[0]] = f\"{k}\""
   ]
  },
  {
   "cell_type": "code",
   "execution_count": null,
   "id": "07a3613d-4aff-4dbe-8110-5fc69d92f925",
   "metadata": {},
   "outputs": [],
   "source": [
    "edf['clust_str'] = edf['clust'].replace(name_rep)"
   ]
  },
  {
   "cell_type": "code",
   "execution_count": null,
   "id": "56a10dd0-57b1-4eaa-bf8f-e24d4c2056b5",
   "metadata": {},
   "outputs": [],
   "source": [
    "edf.query('clust_str.isna()')"
   ]
  },
  {
   "cell_type": "code",
   "execution_count": null,
   "id": "2dd8c1d1-d983-4f67-8bac-7bcfd7b3b52e",
   "metadata": {},
   "outputs": [],
   "source": [
    "edf['valence'] = 'excitatory'"
   ]
  },
  {
   "cell_type": "code",
   "execution_count": null,
   "id": "f32c1513-35b5-497f-8f63-25430ed379b3",
   "metadata": {},
   "outputs": [],
   "source": [
    "client.annotation.get_tables()"
   ]
  },
  {
   "cell_type": "code",
   "execution_count": null,
   "id": "39286aba-0d8e-4fee-8b48-a8e51f4b70e5",
   "metadata": {},
   "outputs": [],
   "source": [
    "desc = \"\"\"\n",
    "Clustering neurons based on dendritic features, without proofreading.\n",
    "Consensus clustering based on phenograph with resolution parameter = 2, leiden algorithm, k_neighbors = 15.\n",
    "Consensus of 100 runs with 5% dropout, 29 categories based on silhouette and Davies–Bouldin index.\n",
    "Excitatory names are based on depth-ordering within layer, with some continuity choices to define layer group.\n",
    "Good enough for exploratory analysis, probably, but not publication worthy.\n",
    "By Casey Schneider-Mizell.\n",
    "\"\"\""
   ]
  },
  {
   "cell_type": "code",
   "execution_count": null,
   "id": "4e1ac83b-35f4-4ef6-90b4-669e77614e04",
   "metadata": {},
   "outputs": [],
   "source": [
    "client.annotation.get_table_metadata('nucleus_detection_v0')"
   ]
  },
  {
   "cell_type": "code",
   "execution_count": null,
   "id": "28a2dda2-1e38-4fa0-82eb-643f1b465e88",
   "metadata": {},
   "outputs": [],
   "source": [
    "client.annotation.create_table(\n",
    "    'cell_type_skel_features_subtype_experimental',\n",
    "    'cell_type_reference',\n",
    "    description=desc,\n",
    "    voxel_resolution=[9,9,45],\n",
    "    reference_table='nucleus_detection_v0',\n",
    "    track_target_id_updates=True,\n",
    ")"
   ]
  },
  {
   "cell_type": "code",
   "execution_count": null,
   "id": "f64c3b01-66ab-47d0-a7d6-3872ba4c8bf9",
   "metadata": {},
   "outputs": [],
   "source": [
    "stage = client.annotation.stage_annotations('cell_type_skel_features_subtype_experimental')"
   ]
  },
  {
   "cell_type": "code",
   "execution_count": null,
   "id": "b2a09a81-000a-48a8-834f-dc32cdf07dfe",
   "metadata": {},
   "outputs": [],
   "source": [
    "for _, row in edf.iterrows():\n",
    "    stage.add(target_id=row['cell_id'], classification_system='excitatory', cell_type=row['clust_str'])"
   ]
  },
  {
   "cell_type": "code",
   "execution_count": null,
   "id": "ca6ccc04-cf13-4f45-a4ea-261987d9d085",
   "metadata": {},
   "outputs": [],
   "source": [
    "client.annotation.get_tables()"
   ]
  },
  {
   "cell_type": "code",
   "execution_count": null,
   "id": "bbf3fcc7-d55f-42b0-983d-322a601324d0",
   "metadata": {
    "jupyter": {
     "outputs_hidden": true
    }
   },
   "outputs": [],
   "source": [
    "client.annotation.get_annotation_count(\n",
    "    'cell_type_skel_features_subtype_experimental'\n",
    ")"
   ]
  },
  {
   "cell_type": "code",
   "execution_count": null,
   "id": "3c394d98-2a6c-4bcd-be06-c20d0ddf83a0",
   "metadata": {
    "jupyter": {
     "outputs_hidden": true
    }
   },
   "outputs": [],
   "source": [
    "edf.head()"
   ]
  },
  {
   "cell_type": "code",
   "execution_count": null,
   "id": "720eece7-00bf-487f-8974-b702bf684a09",
   "metadata": {},
   "outputs": [],
   "source": [
    "client.materialize.version"
   ]
  },
  {
   "cell_type": "code",
   "execution_count": null,
   "id": "ded3dad7-2fb0-40fc-81cb-9cd84e62c9a9",
   "metadata": {},
   "outputs": [],
   "source": [
    "edf"
   ]
  },
  {
   "cell_type": "code",
   "execution_count": null,
   "id": "78e4f0b0-725d-4c44-950f-03355b24c29b",
   "metadata": {},
   "outputs": [],
   "source": [
    "edf.to_feather('v1dd_cell_subclasses_experimental_v410.feather')"
   ]
  },
  {
   "cell_type": "code",
   "execution_count": null,
   "id": "f46e92b7-0275-4fa2-b556-de4fdecb8743",
   "metadata": {},
   "outputs": [],
   "source": [
    "edf['root_id'].values[47:50]"
   ]
  },
  {
   "cell_type": "code",
   "execution_count": null,
   "id": "bdd47f46-6d5e-40a2-9a14-e73fb0844641",
   "metadata": {},
   "outputs": [],
   "source": [
    "is_latest = client.chunkedgraph.is_latest_roots(edf['root_id'].values)"
   ]
  },
  {
   "cell_type": "code",
   "execution_count": null,
   "id": "b7947166-958b-4ed9-b464-07fa97eeffb8",
   "metadata": {},
   "outputs": [],
   "source": [
    "edf[~is_latest]"
   ]
  },
  {
   "cell_type": "code",
   "execution_count": null,
   "id": "d5233d34-54b1-46c2-8abc-179a31ad752f",
   "metadata": {},
   "outputs": [],
   "source": [
    "import tqdm"
   ]
  },
  {
   "cell_type": "code",
   "execution_count": null,
   "id": "73eb98ca-e01f-4791-94e9-8a62354a94c7",
   "metadata": {},
   "outputs": [],
   "source": [
    "suggest_latest = {}\n",
    "for root_id in tqdm.tqdm(edf[~is_latest].root_id.values):\n",
    "    suggest_latest[root_id] = client.chunkedgraph.suggest_latest_roots(root_id)"
   ]
  },
  {
   "cell_type": "code",
   "execution_count": null,
   "id": "d7f0f64f-c997-40c3-884d-f90a7d6fb795",
   "metadata": {},
   "outputs": [],
   "source": [
    "edf['root_id_curr'] = edf['root_id'].replace(suggest_latest)"
   ]
  },
  {
   "cell_type": "code",
   "execution_count": null,
   "id": "121fdc85-3e33-4a65-9ebf-e29a43f2df84",
   "metadata": {},
   "outputs": [],
   "source": [
    "cell_ids = client.materialize.get_cell_ids(edf['root_id_curr'], timestamp='now')"
   ]
  },
  {
   "cell_type": "code",
   "execution_count": null,
   "id": "140305d6-4bf7-41dd-899b-6fc28989087b",
   "metadata": {},
   "outputs": [],
   "source": [
    "edf['cell_id'] = cell_ids"
   ]
  },
  {
   "cell_type": "code",
   "execution_count": null,
   "id": "7d96778f-0408-4260-969e-6df7e1934c41",
   "metadata": {},
   "outputs": [],
   "source": [
    "edf.to_feather("
   ]
  },
  {
   "cell_type": "code",
   "execution_count": null,
   "id": "4ee26078-2634-48e2-9198-f16e181f1c05",
   "metadata": {},
   "outputs": [],
   "source": [
    "idf.rename(columns="
   ]
  },
  {
   "cell_type": "code",
   "execution_count": null,
   "id": "fbeac6de-c237-415d-bd76-fb8c0d2eea78",
   "metadata": {},
   "outputs": [],
   "source": [
    "edf.query('clust==17').root_id.sample(10).values"
   ]
  },
  {
   "cell_type": "code",
   "execution_count": null,
   "id": "f08e56d8-0775-44e2-b2cc-df7803e3bfce",
   "metadata": {},
   "outputs": [],
   "source": [
    "# pt_subtype = {\n",
    "#     'L2': [0],\n",
    "#     'L3': [1,2,3,4,5],\n",
    "#     'L4': [6,7,8],\n",
    "#     'L5': [9,11,15],\n",
    "#     'L5ET': [10,12,14],\n",
    "#     'L5NP': [13],\n",
    "#     'L6': [16,17,18,19,20,21,22,23,24,25],\n",
    "# }"
   ]
  },
  {
   "cell_type": "code",
   "execution_count": null,
   "id": "43bc3541-2325-46b0-b67a-d23a536b37b7",
   "metadata": {},
   "outputs": [],
   "source": [
    "pt_rep = {}\n",
    "for k,v in pt_subtype.items():\n",
    "    for ct in v:\n",
    "        pt_rep[ct] = k"
   ]
  },
  {
   "cell_type": "code",
   "execution_count": null,
   "id": "aded520c-567f-4cbb-988e-fac06dbb1313",
   "metadata": {},
   "outputs": [],
   "source": [
    "edf_s['ct_category'] = edf_s['clust'].replace(pt_rep)"
   ]
  },
  {
   "cell_type": "code",
   "execution_count": null,
   "id": "7a17d905-b3bc-45f3-a9d6-40ccd7f3f035",
   "metadata": {},
   "outputs": [],
   "source": [
    "for _, row in edf_s.iterrows():\n",
    "    stage.add(\n",
    "        cell_type=row['ct_category'],\n",
    "        classification_system='excitatory',\n",
    "        target_id=row['id'],\n",
    "    )"
   ]
  },
  {
   "cell_type": "code",
   "execution_count": null,
   "id": "2578f981-9c12-43ba-b157-fad9ab176413",
   "metadata": {},
   "outputs": [],
   "source": [
    "client.annotation.get_table_metadata('cell_type_skel_features_v1')"
   ]
  },
  {
   "cell_type": "code",
   "execution_count": null,
   "id": "1301f7fd-a282-4cd8-bca3-8b3865885ece",
   "metadata": {},
   "outputs": [],
   "source": []
  },
  {
   "cell_type": "code",
   "execution_count": null,
   "id": "2e432da6-439e-4eec-8cea-bfe384dba984",
   "metadata": {},
   "outputs": [],
   "source": [
    "client.annotation.get_annotation_count('cell_type_skel_features_v1')"
   ]
  },
  {
   "cell_type": "code",
   "execution_count": null,
   "id": "22d34600-ad77-400d-be85-113f6f9abc2d",
   "metadata": {},
   "outputs": [],
   "source": [
    "pt_subtype = {\n",
    "    0: 'L2IT',\n",
    "    1: 'L3IT',\n",
    "    2: 'L3IT',\n",
    "    3: 'L3IT',\n",
    "    4: 'L4IT',\n",
    "    5: 'L4IT',\n",
    "    6: 'L4IT',\n",
    "    7: 'L4IT',\n",
    "    8: 'L5IT',\n",
    "    9: 'L5ET',\n",
    "    10: 'L5ET',\n",
    "    11: 'L5IT',\n",
    "    12: 'L5NP',\n",
    "}"
   ]
  },
  {
   "cell_type": "code",
   "execution_count": null,
   "id": "c8f4e612-2173-4a0e-864e-9d5be3cd959e",
   "metadata": {},
   "outputs": [],
   "source": [
    "feat_df"
   ]
  },
  {
   "cell_type": "code",
   "execution_count": null,
   "id": "159de08f-cf2d-4d8e-b8e3-ecc1dea66186",
   "metadata": {},
   "outputs": [],
   "source": [
    "pf_df = client.materialize.tables.ariadne_axon_task(cell_type=['clean', 'complete', 'submitted']).query()"
   ]
  },
  {
   "cell_type": "code",
   "execution_count": null,
   "id": "eb839ffe-cfb8-42a7-84b0-7093c14a4b64",
   "metadata": {},
   "outputs": [],
   "source": [
    "pf_df['proofread'] = True"
   ]
  },
  {
   "cell_type": "code",
   "execution_count": null,
   "id": "a0076885-4506-489a-aa8b-b72805cdd367",
   "metadata": {},
   "outputs": [],
   "source": [
    "edf_pf = edf.merge(\n",
    "    pf_df[['pt_root_id', 'proofread']].rename(columns={'pt_root_id': 'root_id'}),\n",
    "    on='root_id',\n",
    "    how='left',\n",
    ")\n",
    "\n",
    "edf_pf['proofread'] = edf_pf['proofread'].fillna(False)"
   ]
  },
  {
   "cell_type": "code",
   "execution_count": null,
   "id": "a7ea8c56-e9a9-4d2d-8640-d6095df87621",
   "metadata": {},
   "outputs": [],
   "source": [
    "edf_pf.query('proofread').groupby('clust').count()"
   ]
  },
  {
   "cell_type": "code",
   "execution_count": null,
   "id": "60a8c9b7-c412-491b-b387-d51a4453811e",
   "metadata": {},
   "outputs": [],
   "source": [
    "val = 'syn_depth_dist_p5'\n",
    "\n",
    "fig, ax = plt.subplots(dpi=200, figsize=(6,3))\n",
    "sns.stripplot(\n",
    "    x='clust',\n",
    "    y=val,\n",
    "    hue='clust',\n",
    "    palette='tab20',\n",
    "    data=edf,\n",
    "    s=2,\n",
    "    alpha=0.1,\n",
    "    ax=ax,\n",
    "    legend=False,\n",
    ")\n",
    "\n",
    "sns.pointplot(\n",
    "    x='clust',\n",
    "    y=val,\n",
    "    color='k',\n",
    "    estimator='median',\n",
    "    data=edf,\n",
    "    ax=ax,\n",
    "    join=False,\n",
    ")\n",
    "ax.hlines(layer_bnds, *ax.get_xlim(), linestyle=':', color='k', linewidth=1, zorder=-20)\n",
    "ax.invert_yaxis()\n",
    "sns.despine(ax=ax)"
   ]
  },
  {
   "cell_type": "code",
   "execution_count": null,
   "id": "0526f47f-c784-43cd-9196-f17868bb9438",
   "metadata": {},
   "outputs": [],
   "source": [
    "label_col = \"clust\"\n",
    "feat_cols_with_depth = [\"soma_depth\"] + feat_cols\n",
    "\n",
    "vline_locs = np.cumsum(edf.groupby(label_col).count()[\"root_id\"].values)\n",
    "datz = stats.zscore(edf[feat_cols_with_depth].values)\n",
    "h = datz.shape[1]\n",
    "\n",
    "fig, ax = plt.subplots(figsize=(20, 4), dpi=300)\n",
    "sns.heatmap(\n",
    "    datz[edf.reset_index().sort_values(by=[label_col, \"soma_depth\"]).index].T,\n",
    "    cmap=\"RdBu_r\",\n",
    "    center=0,\n",
    "    vmin=-2,\n",
    "    vmax=2,\n",
    ")\n",
    "\n",
    "ax.set_yticks(np.arange(datz.shape[1]) + 0.5)\n",
    "ax.vlines(vline_locs, 0, h, color=\"k\", linewidth=1, alpha=1)\n",
    "_ = ax.set_yticks(np.arange(0, len(feat_cols_with_depth))+0.5)\n",
    "_ = ax.set_yticklabels(feat_cols_with_depth, rotation=0, fontdict={\"size\": 5})\n",
    "_ = ax.set_xticks(\n",
    "    np.diff(np.concatenate(([0], vline_locs))) / 2\n",
    "    + np.concatenate(([0], vline_locs[:-1]))\n",
    ")\n",
    "_ = ax.set_xticklabels(sorted(list(edf[label_col].unique())), rotation=0)"
   ]
  },
  {
   "cell_type": "code",
   "execution_count": null,
   "id": "add1cbe2-9fec-4830-bcef-525c2decc150",
   "metadata": {},
   "outputs": [],
   "source": [
    "edf.query('clust==14')"
   ]
  },
  {
   "cell_type": "code",
   "execution_count": null,
   "id": "edc84520-fdf1-4a5d-a26b-05d4f950e5da",
   "metadata": {},
   "outputs": [],
   "source": [
    "edf_s = edf.merge(\n",
    "    df[['pt_root_id', 'id', 'pt_position']],\n",
    "    left_on='root_id',\n",
    "    right_on='pt_root_id',\n",
    "    how='left',\n",
    ")"
   ]
  },
  {
   "cell_type": "code",
   "execution_count": null,
   "id": "218ba605-82b4-47b4-94ff-bc7994dedcf4",
   "metadata": {},
   "outputs": [],
   "source": [
    "edf_s = edf_pf.merge(\n",
    "    df[['pt_root_id', 'pt_position']],\n",
    "    left_on='root_id',\n",
    "    right_on='pt_root_id',\n",
    "    how='left',\n",
    ")"
   ]
  },
  {
   "cell_type": "code",
   "execution_count": null,
   "id": "a97403de-410a-4a18-bd39-6c4ecf3402b5",
   "metadata": {},
   "outputs": [],
   "source": [
    "edf_pf.to_feather('../feature_extraction/excitatory_feature_d150.feather')"
   ]
  },
  {
   "cell_type": "code",
   "execution_count": null,
   "id": "f4526952-3709-44e5-b0db-cf5bc8a46f6b",
   "metadata": {},
   "outputs": [],
   "source": [
    "statebuilder.AnnotationLayerConfig?"
   ]
  },
  {
   "cell_type": "code",
   "execution_count": null,
   "id": "c7b08ece-b89b-4949-9202-4f7cf1f367fa",
   "metadata": {},
   "outputs": [],
   "source": [
    "from nglui import statebuilder\n",
    "\n",
    "img, seg = statebuilder.from_client(client)\n",
    "annos = []\n",
    "clusts = np.unique(edf['clust'])\n",
    "for ct, clr in zip(clusts, sns.palettes.color_palette('tab20', n_colors=len(np.unique(edf['clust'])))):\n",
    "    annos.append(\n",
    "        statebuilder.AnnotationLayerConfig(\n",
    "            f\"clust{ct}\",\n",
    "            mapping_rules=statebuilder.PointMapper('pt_position', linked_segmentation_column='pt_root_id'),\n",
    "            filter_query=f\"clust=={ct}\",\n",
    "            color=clr,\n",
    "            data_resolution=[1,1,1],\n",
    "            linked_segmentation_layer=seg.name,\n",
    "            filter_by_segmentation=True\n",
    "        )\n",
    "    )\n",
    "sb = statebuilder.StateBuilder([img, seg]+annos, client=client, view_kws={'background_color': [0,0,0]})\n",
    "\n",
    "sb.render_state(\n",
    "    edf_s.sort_values(by='soma_depth'),\n",
    "    return_as='html',\n",
    ")"
   ]
  },
  {
   "cell_type": "code",
   "execution_count": null,
   "id": "5e95d4a6-badb-484b-aa45-041649c9bce4",
   "metadata": {},
   "outputs": [],
   "source": []
  },
  {
   "cell_type": "code",
   "execution_count": null,
   "id": "4525d6b9-c1d8-43a7-b5d5-c6d59a64fe31",
   "metadata": {},
   "outputs": [],
   "source": [
    "feat_df.query('root_id == 864691132655358167')"
   ]
  },
  {
   "cell_type": "code",
   "execution_count": null,
   "id": "870f9d51-3612-4a25-bfe6-bb75599b226a",
   "metadata": {},
   "outputs": [],
   "source": [
    "edf.query('is_exc_pred').sort_values(by='num_syn_dendrite', ascending=False).head(20)"
   ]
  },
  {
   "cell_type": "code",
   "execution_count": null,
   "id": "3dc3fe00-b730-48da-9658-375092b0b9b7",
   "metadata": {},
   "outputs": [],
   "source": [
    "feat_cols"
   ]
  },
  {
   "cell_type": "code",
   "execution_count": null,
   "id": "6c94fed9-5296-4091-862e-a227c9b37f02",
   "metadata": {},
   "outputs": [],
   "source": [
    "raw_df.query('root_id == 864691132958276967')"
   ]
  },
  {
   "cell_type": "code",
   "execution_count": null,
   "id": "054a4578-db06-4782-84c8-1a3f64ad8f6f",
   "metadata": {},
   "outputs": [],
   "source": [
    "fig, ax = plt.subplots()\n",
    "sns.scatterplot(\n",
    "    x='radius_dist',\n",
    "    y='soma_depth',\n",
    "    hue='area_factor',\n",
    "    palette='magma',\n",
    "    # hue_norm=(150,250),\n",
    "    data=edf.query('clust==0'),\n",
    "    ax=ax,\n",
    "    edgecolor='k',\n",
    ")\n",
    "ax.invert_yaxis()"
   ]
  },
  {
   "cell_type": "code",
   "execution_count": null,
   "id": "e24843c3-77e9-48fc-ad5b-9b7ae38cf945",
   "metadata": {},
   "outputs": [],
   "source": [
    "fig, ax = plt.subplots()\n",
    "sns.histplot(\n",
    "    x='radius_dist',\n",
    "    data=edf.query('clust==0'),\n",
    "    bins=50,\n",
    ")"
   ]
  },
  {
   "cell_type": "code",
   "execution_count": null,
   "id": "3988fda4-ad23-4441-ac9e-256c9db11e82",
   "metadata": {},
   "outputs": [],
   "source": [
    "feat_df.pivot_table(\n",
    "    index='pheno',\n",
    "    columns='cell_type',\n",
    "    values = 'soma_depth',\n",
    "    fill_value=0,\n",
    "    aggfunc='count',\n",
    ")"
   ]
  },
  {
   "cell_type": "code",
   "execution_count": null,
   "id": "8948120f-5824-471b-8109-7cf89f0c70e8",
   "metadata": {},
   "outputs": [],
   "source": [
    "dfct_e = feat_df.query('cell_type == \"PYC\"').reset_index(drop=True)\n",
    "\n",
    "dat = dfct_e[feat_cols].values\n",
    "datz = stats.zscore(dat)\n",
    "res = umap.UMAP(metric=\"euclidean\", n_neighbors=10)\n",
    "xx = res.fit_transform(datz)\n",
    "dfct_e[\"umap0\"] = xx[:, 0]\n",
    "dfct_e[\"umap1\"] = xx[:, 1]"
   ]
  },
  {
   "cell_type": "code",
   "execution_count": null,
   "id": "cad6f37a-c9cf-4967-b948-fdb95bfa862c",
   "metadata": {},
   "outputs": [],
   "source": [
    "fig, ax = plt.subplots(figsize=(4,4), dpi=300)\n",
    "sns.scatterplot(\n",
    "    x='umap0',\n",
    "    y='umap1',\n",
    "    data=dfct_e,\n",
    "    s=5,\n",
    "    hue='soma_depth',\n",
    "    hue_norm=(0,700),\n",
    "    palette='viridis',\n",
    ")\n",
    "ax.vlines(13,0,10)\n",
    "ax.hlines(2.5,0,18)"
   ]
  },
  {
   "cell_type": "code",
   "execution_count": null,
   "id": "cbf82fb4-0f9d-43bc-a53f-ed2f0329e2c1",
   "metadata": {},
   "outputs": [],
   "source": [
    "dfct_e.shape"
   ]
  },
  {
   "cell_type": "code",
   "execution_count": null,
   "id": "f283117c-ee7d-4c89-b0d8-54c15d8ca28e",
   "metadata": {},
   "outputs": [],
   "source": [
    "dfct_e.query('umap0>13 and umap1>2.5').root_id.values"
   ]
  },
  {
   "cell_type": "code",
   "execution_count": null,
   "id": "ec918a87-a400-49c1-b2b8-34f954a934b8",
   "metadata": {},
   "outputs": [],
   "source": []
  }
 ],
 "metadata": {
  "kernelspec": {
   "display_name": "analysis_m1",
   "language": "python",
   "name": "analysis_m1"
  },
  "language_info": {
   "codemirror_mode": {
    "name": "ipython",
    "version": 3
   },
   "file_extension": ".py",
   "mimetype": "text/x-python",
   "name": "python",
   "nbconvert_exporter": "python",
   "pygments_lexer": "ipython3",
   "version": "3.10.9"
  }
 },
 "nbformat": 4,
 "nbformat_minor": 5
}
