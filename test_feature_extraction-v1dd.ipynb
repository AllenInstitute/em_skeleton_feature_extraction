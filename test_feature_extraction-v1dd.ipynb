{
 "cells": [
  {
   "cell_type": "code",
   "execution_count": null,
   "id": "eb07ec88-a58b-4d2e-b520-164b2a16b6af",
   "metadata": {},
   "outputs": [],
   "source": [
    "import skel_features\n",
    "from standard_transform import v1dd_ds\n",
    "import pandas as pd\n",
    "import numpy as np\n",
    "from cloudpathlib import AnyPath as Path\n",
    "feature_dir = 'features/v1dd'\n",
    "skel_dir = \"gs://allen-minnie-phase3/minniephase3-emily-pcg-skeletons/v1dd/meshworks/round1\"\n",
    "height_bnds = [-10, 800]"
   ]
  },
  {
   "cell_type": "code",
   "execution_count": null,
   "id": "2674431f-d5e3-4476-a7db-7cb748d63285",
   "metadata": {},
   "outputs": [],
   "source": [
    "from caveclient import CAVEclient\n",
    "client = CAVEclient('v1dd', version=500)\n",
    "\n",
    "\n",
    "sks = Path(skel_dir)\n",
    "files = list(sks.glob('*.h5'))\n",
    "filenames = [f.name for f in files]\n",
    "root_ids = [int(f.stem.split('_')[0]) for f in files]\n",
    "cell_ids = [int(f.stem.split('_')[1]) for f in files]\n",
    "run_df = pd.DataFrame({'filename': filenames, 'root_id': root_ids, 'cell_id': cell_ids})"
   ]
  },
  {
   "cell_type": "code",
   "execution_count": null,
   "id": "4a856783",
   "metadata": {},
   "outputs": [],
   "source": [
    "# run_df.to_feather('v1dd_run_df.feather')"
   ]
  },
  {
   "cell_type": "code",
   "execution_count": null,
   "id": "839b4b83-c23c-49b0-b5da-723948c5689a",
   "metadata": {},
   "outputs": [],
   "source": [
    "success = skel_features.extraction.extract_features_mp(\n",
    "    run_df['filename'],\n",
    "    skel_dir,\n",
    "    height_bnds,\n",
    "    v1dd_ds,\n",
    "    feature_dir,\n",
    "    nodes=20,\n",
    "    rerun=False,\n",
    "    synapse_transform='vx',\n",
    ")"
   ]
  },
  {
   "cell_type": "code",
   "execution_count": null,
   "id": "824c5af7",
   "metadata": {},
   "outputs": [],
   "source": [
    "run_df = pd.read_feather('v1dd_run_df.feather')\n",
    "run_df.head()"
   ]
  },
  {
   "cell_type": "code",
   "execution_count": null,
   "id": "96ffe1f6",
   "metadata": {},
   "outputs": [],
   "source": []
  },
  {
   "cell_type": "code",
   "execution_count": null,
   "id": "404482d8",
   "metadata": {},
   "outputs": [],
   "source": [
    "raw_df = skel_features.io_utils.load_features(run_df['root_id'].values, feature_dir)\n",
    "raw_df = raw_df.dropna()\n",
    "raw_df['sum_binned_synapses'] = raw_df['syn_count_depth_dendrite'].apply(lambda x: sum(x))\n",
    "raw_df['sum_ego_synapses'] = raw_df['egocentric_bins'].apply(lambda x: sum(x))"
   ]
  },
  {
   "cell_type": "code",
   "execution_count": null,
   "id": "580cdb16",
   "metadata": {},
   "outputs": [],
   "source": [
    "print(raw_df.shape)"
   ]
  },
  {
   "cell_type": "code",
   "execution_count": null,
   "id": "a8ad1483",
   "metadata": {},
   "outputs": [],
   "source": [
    "print(raw_df.shape)\n",
    "drop_idx = raw_df.query('sum_binned_synapses == 0').index\n",
    "raw_df.drop(drop_idx, inplace=True)\n",
    "drop_idx = raw_df.query('sum_ego_synapses == 0').index\n",
    "raw_df.drop(drop_idx, inplace=True)\n",
    "print(raw_df.shape)"
   ]
  },
  {
   "cell_type": "code",
   "execution_count": null,
   "id": "3b9f2512-214d-461c-86f3-eb4eb8d16887",
   "metadata": {},
   "outputs": [],
   "source": [
    "(\n",
    "    feat_df_alt,\n",
    "    feat_cols,\n",
    "    syn_pca,\n",
    "    br_svd,\n",
    "    keep_depth,\n",
    "    ego_pca,\n",
    "    model_dict,\n",
    ") = skel_features.assembly.assemble_features_from_data(raw_df.dropna(), n_syn_comp=10, n_branch_comp=5, n_syn_ego=5)"
   ]
  },
  {
   "cell_type": "code",
   "execution_count": null,
   "id": "3090288a-ab09-424d-b083-39727339842a",
   "metadata": {},
   "outputs": [],
   "source": [
    "feat_df_alt.reset_index(drop=True).to_feather('v1dd_feat_df_v500.feather')"
   ]
  },
  {
   "cell_type": "code",
   "execution_count": null,
   "id": "26340412-9cb2-47ee-8cc2-85595f0be1bd",
   "metadata": {},
   "outputs": [],
   "source": [
    "# feat_df_alt = pd.read_feather('minnie_feat_df.feather').drop_duplicates('root_id', keep=False)"
   ]
  },
  {
   "cell_type": "code",
   "execution_count": null,
   "id": "0365e220-3ee9-4da5-83e2-6469ca4f8bfd",
   "metadata": {},
   "outputs": [],
   "source": [
    "import json"
   ]
  },
  {
   "cell_type": "code",
   "execution_count": null,
   "id": "78bb42b4-ff9b-48ff-9779-6d90952326e2",
   "metadata": {},
   "outputs": [],
   "source": [
    "with open('feat_cols.json', 'w') as f:\n",
    "    json.dump(feat_cols, f)"
   ]
  },
  {
   "cell_type": "code",
   "execution_count": null,
   "id": "0f1d505b-4a33-421b-a9a8-eb21f0794ae2",
   "metadata": {},
   "outputs": [],
   "source": [
    "feat_df_alt = feat_df_alt.merge(\n",
    "    soma_df[['dist_from_ctr', 'core', 'region', 'cell_type', 'pt_root_id']].rename(columns={'pt_root_id': 'root_id'}),\n",
    "    on='root_id',\n",
    "    how='left',\n",
    ").drop_duplicates('root_id', keep=False)"
   ]
  },
  {
   "cell_type": "code",
   "execution_count": null,
   "id": "230b26f8-5dde-4a46-b679-0659414a40b7",
   "metadata": {},
   "outputs": [],
   "source": [
    "feat_df_alt = feat_df_alt.dropna().reset_index(drop=True)"
   ]
  },
  {
   "cell_type": "code",
   "execution_count": null,
   "id": "7c1a80b1-7dc1-4a5a-afac-cadc21f8b56d",
   "metadata": {},
   "outputs": [],
   "source": [
    "feat_df_alt.to_feather('minnie_feat_df_extra.feather')\n"
   ]
  },
  {
   "cell_type": "code",
   "execution_count": null,
   "id": "18a31bf9-b55e-4b86-ba1c-e32ac5424cde",
   "metadata": {},
   "outputs": [],
   "source": [
    "feat_cols_nospace = [\n",
    "    'tip_len_dist_dendrite_p50',\n",
    "    'tip_tort_dendrite_p50',\n",
    "    'num_syn_dendrite',\n",
    "    'num_syn_soma',\n",
    "    'path_length_dendrite',\n",
    "    'radial_extent_dendrite',\n",
    "    'syn_dist_distribution_dendrite_p50',\n",
    "    'syn_size_distribution_soma_p50',\n",
    "    'syn_size_distribution_dendrite_p50',\n",
    "    'syn_size_distribution_dendrite_p10',\n",
    "    'syn_size_distribution_dendrite_p90',\n",
    "    'syn_size_dendrite_cv',\n",
    "    'syn_depth_dist_p5',\n",
    "    'syn_depth_extent',\n",
    "    'max_density',\n",
    "    'radius_dist',\n",
    "    'area_factor',\n",
    "    'branch_svd0',\n",
    "    'branch_svd1',\n",
    "    'branch_svd2',\n",
    "    'branch_svd3',\n",
    "    'branch_svd4',\n",
    "    'ego_count_pca0',\n",
    "    'ego_count_pca1',\n",
    "    'ego_count_pca2',\n",
    "    'ego_count_pca3',\n",
    "    'ego_count_pca4'\n",
    "]"
   ]
  },
  {
   "cell_type": "code",
   "execution_count": null,
   "id": "b04bf420",
   "metadata": {},
   "outputs": [],
   "source": [
    "feat_df_alt.loc[:, feat_cols_nospace].fillna(0, inplace=True)"
   ]
  },
  {
   "cell_type": "code",
   "execution_count": null,
   "id": "9a0b9937",
   "metadata": {},
   "outputs": [],
   "source": [
    "feat_df_alt[feat_df_alt['syn_size_distribution_soma_p50']==0]"
   ]
  },
  {
   "cell_type": "code",
   "execution_count": null,
   "id": "d209b37e-6f46-4a1d-86af-3cbcff9cc2a1",
   "metadata": {},
   "outputs": [],
   "source": [
    "import umap\n",
    "from sklearn import preprocessing\n",
    "res = umap.UMAP(metric=\"euclidean\", min_dist=0.05, n_neighbors=20)\n",
    "\n",
    "feat_pproc = preprocessing.StandardScaler().fit(feat_df_alt[feat_cols_nospace])\n",
    "xx = res.fit_transform(feat_pproc.transform(feat_df_alt[feat_cols_nospace]))\n",
    "\n",
    "feat_df_alt[\"umap0_nospace\"] = xx[:, 0]\n",
    "feat_df_alt[\"umap1_nospace\"] = xx[:, 1]"
   ]
  },
  {
   "cell_type": "code",
   "execution_count": null,
   "id": "1492b3e2-3240-4916-a668-b083bd0d389b",
   "metadata": {},
   "outputs": [],
   "source": [
    "feat_df_alt['root_id_current'] = client.chunkedgraph.get_roots(feat_df_alt['pt_supervoxel_id'])"
   ]
  },
  {
   "cell_type": "code",
   "execution_count": null,
   "id": "8bf141d8-c3df-464e-a113-db539e1dfbb0",
   "metadata": {},
   "outputs": [],
   "source": [
    "import pickle\n",
    "with open('../../../Projects/MinnieColumn/notebooks/paper_versions/v795/data/ctype_hues.pkl', 'br') as f:\n",
    "    ctype_hues = pickle.load(f)"
   ]
  },
  {
   "cell_type": "code",
   "execution_count": null,
   "id": "78338ddb-df2f-4d71-a7a9-f5214283884b",
   "metadata": {},
   "outputs": [],
   "source": [
    "\n",
    "# feat_df_alt = pd.read_feather('minnie_inh_feat_df.feather')"
   ]
  },
  {
   "cell_type": "code",
   "execution_count": null,
   "id": "e83a93b9-573a-4a1a-aec9-3924e6d5d8de",
   "metadata": {},
   "outputs": [],
   "source": [
    "import matplotlib.pyplot as plt\n",
    "import seaborn as sns\n",
    "\n",
    "fig, ax = plt.subplots(dpi=150)\n",
    "\n",
    "sns.scatterplot(\n",
    "    x=\"umap0_nospace\",\n",
    "    y=\"umap1_nospace\",\n",
    "    data=feat_df_alt.query('core'),\n",
    "    s=1,\n",
    "    alpha=0.1,\n",
    ")\n",
    "\n",
    "ax.set_aspect('equal')\n",
    "ax.legend().set_bbox_to_anchor((1, 1))"
   ]
  },
  {
   "cell_type": "code",
   "execution_count": null,
   "id": "84b52a68-f989-4b67-94b6-06b12dfc9bbe",
   "metadata": {},
   "outputs": [],
   "source": [
    "core_df = feat_df_alt.query('core').reset_index(drop=True)"
   ]
  },
  {
   "cell_type": "code",
   "execution_count": null,
   "id": "05c7162c-359d-41ba-b199-dc609653a9cd",
   "metadata": {},
   "outputs": [],
   "source": [
    "import umap\n",
    "from sklearn import preprocessing\n",
    "res = umap.UMAP(metric=\"euclidean\", min_dist=0.05, n_neighbors=20)\n",
    "\n",
    "feat_pproc = preprocessing.StandardScaler().fit(core_df[feat_cols_nospace])\n",
    "xx = res.fit_transform(feat_pproc.transform(core_df[feat_cols_nospace]))\n",
    "\n",
    "core_df[\"umap0_nospace\"] = xx[:, 0]\n",
    "core_df[\"umap1_nospace\"] = xx[:, 1]\n",
    "\n",
    "feat_pproc = preprocessing.StandardScaler().fit(core_df[feat_cols])\n",
    "xx = res.fit_transform(feat_pproc.transform(core_df[feat_cols]))\n",
    "\n",
    "core_df[\"umap0\"] = xx[:, 0]\n",
    "core_df[\"umap1\"] = xx[:, 1]"
   ]
  },
  {
   "cell_type": "code",
   "execution_count": null,
   "id": "72d9e87e-6fbe-460d-aa83-73facbea2c73",
   "metadata": {},
   "outputs": [],
   "source": [
    "ct_col_df = client.materialize.tables.allen_column_mtypes_v2().query(timestamp=ts)"
   ]
  },
  {
   "cell_type": "code",
   "execution_count": null,
   "id": "29fcf519-55db-4381-8198-23d14a0a23c0",
   "metadata": {},
   "outputs": [],
   "source": [
    "core_df = core_df.drop(columns='column_type').merge(\n",
    "    ct_col_df[['pt_root_id', 'cell_type']].rename(columns={'pt_root_id': 'root_id', 'cell_type': 'column_type'}),\n",
    "    on='root_id',\n",
    "    how='left',\n",
    ")"
   ]
  },
  {
   "cell_type": "code",
   "execution_count": null,
   "id": "0071f078-f534-4e8b-81d0-3864e0ce3e77",
   "metadata": {},
   "outputs": [],
   "source": [
    "core_df.query('column_type==column_type').groupby('column_type').count()"
   ]
  },
  {
   "cell_type": "code",
   "execution_count": null,
   "id": "619cad02-6a0b-486d-b98c-188110dfb4b8",
   "metadata": {},
   "outputs": [],
   "source": [
    "fig, ax = plt.subplots(dpi=300)\n",
    "\n",
    "\n",
    "sns.scatterplot(\n",
    "    x=\"umap0_nospace\",\n",
    "    y=\"umap1_nospace\",\n",
    "    data=core_df,\n",
    "    s=1,\n",
    "    color=(0.7, 0.7, 0.7),\n",
    "    alpha=0.2,\n",
    "    legend=False,\n",
    ")\n",
    "\n",
    "sns.scatterplot(\n",
    "    x=\"umap0_nospace\",\n",
    "    y=\"umap1_nospace\",\n",
    "    data=core_df,\n",
    "    hue='column_type',\n",
    "    palette=ctype_hues,\n",
    "    s=1,\n",
    "    alpha=1,\n",
    "    legend=False,\n",
    ")\n",
    "\n",
    "ax.set_aspect('equal')\n",
    "ax.legend().set_bbox_to_anchor((1, 1))"
   ]
  },
  {
   "cell_type": "code",
   "execution_count": null,
   "id": "1aa965dc-5a18-4d5e-ac4a-b19ebbffb3c4",
   "metadata": {},
   "outputs": [],
   "source": [
    "core_df.to_feather('core_df.feather')"
   ]
  },
  {
   "cell_type": "code",
   "execution_count": null,
   "id": "f70d87b8-d082-4943-ade8-3ff4647bc652",
   "metadata": {},
   "outputs": [],
   "source": [
    "from scipy import stats"
   ]
  },
  {
   "cell_type": "code",
   "execution_count": null,
   "id": "ed39c717-0503-4661-a319-63ed7d46e64c",
   "metadata": {},
   "outputs": [],
   "source": [
    "data = stats.zscore(core_df[feat_cols_nospace])"
   ]
  },
  {
   "cell_type": "code",
   "execution_count": null,
   "id": "6d881e9f-a388-49a8-8078-71f6e1256770",
   "metadata": {},
   "outputs": [],
   "source": [
    "lbl, g, Q = phenograph.cluster(\n",
    "    data,\n",
    "    k=30,\n",
    ")"
   ]
  },
  {
   "cell_type": "code",
   "execution_count": null,
   "id": "eef13638-e008-45a4-8d2c-cb15adb9c2ea",
   "metadata": {},
   "outputs": [],
   "source": [
    "core_df['lbl'] = lbl"
   ]
  },
  {
   "cell_type": "code",
   "execution_count": null,
   "id": "34d1001b-327f-440e-ae93-871a3936c808",
   "metadata": {},
   "outputs": [],
   "source": [
    "1"
   ]
  },
  {
   "cell_type": "code",
   "execution_count": null,
   "id": "09a1869a-eeda-4126-af25-7f92781c2ea2",
   "metadata": {},
   "outputs": [],
   "source": []
  },
  {
   "cell_type": "code",
   "execution_count": null,
   "id": "18e7202c-d865-4ed3-9f57-9a333f4dadda",
   "metadata": {},
   "outputs": [],
   "source": [
    "fig, ax = plt.subplots(dpi=300)\n",
    "\n",
    "sns.scatterplot(\n",
    "    x=\"umap0_nospace\",\n",
    "    y=\"umap1_nospace\",\n",
    "    data=core_df,\n",
    "    s=1,\n",
    "    color=(0.7, 0.7, 0.7),\n",
    "    alpha=0.2,\n",
    "    legend=False,\n",
    ")\n",
    "\n",
    "sns.scatterplot(\n",
    "    x=\"umap0_nospace\",\n",
    "    y=\"umap1_nospace\",\n",
    "    data=core_df,\n",
    "    hue='is_inhib',\n",
    "    palette={True: 'r', False: 'k'},\n",
    "    s=1,\n",
    "    alpha=1,\n",
    "    legend=False,\n",
    ")\n",
    "\n",
    "ax.set_aspect('equal')\n",
    "ax.legend().set_bbox_to_anchor((1, 1))"
   ]
  },
  {
   "cell_type": "code",
   "execution_count": null,
   "id": "c88b8d34-a267-4b86-80b7-1d5d10a75498",
   "metadata": {},
   "outputs": [],
   "source": [
    "fig, ax = plt.subplots(dpi=300)\n",
    "\n",
    "sns.scatterplot(\n",
    "    x=\"umap0_nospace\",\n",
    "    y=\"umap1_nospace\",\n",
    "    data=core_df,\n",
    "    hue='lbl',\n",
    "    palette='tab20',\n",
    "    s=1,\n",
    "    alpha=1,\n",
    "    legend=False,\n",
    ")\n",
    "\n",
    "ax.set_aspect('equal')\n",
    "ax.legend().set_bbox_to_anchor((1, 1))"
   ]
  },
  {
   "cell_type": "code",
   "execution_count": null,
   "id": "0c75d4ca-769b-4406-9c76-48747cf9d6e6",
   "metadata": {},
   "outputs": [],
   "source": [
    "inhib_idx = core_df.query('lbl in [9,10,11,14]').index"
   ]
  },
  {
   "cell_type": "code",
   "execution_count": null,
   "id": "27ef0224-ad11-4198-80b1-b274e079fc28",
   "metadata": {},
   "outputs": [],
   "source": [
    "core_df.loc[inhib_idx, 'is_inhib'] = True"
   ]
  },
  {
   "cell_type": "code",
   "execution_count": null,
   "id": "c21da88d-ebb3-44d8-b91e-f6e6bde5f1de",
   "metadata": {},
   "outputs": [],
   "source": [
    "core_df['is_inhib'] = core_df['is_inhib'].fillna(False)"
   ]
  },
  {
   "cell_type": "code",
   "execution_count": null,
   "id": "411e1279-863f-42f9-9cb6-0fb05b3e5652",
   "metadata": {},
   "outputs": [],
   "source": [
    "ei_count = core_df.pivot_table(\n",
    "    index='lbl',\n",
    "    columns='column_type',\n",
    "    values='root_id',\n",
    "    aggfunc='count',\n",
    "    fill_value=0,\n",
    ")"
   ]
  },
  {
   "cell_type": "code",
   "execution_count": null,
   "id": "9847e922-b9f0-45e3-95db-02ae2e661e3a",
   "metadata": {},
   "outputs": [],
   "source": [
    "core_df.query('is_inhib and cell_type not in [\"DTC\", \"STC\", \"ITC\", \"PTC\"]').root_id.values"
   ]
  },
  {
   "cell_type": "code",
   "execution_count": null,
   "id": "7483ee98-ae6d-45c2-816a-d228fec74eaa",
   "metadata": {},
   "outputs": [],
   "source": [
    "core_df.query('not is_inhib and cell_type in [\"DTC\", \"STC\", \"ITC\", \"PTC\"]').root_id.values"
   ]
  },
  {
   "cell_type": "code",
   "execution_count": null,
   "id": "cf6d4881-40f6-4d96-8188-16c414d2e479",
   "metadata": {},
   "outputs": [],
   "source": []
  },
  {
   "cell_type": "code",
   "execution_count": null,
   "id": "d7086802-0379-43bf-a38c-f804d8a8d777",
   "metadata": {},
   "outputs": [],
   "source": []
  },
  {
   "cell_type": "code",
   "execution_count": null,
   "id": "42a3dcd2-20c8-46e1-9ee0-c3ebae6d7022",
   "metadata": {},
   "outputs": [],
   "source": [
    "fig, ax = plt.subplots(dpi=300)\n",
    "\n",
    "sns.scatterplot(\n",
    "    x=\"umap0_nospace\",\n",
    "    y=\"umap1_nospace\",\n",
    "    data=core_df,\n",
    "    hue='lbl',\n",
    "    palette='tab20',\n",
    "    s=1,\n",
    "    alpha=1,\n",
    "    legend=False,\n",
    ")\n",
    "\n",
    "ax.set_aspect('equal')\n",
    "ax.legend().set_bbox_to_anchor((1, 1))"
   ]
  },
  {
   "cell_type": "code",
   "execution_count": null,
   "id": "83292433-2b77-4e7e-b7c4-6a6217d68d4b",
   "metadata": {},
   "outputs": [],
   "source": []
  },
  {
   "cell_type": "code",
   "execution_count": null,
   "id": "f527eaf6-1f03-4d66-8639-b63c1043fa1e",
   "metadata": {},
   "outputs": [],
   "source": [
    "inhibitory_count = ei_count[['DTC', 'STC', 'ITC', 'PTC']].sum(axis=1)\n",
    "all_count = ei_count.sum(axis=1)\n"
   ]
  },
  {
   "cell_type": "code",
   "execution_count": null,
   "id": "6a1916ad-c1da-4cc9-8c28-fd1b8ce1f69e",
   "metadata": {},
   "outputs": [],
   "source": [
    "inhibitory_count / all_count"
   ]
  },
  {
   "cell_type": "code",
   "execution_count": null,
   "id": "83cf737e-e7d8-46dc-8de7-4206aa907ec4",
   "metadata": {},
   "outputs": [],
   "source": [
    "ei_count.loc[15]"
   ]
  },
  {
   "cell_type": "code",
   "execution_count": null,
   "id": "42d4449f-7f13-4ecb-a97f-ccb4dda067cd",
   "metadata": {},
   "outputs": [],
   "source": [
    "sorted(client.materialize.get_tables())"
   ]
  },
  {
   "cell_type": "code",
   "execution_count": null,
   "id": "03d9e338-bf64-4b61-8f23-9f9df1740af4",
   "metadata": {},
   "outputs": [],
   "source": [
    "client = CAVEclient()"
   ]
  },
  {
   "cell_type": "code",
   "execution_count": null,
   "id": "f73fb132-f1d7-4177-bb31-c338051babf4",
   "metadata": {},
   "outputs": [],
   "source": [
    "client.materialize.query_table('nucleus_detection_v0', metadata=False)"
   ]
  },
  {
   "cell_type": "code",
   "execution_count": null,
   "id": "0da2aa1b-82ca-4b3e-b843-79a5b189da82",
   "metadata": {},
   "outputs": [],
   "source": [
    "import phenograph\n",
    "from scipy import stats\n",
    "\n",
    "def relabel_sorted(df, label_column, sort_column, ascending=True):\n",
    "    sorted_label = (\n",
    "        df.groupby(label_column)\n",
    "        .agg({sort_column: \"mean\"})\n",
    "        .sort_values(by=sort_column, ascending=ascending)\n",
    "        .index.values\n",
    "    )\n",
    "    relabel_index = {x: ii for ii, x in enumerate(sorted_label)}\n",
    "    df[label_column] = df[label_column].apply(lambda x: relabel_index[x])"
   ]
  },
  {
   "cell_type": "code",
   "execution_count": null,
   "id": "e56ac31f-70dd-450b-8b21-2999819986c8",
   "metadata": {},
   "outputs": [],
   "source": [
    "G, _, _ = phenograph.cluster(\n",
    "    stats.zscore(feat_df_alt[feat_cols]),\n",
    "    clustering_algo=\"leiden\",\n",
    "    k=15,\n",
    "    primary_metric=\"manhattan\",\n",
    "    resolution_parameter=3,\n",
    ")\n",
    "feat_df_alt[\"clust\"] = G\n",
    "relabel_sorted(feat_df_alt, \"clust\", \"soma_depth\")"
   ]
  },
  {
   "cell_type": "code",
   "execution_count": null,
   "id": "77af9880-2fa2-4c09-a6b0-5a11675e212b",
   "metadata": {},
   "outputs": [],
   "source": [
    "fig, ax = plt.subplots(dpi=300)\n",
    "\n",
    "sns.scatterplot(\n",
    "    x=f\"umap0\",\n",
    "    y=f\"umap1\",\n",
    "    data=feat_df_alt,\n",
    "    hue='clust',\n",
    "    palette='Paired',\n",
    "    s=3,\n",
    "    alpha=0.5,\n",
    ")\n",
    "\n",
    "ax.set_aspect('equal')\n",
    "ax.legend().set_bbox_to_anchor((1, 1))"
   ]
  },
  {
   "cell_type": "code",
   "execution_count": null,
   "id": "54301596-87c1-4d27-b234-b9b4f4eeb87b",
   "metadata": {},
   "outputs": [],
   "source": [
    "from nglui import statebuilder"
   ]
  },
  {
   "cell_type": "code",
   "execution_count": null,
   "id": "8746361d-4db2-410f-a34c-e0450d6e86f7",
   "metadata": {},
   "outputs": [],
   "source": [
    "sb = statebuilder.helpers.make_point_statebuilder(\n",
    "    client,\n",
    "    data_resolution=[1,1,1],\n",
    "    linked_seg_column='root_id_current',\n",
    ")"
   ]
  },
  {
   "cell_type": "code",
   "execution_count": null,
   "id": "60d87c0f-ce3e-41cf-9aa7-9903ec3fa64b",
   "metadata": {},
   "outputs": [],
   "source": [
    "feat_df_alt"
   ]
  },
  {
   "cell_type": "code",
   "execution_count": null,
   "id": "4ba2d5f2-d2f9-40e3-b7ac-c65b4fba8558",
   "metadata": {},
   "outputs": [],
   "source": [
    "from IPython.display import display, HTML"
   ]
  },
  {
   "cell_type": "code",
   "execution_count": null,
   "id": "b3a81821-29dd-4b0c-8068-6f2bdee3a790",
   "metadata": {},
   "outputs": [],
   "source": [
    "feat_df_alt.shape"
   ]
  },
  {
   "cell_type": "code",
   "execution_count": null,
   "id": "5d9db584-99df-4a3e-a90e-c578da1a3b59",
   "metadata": {},
   "outputs": [],
   "source": [
    "datz = stats.zscore(feat_df_alt.sort_values(by=['clust', 'soma_depth'])[feat_cols])"
   ]
  },
  {
   "cell_type": "code",
   "execution_count": null,
   "id": "062738bf-6eae-4b0a-af11-7a344b9d91a8",
   "metadata": {},
   "outputs": [],
   "source": [
    "feat_df_alt.sort_values(by=['clust', 'soma_depth'])"
   ]
  },
  {
   "cell_type": "code",
   "execution_count": null,
   "id": "ee75e72e-f2fe-485c-8e48-e1c03426f499",
   "metadata": {},
   "outputs": [],
   "source": [
    "datz.loc[idx]"
   ]
  },
  {
   "cell_type": "code",
   "execution_count": null,
   "id": "1179a36d-3ad0-41e5-b92a-e91248285fcf",
   "metadata": {},
   "outputs": [],
   "source": [
    "fig, ax = plt.subplots(figsize=(3,5), dpi=200)\n",
    "idx = feat_df_alt.sort_values(by=['clust', 'soma_depth']).query(\n",
    "    'clust in [13, 14]'\n",
    ").index\n",
    "\n",
    "sns.heatmap(\n",
    "    datz.loc[idx].T,\n",
    "    vmin=-2,\n",
    "    vmax=2,\n",
    "    center=0,\n",
    "    cmap='RdBu_r',\n",
    "    ax=ax,\n",
    "    yticklabels=feat_cols,\n",
    ")"
   ]
  },
  {
   "cell_type": "code",
   "execution_count": null,
   "id": "35d63bdf-c072-4600-9848-d4653ead4d3f",
   "metadata": {},
   "outputs": [],
   "source": [
    "trash_clusters = [\n",
    "    20,\n",
    "]"
   ]
  },
  {
   "cell_type": "code",
   "execution_count": null,
   "id": "4ea66fb6-8dc3-4c01-9fc5-7df36018b6e6",
   "metadata": {},
   "outputs": [],
   "source": [
    "ind = 33\n",
    "\n",
    "display(\n",
    "    sb.render_state(\n",
    "        feat_df_alt.query('clust == @ind'),\n",
    "        return_as='html',\n",
    "    )\n",
    ")\n",
    "\n",
    "display( feat_df_alt.query('clust==@ind')[['clust', 'cell_type', 'area_factor']].pivot_table(\n",
    "    index='clust',\n",
    "    columns='cell_type',\n",
    "    aggfunc='count',\n",
    "    fill_value=0,\n",
    ") )\n",
    "\n",
    "\n",
    "fig, ax = plt.subplots(figsize=(3,3), dpi=200)\n",
    "\n",
    "sns.scatterplot(\n",
    "    x=f\"umap0\",\n",
    "    y=f\"umap1\",\n",
    "    data=feat_df_alt.query('clust != @ind'),\n",
    "    c='k',\n",
    "    s=1,\n",
    "    alpha=0.5,\n",
    "    ax=ax,\n",
    "    legend=False,\n",
    ")\n",
    "sns.scatterplot(\n",
    "    x=f\"umap0\",\n",
    "    y=f\"umap1\",\n",
    "    data=feat_df_alt.query('clust == @ind'),\n",
    "    c='r',\n",
    "    s=3,\n",
    "    alpha=0.5,\n",
    "    ax=ax,\n",
    "    legend=False,\n",
    ")\n",
    "sns.despine(ax=ax, left=True, bottom=True)\n",
    "ax.xaxis.set_visible(False)\n",
    "ax.yaxis.set_visible(False)\n",
    "\n",
    "ax.set_aspect('equal')\n",
    "ax.legend().set_bbox_to_anchor((1, 1))\n",
    "\n"
   ]
  },
  {
   "cell_type": "code",
   "execution_count": null,
   "id": "517e0261-5fa1-4b8a-8278-39ec0ea1051f",
   "metadata": {},
   "outputs": [],
   "source": [
    "feat_df_alt['pt_x'] = minnie_ds.transform_nm.apply_project('x', feat_df_alt['pt_position'])\n",
    "feat_df_alt['pt_y'] = minnie_ds.transform_nm.apply_project('y', feat_df_alt['pt_position'])\n",
    "feat_df_alt['pt_z'] = minnie_ds.transform_nm.apply_project('z', feat_df_alt['pt_position'])"
   ]
  },
  {
   "cell_type": "code",
   "execution_count": null,
   "id": "fee39cb8-fffe-41ca-bd25-3905e49f93f9",
   "metadata": {},
   "outputs": [],
   "source": [
    "height_bnds"
   ]
  },
  {
   "cell_type": "code",
   "execution_count": null,
   "id": "77efc049-ff2a-4939-933f-98df6a6a6f25",
   "metadata": {},
   "outputs": [],
   "source": [
    "xlim = [200, 1550]\n",
    "zlim = [600, 1110]"
   ]
  },
  {
   "cell_type": "code",
   "execution_count": null,
   "id": "201c9772-e0c9-4a84-a69d-26733acb09b4",
   "metadata": {},
   "outputs": [],
   "source": [
    "import os\n",
    "import pathlib\n",
    "os.makedirs('clust_plots', exist_ok=True)"
   ]
  },
  {
   "cell_type": "code",
   "execution_count": null,
   "id": "1d7ea175-2379-42ab-acd4-9040971339c3",
   "metadata": {},
   "outputs": [],
   "source": [
    "plot_path = pathlib.Path('clust_plots')"
   ]
  },
  {
   "cell_type": "code",
   "execution_count": null,
   "id": "f75c9ee5-9f33-4d5d-bb01-d8b82f5f50cf",
   "metadata": {},
   "outputs": [],
   "source": [
    "for ind in np.unique(feat_df_alt['clust'].values):\n",
    "    fig, axes = plt.subplots(figsize=(4,2), ncols=2, dpi=300, gridspec_kw={'width_ratios': [3,1], 'wspace': 0.1}, )\n",
    "    \n",
    "    ax = axes[0]\n",
    "    sns.scatterplot(\n",
    "        x='pt_x',\n",
    "        y='pt_z',\n",
    "        hue='cell_type',\n",
    "        palette=ctype_hues,\n",
    "        data=feat_df_alt.query('clust == @ind'),\n",
    "        s=10,\n",
    "        legend=None,\n",
    "        ax=ax,\n",
    "    )\n",
    "    \n",
    "    ax.set_xlim(*xlim)\n",
    "    ax.set_ylim(*zlim)\n",
    "    ax.set_xticks([750, 1000])\n",
    "    ax.set_xticklabels(['', ''])\n",
    "    ax.set_xlabel('250 $\\mu$m', fontsize=5)\n",
    "    sns.despine(ax=ax, trim=True, left=True, offset=5)\n",
    "    ax.yaxis.set_visible(False)\n",
    "    ax.set_aspect('equal')\n",
    "    \n",
    "    ax.set_title(f'Clust {ind}', fontsize=6)\n",
    "    \n",
    "    ax=axes[1]\n",
    "    sns.stripplot(\n",
    "        y='pt_y',\n",
    "        hue='cell_type',\n",
    "        palette=ctype_hues,\n",
    "        data=feat_df_alt.query('clust == @ind'),\n",
    "        s=2,\n",
    "        alpha=0.6,\n",
    "        ax=ax,\n",
    "        legend=None,\n",
    "        zorder=10,\n",
    "    )\n",
    "    \n",
    "    ax.hlines(layer_bnds, -0.25, 0.25, color='k', alpha=0.2, linestyle='--', zorder=-10, linewidth=1)\n",
    "    ax.set_xlim(-0.2, 0.2)\n",
    "    ax.set_ylim(*height_bnds[::-1])\n",
    "    ax.yaxis.set_visible(False)\n",
    "    \n",
    "    fig.savefig(plot_path / f\"clust_{ind}.pdf\", bbox_inches='tight')\n",
    "    plt.close(fig)"
   ]
  },
  {
   "cell_type": "code",
   "execution_count": null,
   "id": "550a0ab5-9aec-4c6c-91c9-fd87e65dc446",
   "metadata": {},
   "outputs": [],
   "source": []
  },
  {
   "cell_type": "code",
   "execution_count": null,
   "id": "bb70f151-5000-4f66-a779-c5520eb2b893",
   "metadata": {},
   "outputs": [],
   "source": [
    "ax.hlines"
   ]
  },
  {
   "cell_type": "code",
   "execution_count": null,
   "id": "bf384505-446b-481e-bf4f-bf2c9f00f9cb",
   "metadata": {},
   "outputs": [],
   "source": [
    "feat_df_alt[['clust', 'cell_type', 'area_factor']].pivot_table(\n",
    "    index='clust',\n",
    "    columns='cell_type',\n",
    "    aggfunc='count',\n",
    "    fill_value=0,\n",
    ")"
   ]
  },
  {
   "cell_type": "code",
   "execution_count": null,
   "id": "2ca4d648-ed8a-4839-bc53-c6bedfecafd5",
   "metadata": {},
   "outputs": [],
   "source": []
  },
  {
   "cell_type": "code",
   "execution_count": null,
   "id": "c7b62fd7-ad30-48db-a0f2-61e08c70f8f2",
   "metadata": {},
   "outputs": [],
   "source": [
    "client.materialize.get_table_metadata(\n",
    "    client.materialize.get_tables()[0]\n",
    ")"
   ]
  },
  {
   "cell_type": "code",
   "execution_count": null,
   "id": "b774d934-09ef-41e7-a72f-c30e110cd913",
   "metadata": {},
   "outputs": [],
   "source": [
    "client.materialize.get_table_metadata(\n",
    "    client.materialize.get_tables()[30]\n",
    ")"
   ]
  },
  {
   "cell_type": "code",
   "execution_count": null,
   "id": "9aeab6ca-9713-4bad-9af6-97071e8ff68a",
   "metadata": {},
   "outputs": [],
   "source": [
    "import time"
   ]
  },
  {
   "cell_type": "code",
   "execution_count": null,
   "id": "160ac79d-58ec-4b85-aa51-5e7add42e188",
   "metadata": {},
   "outputs": [],
   "source": [
    "qry = client.materialize.tables.nucleus_detection_v0?"
   ]
  },
  {
   "cell_type": "code",
   "execution_count": null,
   "id": "3805e6c8-cc59-4619-b942-f6186539491f",
   "metadata": {},
   "outputs": [],
   "source": [
    "t0 = time.time()\n",
    "df = client.materialize.tables.nucleus_detection_v0().query(timestamp='now')\n",
    "print(time.time() - t0)"
   ]
  },
  {
   "cell_type": "code",
   "execution_count": null,
   "id": "69723fdc-88f1-4468-9ed2-8018060c345b",
   "metadata": {},
   "outputs": [],
   "source": [
    "fig, ax = plt.subplots(dpi=300)\n",
    "sns.scatterplot(\n",
    "    x=f\"umap0\",\n",
    "    y=f\"umap1\",\n",
    "    data=feat_df_alt,\n",
    "    color='k',\n",
    "    s=1,\n",
    "    alpha=0.1,\n",
    ")\n",
    "\n",
    "sns.scatterplot(\n",
    "    x=f\"umap0\",\n",
    "    y=f\"umap1\",\n",
    "    data=feat_df_alt.query('pt_root_id in @chi_cells'),\n",
    "    color='r',\n",
    "    s=10,\n",
    "    alpha=1,\n",
    ")\n",
    "\n",
    "ax.set_aspect('equal')\n",
    "ax.legend().set_bbox_to_anchor((1, 1))"
   ]
  },
  {
   "cell_type": "code",
   "execution_count": null,
   "id": "6afc997f-d8c9-4951-a7b8-424ca1d36150",
   "metadata": {},
   "outputs": [],
   "source": [
    "G, _, _ = phenograph.cluster(\n",
    "    stats.zscore(feat_df_alt[feat_cols]),\n",
    "    clustering_algo=\"leiden\",\n",
    "    k=15,\n",
    "    primary_metric=\"manhattan\",\n",
    "    resolution_parameter=2,\n",
    ")\n",
    "feat_df_alt[\"clust\"] = G\n",
    "relabel_sorted(feat_df_alt, \"clust\", \"soma_depth\")"
   ]
  },
  {
   "cell_type": "code",
   "execution_count": null,
   "id": "67cc92c0-5bcd-4287-95e4-c538f48cba44",
   "metadata": {},
   "outputs": [],
   "source": [
    "feat_df_alt.query('clust==23').pt_root_id.sample(20).values"
   ]
  },
  {
   "cell_type": "code",
   "execution_count": null,
   "id": "e909e0c0-13f2-49ff-9535-af87c1463d4b",
   "metadata": {},
   "outputs": [],
   "source": [
    "feat_df_alt.shape"
   ]
  },
  {
   "cell_type": "code",
   "execution_count": null,
   "id": "0c977b42-5b62-44b2-8c78-dfb23f46c102",
   "metadata": {},
   "outputs": [],
   "source": [
    "feat_df_alt.query('clust==12')"
   ]
  },
  {
   "cell_type": "code",
   "execution_count": null,
   "id": "2da907ec-42c9-45de-aa3d-4b249cb5c91f",
   "metadata": {},
   "outputs": [],
   "source": [
    "raw_df = skel_features.io_utils.load_features(dfct_e['root_id'], feature_dir)\n",
    "\n",
    "(\n",
    "    feat_df_alt,\n",
    "    feat_cols,\n",
    "    syn_pca,\n",
    "    br_svd,\n",
    "    keep_depth,\n",
    "    ego_pca,\n",
    "    model_dict,\n",
    ") = skel_features.assembly.assemble_features_from_data(raw_df.dropna(), n_syn_comp=6, n_branch_comp=3, n_syn_ego=5)"
   ]
  },
  {
   "cell_type": "code",
   "execution_count": null,
   "id": "047ddf0b-e968-499e-82e5-5dc59ba3bf67",
   "metadata": {},
   "outputs": [],
   "source": [
    "success"
   ]
  },
  {
   "cell_type": "code",
   "execution_count": null,
   "id": "22206bf6-0e21-4c99-b02e-f694824c617b",
   "metadata": {},
   "outputs": [],
   "source": [
    "success = skel_features.extraction.extract_features_mp(\n",
    "    dfct_e['root_id'],\n",
    "    sk_dir_alt,\n",
    "    height_bnds,\n",
    "    minnie_ds,\n",
    "    feature_dir,\n",
    ")"
   ]
  },
  {
   "cell_type": "code",
   "execution_count": null,
   "id": "caf328d0-783a-4616-be57-e581f7d9e5ea",
   "metadata": {},
   "outputs": [],
   "source": [
    "raw_df = skel_features.io_utils.load_features(dfct_e['root_id'], feature_dir)\n",
    "\n",
    "(\n",
    "    feat_df_alt,\n",
    "    feat_cols,\n",
    "    syn_pca,\n",
    "    br_svd,\n",
    "    keep_depth,\n",
    "    ego_pca,\n",
    "    model_dict,\n",
    ") = skel_features.assembly.assemble_features_from_data(raw_df.dropna(), n_syn_comp=6, n_branch_comp=3, n_syn_ego=5)"
   ]
  },
  {
   "cell_type": "code",
   "execution_count": null,
   "id": "7f2f202d-0f14-4638-b04b-6cdedd4718e3",
   "metadata": {},
   "outputs": [],
   "source": [
    "feat_df_alt = feat_df_alt.merge(\n",
    "    dfct_e[['root_id', 'hlabel']],\n",
    "    how='left',\n",
    "    on='root_id',\n",
    ")"
   ]
  },
  {
   "cell_type": "code",
   "execution_count": null,
   "id": "e8d29478-560d-4f2f-8454-e72b35a342aa",
   "metadata": {},
   "outputs": [],
   "source": [
    "df = pd.read_feather('../skeletonization/data/minnie65_phase3_v1/it_targets_of_pt.feather')"
   ]
  },
  {
   "cell_type": "code",
   "execution_count": null,
   "id": "51471b95-44c2-4631-b36e-66abd5031c0a",
   "metadata": {},
   "outputs": [],
   "source": [
    "success = skel_features.extraction.extract_features_mp(\n",
    "    df['pt_root_id'],\n",
    "    skel_dir,\n",
    "    height_bnds,\n",
    "    minnie_ds,\n",
    "    feature_dir,\n",
    ")"
   ]
  },
  {
   "cell_type": "code",
   "execution_count": null,
   "id": "bce47b50-eab4-4936-bc3e-81fd20730c11",
   "metadata": {},
   "outputs": [],
   "source": [
    "raw_df = skel_features.io_utils.load_features(df['pt_root_id'], feature_dir)\n",
    "\n",
    "(\n",
    "    feat_df,\n",
    "    feat_cols,\n",
    "    syn_pca,\n",
    "    br_svd,\n",
    "    keep_depth,\n",
    "    ego_pca,\n",
    "    model_dict\n",
    ") = skel_features.assembly.assemble_features_from_data(raw_df.dropna(), n_syn_comp=6, n_branch_comp=3, n_syn_ego=5, model_dict=model_dict)\n",
    "feat_cols.pop(16)"
   ]
  },
  {
   "cell_type": "code",
   "execution_count": null,
   "id": "708d3abc-7971-4c81-b75d-ee59122cc24a",
   "metadata": {},
   "outputs": [],
   "source": [
    "from scipy import stats\n",
    "\n",
    "import numpy as np"
   ]
  },
  {
   "cell_type": "code",
   "execution_count": null,
   "id": "eaa1e3e5-2797-4fcc-8af3-15ce65d45c1c",
   "metadata": {},
   "outputs": [],
   "source": [
    "import umap\n",
    "\n",
    "import dill as pickle\n",
    "with open('../../../Projects/pt_targets/column_umap_v607.pkl', 'rb') as f:\n",
    "    res = pickle.load(f)"
   ]
  },
  {
   "cell_type": "code",
   "execution_count": null,
   "id": "21166a8f-251b-4da0-81ee-5c629e6d5b5e",
   "metadata": {},
   "outputs": [],
   "source": [
    "import matplotlib.pyplot as plt\n",
    "import seaborn as sns"
   ]
  },
  {
   "cell_type": "code",
   "execution_count": null,
   "id": "bc3bc7ca-aa96-4c99-99c5-8bdcca1edcaa",
   "metadata": {},
   "outputs": [],
   "source": [
    "from sklearn import preprocessing"
   ]
  },
  {
   "cell_type": "code",
   "execution_count": null,
   "id": "cc9a0a0f-117d-414a-be17-e512c4a66968",
   "metadata": {},
   "outputs": [],
   "source": [
    "res = umap.UMAP(metric=\"euclidean\", min_dist=0.05, n_neighbors=20)\n",
    "\n",
    "feat_pproc = preprocessing.StandardScaler().fit(feat_df_alt[feat_cols])\n",
    "\n",
    "xx = res.fit_transform(feat_pproc.transform(feat_df_alt[feat_cols]))\n",
    "feat_df_alt[\"umap0_raw\"] = xx[:, 0]\n",
    "feat_df_alt[\"umap1_raw\"] = xx[:, 1]\n",
    "                       \n",
    "xx = res.transform(feat_pproc.transform(feat_df[feat_cols]))\n",
    "feat_df[\"umap0_raw\"] = xx[:, 0]\n",
    "feat_df[\"umap1_raw\"] = xx[:, 1]"
   ]
  },
  {
   "cell_type": "code",
   "execution_count": null,
   "id": "08bb086f-d43b-4a5a-a0f5-2589f883f7fc",
   "metadata": {},
   "outputs": [],
   "source": [
    "import matplotlib.pyplot as plt\n",
    "import seaborn as sns\n"
   ]
  },
  {
   "cell_type": "code",
   "execution_count": null,
   "id": "6a712295-760f-4faf-adc3-2163d2390724",
   "metadata": {},
   "outputs": [],
   "source": [
    "import matplotlib.pyplot as plt\n",
    "import seaborn as sns\n",
    "\n",
    "fig, ax = plt.subplots(dpi=150)\n",
    "sns.scatterplot(\n",
    "    x=f\"umap0_raw\",\n",
    "    y=f\"umap1_raw\",\n",
    "    data=feat_df_alt,\n",
    "    hue=\"hlabel\",\n",
    "    # palette='tab20',\n",
    "    palette=ctype_hues,\n",
    "    s=10,\n",
    "    alpha=0.5,\n",
    ")\n",
    "\n",
    "sns.scatterplot(\n",
    "    x=f\"umap0_raw\",\n",
    "    y=f\"umap1_raw\",\n",
    "    data=feat_df,\n",
    "    color='k',\n",
    "    # hue=\"hlabel\",\n",
    "    # palette=\"tab20\",\n",
    "    s=5,\n",
    "    alpha=0.8\n",
    ")\n",
    "\n",
    "ax.set_aspect('equal')\n",
    "ax.legend().set_bbox_to_anchor((1, 1))"
   ]
  },
  {
   "cell_type": "code",
   "execution_count": null,
   "id": "41039d2e-fe10-4569-a1c5-c5c98dd2e1e5",
   "metadata": {},
   "outputs": [],
   "source": [
    "import xgboost as xgb"
   ]
  },
  {
   "cell_type": "code",
   "execution_count": null,
   "id": "45619e7f-8fc9-4d24-b6b0-689c49e0e31d",
   "metadata": {},
   "outputs": [],
   "source": [
    "rep_num = {ct:ii for ii, ct in enumerate(sorted(feat_df_alt['hlabel'].unique()))}\n",
    "rep_back = {ii:ct for ii, ct in enumerate(sorted(feat_df_alt['hlabel'].unique()))}"
   ]
  },
  {
   "cell_type": "code",
   "execution_count": null,
   "id": "96acbe82-0c6e-4693-a653-7e5c73c6a5c7",
   "metadata": {},
   "outputs": [],
   "source": [
    "feat_df_alt['hlabel_int'] = feat_df_alt['hlabel'].replace(rep_num)"
   ]
  },
  {
   "cell_type": "code",
   "execution_count": null,
   "id": "ab6b1eb1-6cca-437e-896a-b8d62a02cd6e",
   "metadata": {},
   "outputs": [],
   "source": [
    "bst = xgb.XGBClassifier(num_class=len(rep_num), objective='multi:softmax')\n",
    "bst.fit(feat_df_alt[feat_cols], y=feat_df_alt['hlabel_int'])"
   ]
  },
  {
   "cell_type": "code",
   "execution_count": null,
   "id": "9dc55586-9a4c-42b2-86b5-cedbbd3b034e",
   "metadata": {},
   "outputs": [],
   "source": [
    "feat_df['hlabel_int_pred'] = bst.predict(feat_df[feat_cols])\n",
    "feat_df['hlabel_pred'] = feat_df['hlabel_int_pred'].replace(rep_back)"
   ]
  },
  {
   "cell_type": "code",
   "execution_count": null,
   "id": "5d090eea-4662-4580-bbbd-ce601f8c729e",
   "metadata": {},
   "outputs": [],
   "source": [
    "syn_df = pd.read_feather('/Users/caseysm/Work/Projects/pt_targets/l5_target_df_v699.feather')"
   ]
  },
  {
   "cell_type": "code",
   "execution_count": null,
   "id": "108f157b-8867-4e4b-855b-7d49ec2ba574",
   "metadata": {},
   "outputs": [],
   "source": [
    "syn_df.merge(\n",
    "    feat_df[['root_id', 'hlabel_pred']],\n",
    "    on='root_id',\n",
    ").to_feather('/Users/caseysm/Work/Projects/pt_targets/l5_target_df_pred_v699.feather')"
   ]
  },
  {
   "cell_type": "code",
   "execution_count": null,
   "id": "df011313-31c9-45b4-b709-3fce93d0ef8c",
   "metadata": {},
   "outputs": [],
   "source": []
  },
  {
   "cell_type": "code",
   "execution_count": null,
   "id": "e68ed5c8-979e-4246-8936-8775d636f5c6",
   "metadata": {},
   "outputs": [],
   "source": [
    "feat_df.groupby('hlabel_pred').count()[['root_id']]"
   ]
  },
  {
   "cell_type": "code",
   "execution_count": null,
   "id": "d3455bfd-4861-464d-866c-b6230cf14e51",
   "metadata": {},
   "outputs": [],
   "source": [
    "from nglui import statebuilder"
   ]
  },
  {
   "cell_type": "code",
   "execution_count": null,
   "id": "44d139bb-1563-4a88-b31d-8abc5fbbe060",
   "metadata": {},
   "outputs": [],
   "source": []
  },
  {
   "cell_type": "code",
   "execution_count": null,
   "id": "69b7cf8b-fbd6-42f2-a92e-280cb55ec1b8",
   "metadata": {},
   "outputs": [],
   "source": [
    "fig, ax = plt.subplots(dpi=150)\n",
    "sns.scatterplot(\n",
    "    x=f\"umap0_raw\",\n",
    "    y=f\"umap1_raw\",\n",
    "    data=feat_df_alt,\n",
    "    hue=\"hlabel\",\n",
    "    palette=\"tab20\",\n",
    "    s=10,\n",
    ")\n",
    "ax.set_aspect('equal')\n",
    "ax.legend().set_bbox_to_anchor((1, 1))"
   ]
  },
  {
   "cell_type": "code",
   "execution_count": null,
   "id": "578500c2-2369-422e-a678-d690a37ca657",
   "metadata": {},
   "outputs": [],
   "source": [
    "feat_df.drop(feat_df.query('cell_type==\"Non-neuronal\"').index, inplace=True)"
   ]
  },
  {
   "cell_type": "code",
   "execution_count": null,
   "id": "a8718368-53b2-47ac-bcb6-c08065d5a05f",
   "metadata": {},
   "outputs": [],
   "source": [
    "import pickle\n",
    "with open('../../../Projects/MinnieColumn/notebooks/paper_versions/v507/data/ctype_hues.pkl', 'br') as f:\n",
    "    ctype_hues = pickle.load(f)"
   ]
  },
  {
   "cell_type": "code",
   "execution_count": null,
   "id": "c513d2f3-cc49-4d1a-9108-b6ddafcdd6f7",
   "metadata": {},
   "outputs": [],
   "source": [
    "feat_df.cell_type.isnull().sum()"
   ]
  },
  {
   "cell_type": "code",
   "execution_count": null,
   "id": "320b9eb2-c9bc-4236-82d9-8701f6e8a288",
   "metadata": {},
   "outputs": [],
   "source": [
    "fig, ax = plt.subplots(figsize=(4, 4), dpi=300)\n",
    "feat_df.merge(\n",
    "    ct_df[[\"pt_root_id\", \"cell_type\"]].rename(columns={\"pt_root_id\": \"root_id\"}),\n",
    "    how=\"left\",\n",
    "    on=\"root_id\",\n",
    ")\n",
    "\n",
    "sns.scatterplot(\n",
    "    x=\"umap0\",\n",
    "    y=\"umap1\",\n",
    "    data=feat_df,\n",
    "    s=2,\n",
    "    alpha=0.2,\n",
    "    color=\"k\",\n",
    ")\n"
   ]
  },
  {
   "cell_type": "code",
   "execution_count": null,
   "id": "5f2669bc-c689-4862-95aa-0cda41fedffe",
   "metadata": {},
   "outputs": [],
   "source": [
    "import phenograph\n",
    "\n",
    "from sklearn import ensemble, model_selection"
   ]
  },
  {
   "cell_type": "code",
   "execution_count": null,
   "id": "81d6779d-c9d0-4d51-9e0e-d42e854bb270",
   "metadata": {},
   "outputs": [],
   "source": [
    "from xgboost import XGBClassifier\n",
    "from bidict import bidict\n",
    "\n",
    "bst = XGBClassifier(n_estimators=10, max_depth=7, learning_rate=1, objective='binary:logistic')"
   ]
  },
  {
   "cell_type": "code",
   "execution_count": null,
   "id": "99f7308f-942a-4249-a4a7-48c19814313d",
   "metadata": {},
   "outputs": [],
   "source": [
    "feat_df['is_exc'] = (feat_df['cell_type']==\"PYC\").astype(int)"
   ]
  },
  {
   "cell_type": "code",
   "execution_count": null,
   "id": "177da652-35e0-4ebd-b5fd-9c9ef52994f6",
   "metadata": {},
   "outputs": [],
   "source": [
    "model_selection.cross_validate(\n",
    "    bst,\n",
    "    feat_df.dropna(subset='cell_type')[feat_cols_nospace],\n",
    "    feat_df.dropna(subset='cell_type')['is_exc'],\n",
    "    cv=5,\n",
    ")"
   ]
  },
  {
   "cell_type": "code",
   "execution_count": null,
   "id": "6352dd6b-7bb8-4f9d-8d71-3fe6d4c1b5d4",
   "metadata": {},
   "outputs": [],
   "source": [
    "bst.fit(\n",
    "    feat_df.dropna(subset=\"cell_type\")[feat_cols],\n",
    "    feat_df.dropna(subset=\"cell_type\")[\"is_exc\"],\n",
    ")\n",
    "feat_df['is_exc_pred'] = bst.predict(feat_df[feat_cols])\n",
    "feat_df['is_exc_pred'].replace({1: True, 0: False}, inplace=True)"
   ]
  },
  {
   "cell_type": "code",
   "execution_count": null,
   "id": "f403321e-9998-4261-980d-f5a9813def95",
   "metadata": {},
   "outputs": [],
   "source": [
    "i_oids = feat_df.query('~is_exc_pred')['root_id'].values\n",
    "raw_df_i = raw_df.query('root_id in @i_oids')\n",
    "(\n",
    "    feat_df_i,\n",
    "    feat_cols_i,\n",
    "    syn_pca_i,\n",
    "    br_svd_i,\n",
    "    keep_depth_i,\n",
    "    ego_pca_i,\n",
    ") = skel_features.assembly.assemble_features_from_data(raw_df_i.dropna(), n_syn_comp=8, n_branch_comp=3, n_syn_ego=5)\n",
    "\n",
    "idf = feat_df_i.dropna()\n",
    "\n",
    "idf = idf.merge(\n",
    "    ct_df[['pt_root_id', 'cell_type']].rename(columns={'pt_root_id':'root_id'}),\n",
    "    how='left',\n",
    "    on='root_id',\n",
    ")"
   ]
  },
  {
   "cell_type": "code",
   "execution_count": null,
   "id": "41aa9214-a080-44e6-b692-c81abf4d8d59",
   "metadata": {},
   "outputs": [],
   "source": [
    "bst = XGBClassifier(n_estimators=10, max_depth=7, learning_rate=1, objective='multi:softmax')\n",
    "\n",
    "ct_map = bidict(\n",
    "    {'BC': 0, 'MC': 1, 'NGC': 2, 'BPC': 3}\n",
    ")\n",
    "\n",
    "idftr = idf.dropna(subset='cell_type').query('cell_type!=\"Unsure I\"')\n",
    "idftr['cell_type_int'] = idftr['cell_type'].replace(ct_map)\n",
    "\n",
    "model_selection.cross_validate(\n",
    "    bst,\n",
    "    idftr[feat_cols_i],\n",
    "    idftr['cell_type_int'],\n",
    "    cv=6,\n",
    ")"
   ]
  },
  {
   "cell_type": "code",
   "execution_count": null,
   "id": "4760e7ed-d74c-4eed-8f67-fddf810e17d3",
   "metadata": {},
   "outputs": [],
   "source": [
    "bst = XGBClassifier(n_estimators=10, max_depth=7, learning_rate=1, objective='multi:softmax')\n",
    "\n",
    "bst.fit(\n",
    "    idftr[feat_cols_i],\n",
    "    idftr[\"cell_type_int\"],\n",
    ")\n",
    "idf['ct_pred'] = bst.predict(idf[feat_cols_i])\n",
    "idf['ct_pred'].replace(ct_map.inv, inplace=True)"
   ]
  },
  {
   "cell_type": "code",
   "execution_count": null,
   "id": "0ecf9de0-ab03-4aa8-9a93-81bdbe142ec1",
   "metadata": {},
   "outputs": [],
   "source": [
    "dat = idf[feat_cols_i].values\n",
    "datz = stats.zscore(dat)\n",
    "\n",
    "resi = umap.UMAP(metric=\"euclidean\", min_dist=0.05, n_neighbors=30)\n",
    "X = resi.fit_transform(datz)\n",
    "idf[\"umap0\"] = X[:, 0]\n",
    "idf[\"umap1\"] = X[:, 1]"
   ]
  },
  {
   "cell_type": "code",
   "execution_count": null,
   "id": "0c341610-fc75-425e-8e64-1d0072d5ab1a",
   "metadata": {},
   "outputs": [],
   "source": [
    "fig, ax = plt.subplots(figsize=(5,5), dpi=150)\n",
    "sns.scatterplot(\n",
    "    x='umap0',\n",
    "    y='umap1',\n",
    "    color=(0.5, 0.5, 0.5),\n",
    "    alpha=0.5,\n",
    "    data=idf,\n",
    "    s=10,\n",
    ")\n",
    "sns.scatterplot(\n",
    "    x='umap0',\n",
    "    y='umap1',\n",
    "    hue='cell_type',\n",
    "    palette='Set1',\n",
    "    data=idf.dropna(subset='cell_type').query('cell_type!=\"Unsure I\"'),\n",
    "    s=10,\n",
    ")\n",
    "ax.set_aspect('equal')"
   ]
  },
  {
   "cell_type": "code",
   "execution_count": null,
   "id": "cf22fc00-ac7c-4dda-8c94-67c99b4d4008",
   "metadata": {},
   "outputs": [],
   "source": [
    "ct_hues = {ct: clr for ct, clr in zip(['BC', 'MC', 'BPC', 'NGC'], sns.color_palette('Dark2', n_colors=4))}"
   ]
  },
  {
   "cell_type": "code",
   "execution_count": null,
   "id": "a22c2cf2-b0de-4f58-8e96-711f8a552199",
   "metadata": {},
   "outputs": [],
   "source": [
    "fig, ax = plt.subplots(figsize=(5,5), dpi=300)\n",
    "sns.scatterplot(\n",
    "    x='umap0',\n",
    "    y='umap1',\n",
    "    # color=(0.5, 0.5, 0.5),\n",
    "    hue='ct_pred',\n",
    "    palette=ct_hues,\n",
    "    alpha=0.5,\n",
    "    data=idf,\n",
    "    s=10,\n",
    ")\n",
    "sns.scatterplot(\n",
    "    x='umap0',\n",
    "    y='umap1',\n",
    "    hue='cell_type',\n",
    "    palette=ct_hues,\n",
    "    data=idf.dropna(subset='cell_type').query('cell_type!=\"Unsure I\"'),\n",
    "    s=10,\n",
    "    edgecolor='k',\n",
    "    legend=False,\n",
    ")\n",
    "ax.set_aspect('equal')\n",
    "ax.legend().set_bbox_to_anchor((1,1))"
   ]
  },
  {
   "cell_type": "code",
   "execution_count": null,
   "id": "dc321b13-cc04-4fa4-92bd-bc701ca81686",
   "metadata": {},
   "outputs": [],
   "source": [
    "G, _, _ = phenograph.cluster(\n",
    "    datz,\n",
    "    clustering_algo=\"leiden\",\n",
    "    k=10,\n",
    "    primary_metric=\"euclidean\",\n",
    "    resolution_parameter=1.2,\n",
    ")\n",
    "idf[\"clust\"] = G"
   ]
  },
  {
   "cell_type": "code",
   "execution_count": null,
   "id": "51befe5a-20aa-4154-a404-c7d3b97dcbe9",
   "metadata": {},
   "outputs": [],
   "source": [
    "idf.pivot_table(\n",
    "    index='clust',\n",
    "    columns='ct_pred',\n",
    "    values='root_id',\n",
    "    aggfunc='count',\n",
    "    fill_value=0,\n",
    ")"
   ]
  },
  {
   "cell_type": "code",
   "execution_count": null,
   "id": "d23eb840-00d8-4f59-a368-ad70f4e8f652",
   "metadata": {},
   "outputs": [],
   "source": [
    "from nglui import statebuilder"
   ]
  },
  {
   "cell_type": "code",
   "execution_count": null,
   "id": "1f7195aa-8dfa-49aa-8330-9ff4816a2615",
   "metadata": {},
   "outputs": [],
   "source": [
    "idf_s = idf.merge(\n",
    "    df[['pt_root_id', 'pt_position']],\n",
    "    left_on='root_id',\n",
    "    right_on='pt_root_id',\n",
    "    how='left',\n",
    ")"
   ]
  },
  {
   "cell_type": "code",
   "execution_count": null,
   "id": "e4001782-36bf-4f5f-a747-eb3115e08924",
   "metadata": {},
   "outputs": [],
   "source": [
    "idf_s.query('soma_depth < 110').groupby('ct_pred').count()"
   ]
  },
  {
   "cell_type": "code",
   "execution_count": null,
   "id": "6930c6ab-6687-4c6c-be15-9036dcba62a5",
   "metadata": {},
   "outputs": [],
   "source": [
    "idf = idf.merge(\n",
    "    df[['pt_root_id', 'id']],\n",
    "    left_on='root_id',\n",
    "    right_on='pt_root_id',\n",
    "    validate='1:1',\n",
    ")"
   ]
  },
  {
   "cell_type": "code",
   "execution_count": null,
   "id": "8121335d-b60c-4ca1-aec5-17cf04e7a86c",
   "metadata": {},
   "outputs": [],
   "source": [
    "client.annotation.create_table(\n",
    "    table_name='cell_type_skel_features_v1',\n",
    "    schema_name='cell_type_reference',\n",
    "    description='Cell type predictions for single nucleus objects within 175 microns of the centerline and with nucleus volume greater than 218, based on dendritic skeleton features similar to those in Schneider-Mizell et al. 2023. Classification system has excitatory and inhibitory info, cell type is more detailed, with four inhibitory types (Soma-targeting ProxTC, Dendrite-targeting DistTC, Inhibitory-targeting InhTC, and Sparsely targeting SparTC) and excitatory neurons labeled by layer and projection class for layer five: IT, NP, ET.',\n",
    "    voxel_resolution=[1,1,1],\n",
    "    reference_table='nucleus_detection_v0',\n",
    "    track_target_id_updates=True,\n",
    ")"
   ]
  },
  {
   "cell_type": "code",
   "execution_count": null,
   "id": "3b8a7e76-3c65-4b7d-942e-2d1a169f8bf7",
   "metadata": {},
   "outputs": [],
   "source": [
    "stage = client.annotation.stage_annotations('cell_type_skel_features_v1')"
   ]
  },
  {
   "cell_type": "code",
   "execution_count": null,
   "id": "52842e29-6342-4d05-9cd8-1b82f8c0ed78",
   "metadata": {},
   "outputs": [],
   "source": [
    "inh_replace = {'BC': 'ProxTC', 'MC': 'DistTC', 'BPC': 'InhTC', 'NGC': 'SparTC'}"
   ]
  },
  {
   "cell_type": "code",
   "execution_count": null,
   "id": "012801ed-a6f3-4447-949c-9a9047a9ceed",
   "metadata": {},
   "outputs": [],
   "source": [
    "idf['classification'] = 'inhibitory'"
   ]
  },
  {
   "cell_type": "code",
   "execution_count": null,
   "id": "98321a8f-955b-4ef4-9b42-faab42d24888",
   "metadata": {},
   "outputs": [],
   "source": [
    "stage.add?"
   ]
  },
  {
   "cell_type": "code",
   "execution_count": null,
   "id": "2d2892ec-1b6b-4f91-9c2c-69d53f0db5ba",
   "metadata": {},
   "outputs": [],
   "source": [
    "for _, row in idf.iterrows():\n",
    "    stage.add(\n",
    "        cell_type = inh_replace.get(row['ct_pred']),\n",
    "        classification_system='inhibitory',\n",
    "        target_id=row['id'],\n",
    "    )"
   ]
  },
  {
   "cell_type": "code",
   "execution_count": null,
   "id": "ec1828e3-7d27-465e-8692-81b65b7dea14",
   "metadata": {},
   "outputs": [],
   "source": [
    "client.annotation.upload_staged_annotations(stage)"
   ]
  },
  {
   "cell_type": "code",
   "execution_count": null,
   "id": "986e6be2-2809-4181-898e-f704bcf03182",
   "metadata": {},
   "outputs": [],
   "source": [
    "img, seg = statebuilder.from_client(client)\n",
    "annos = []\n",
    "for ct, clr in zip(sorted(idf_s['ct_pred'].unique()), sns.palettes.color_palette('tab20', n_colors=len(np.unique(idf_s['ct_pred'])))):\n",
    "    annos.append(\n",
    "        statebuilder.AnnotationLayerConfig(\n",
    "            ct,\n",
    "            mapping_rules=statebuilder.PointMapper('pt_position', linked_segmentation_column='pt_root_id'),\n",
    "            filter_query=f\"ct_pred=='{ct}'\",\n",
    "            color=clr,\n",
    "            data_resolution=[1,1,1],\n",
    "            linked_segmentation_layer=seg.name,\n",
    "        )\n",
    "    )\n",
    "sb = statebuilder.StateBuilder([img, seg]+annos, client=client)"
   ]
  },
  {
   "cell_type": "code",
   "execution_count": null,
   "id": "6b635cf2-8f55-4d40-9600-684d8fb9cdb3",
   "metadata": {},
   "outputs": [],
   "source": [
    "sb.render_state(\n",
    "    idf_s.query('cell_type not in @ct_hues').sort_values(by='soma_depth'),\n",
    "    return_as='html',\n",
    ")"
   ]
  },
  {
   "cell_type": "code",
   "execution_count": null,
   "id": "9e5969d5-b53f-4ded-bf3e-cfca0c52ab0c",
   "metadata": {},
   "outputs": [],
   "source": [
    "idf.groupby('ct_pred').count()"
   ]
  },
  {
   "cell_type": "code",
   "execution_count": null,
   "id": "c88badf2-a354-4007-a2a7-9215be60075a",
   "metadata": {},
   "outputs": [],
   "source": [
    "fig, ax = plt.subplots(figsize=(5,5), dpi=150)\n",
    "sns.scatterplot(\n",
    "    x='umap0',\n",
    "    y='umap1',\n",
    "    color=(0.5, 0.5, 0.5),\n",
    "    alpha=0.5,\n",
    "    data=idf,\n",
    "    s=5,\n",
    ")\n",
    "sns.scatterplot(\n",
    "    x='umap0',\n",
    "    y='umap1',\n",
    "    hue='clust',\n",
    "    palette='tab20',\n",
    "    data=idf,\n",
    "    s=5,\n",
    ")\n",
    "ax.legend().set_bbox_to_anchor((1,1))\n",
    "ax.set_aspect('equal')"
   ]
  },
  {
   "cell_type": "code",
   "execution_count": null,
   "id": "3d7cfe9b-0271-44cb-aad9-ddbf60fed4ec",
   "metadata": {},
   "outputs": [],
   "source": [
    "idf_s = idf.merge(\n",
    "    df[['pt_root_id', 'pt_position']],\n",
    "    left_on='root_id',\n",
    "    right_on='pt_root_id',\n",
    "    how='left',\n",
    ")"
   ]
  },
  {
   "cell_type": "code",
   "execution_count": null,
   "id": "28994796-d66d-4280-889b-798bf70efe4e",
   "metadata": {},
   "outputs": [],
   "source": [
    "from xgboost import XGBClassifier\n",
    "from bidict import bidict\n",
    "\n",
    "\n"
   ]
  },
  {
   "cell_type": "code",
   "execution_count": null,
   "id": "1fd86d43-0b1a-4ea2-b576-255db58dc414",
   "metadata": {},
   "outputs": [],
   "source": [
    "bst = XGBClassifier(n_estimators=10, max_depth=7, learning_rate=1, objective='multi:softmax')\n",
    "idftr = idf.dropna(subset='cell_type').query('cell_type!=\"Unsure I\"')\n",
    "idftr['cell_type_int'] = idftr['cell_type'].replace(ct_map)\n",
    "bst.fit(\n",
    "    idftr[feat_cols_i],\n",
    "    idftr['cell_type_int'],\n",
    ")\n"
   ]
  },
  {
   "cell_type": "code",
   "execution_count": null,
   "id": "6bee870f-e667-4717-a9aa-00ede8e4f986",
   "metadata": {},
   "outputs": [],
   "source": [
    "idf['ct_pred_xgb'] = bst.predict(idf[feat_cols_i])\n",
    "idf['ct_pred_xgb'] = idf['ct_pred_xgb'].replace(ct_map.inv)"
   ]
  },
  {
   "cell_type": "code",
   "execution_count": null,
   "id": "4d3b46c1-d317-4a21-8d82-0799e7977374",
   "metadata": {},
   "outputs": [],
   "source": [
    "idf_s = idf.merge(\n",
    "    df[['pt_root_id', 'pt_position']],\n",
    "    left_on='root_id',\n",
    "    right_on='pt_root_id',\n",
    "    how='left',\n",
    ")"
   ]
  },
  {
   "cell_type": "code",
   "execution_count": null,
   "id": "76071c8e-3896-40db-abb6-3db54a29875f",
   "metadata": {},
   "outputs": [],
   "source": [
    "img, seg = statebuilder.from_client(client)\n",
    "\n",
    "annos = []\n",
    "for ct, clr in zip(\n",
    "    np.unique(idf_s[\"ct_pred_xgb\"]),\n",
    "    sns.palettes.color_palette(\"husl\", n_colors=len(np.unique(idf_s[\"ct_pred_xgb\"]))),\n",
    "):\n",
    "    annos.append(\n",
    "        statebuilder.AnnotationLayerConfig(\n",
    "            f\"{ct}\",\n",
    "            mapping_rules=statebuilder.PointMapper(\n",
    "                \"pt_position\", linked_segmentation_column=\"pt_root_id\"\n",
    "            ),\n",
    "            filter_query=f\"ct_pred_xgb=='{ct}'\",\n",
    "            color=clr,\n",
    "            data_resolution=[1, 1, 1],\n",
    "            linked_segmentation_layer=seg.name,\n",
    "        )\n",
    "    )\n",
    "sb = statebuilder.StateBuilder([img, seg] + annos, client=client)"
   ]
  },
  {
   "cell_type": "code",
   "execution_count": null,
   "id": "8040d2e2-856f-4adb-8931-50c0a8c03f13",
   "metadata": {},
   "outputs": [],
   "source": [
    "sb.render_state(idf_s, return_as='html')"
   ]
  },
  {
   "cell_type": "code",
   "execution_count": null,
   "id": "152c947b-22c5-4b35-a68e-b161454aac98",
   "metadata": {},
   "outputs": [],
   "source": [
    "feat_df.query('is_exc_pred')"
   ]
  },
  {
   "cell_type": "markdown",
   "id": "ce1020ac-f91d-47fd-89ac-30d2466d465f",
   "metadata": {},
   "source": [
    "Excitatory neurons"
   ]
  },
  {
   "cell_type": "code",
   "execution_count": null,
   "id": "f7468cef-fef3-41f0-99c1-248b75ff4411",
   "metadata": {},
   "outputs": [],
   "source": [
    "e_oids = feat_df.query('is_exc_pred')['root_id'].values\n",
    "e_oids = e_oids[~np.isin(e_oids, bad_l4)]\n",
    "raw_df_e = raw_df.query('root_id in @e_oids')\n",
    "(\n",
    "    feat_df_e,\n",
    "    feat_cols,\n",
    "    syn_pca,\n",
    "    br_svd,\n",
    "    keep_depth,\n",
    "    ego_pca,\n",
    ") = skel_features.assembly.assemble_features_from_data(raw_df_e.dropna(), n_syn_comp=10, n_branch_comp=3, n_syn_ego=5)\n",
    "\n",
    "edf = feat_df_e.dropna()\n",
    "\n",
    "feat_cols.pop(16)"
   ]
  },
  {
   "cell_type": "code",
   "execution_count": null,
   "id": "28517300-c611-4e7f-bf82-36e530195a79",
   "metadata": {},
   "outputs": [],
   "source": [
    "dat = edf[feat_cols].values\n",
    "datz = stats.zscore(dat)\n",
    "\n",
    "rese = umap.UMAP(metric=\"euclidean\", n_components=2, min_dist=0.05, n_neighbors=20)\n",
    "X = rese.fit_transform(datz)\n",
    "edf[\"umap0\"] = X[:, 0]\n",
    "edf[\"umap1\"] = X[:, 1]"
   ]
  },
  {
   "cell_type": "code",
   "execution_count": null,
   "id": "c8d0a773-d00a-4272-8add-cce3e48a4e9d",
   "metadata": {},
   "outputs": [],
   "source": [
    "fig, ax = plt.subplots(figsize=(5,5), dpi=150)\n",
    "sns.scatterplot(\n",
    "    x='umap0',\n",
    "    y='umap1',\n",
    "    hue='soma_depth',\n",
    "    palette='magma',\n",
    "    data=edf,\n",
    "    s=2,\n",
    "    alpha=0.7,\n",
    ")"
   ]
  },
  {
   "cell_type": "code",
   "execution_count": null,
   "id": "93728999-ac9e-423c-8d3a-81cf8020eb43",
   "metadata": {},
   "outputs": [],
   "source": [
    "def relabel_sorted(df, label_column, sort_column, ascending=True):\n",
    "    sorted_label = (\n",
    "        df.groupby(label_column)\n",
    "        .agg({sort_column: \"mean\"})\n",
    "        .sort_values(by=sort_column, ascending=ascending)\n",
    "        .index.values\n",
    "    )\n",
    "    relabel_index = {x: ii for ii, x in enumerate(sorted_label)}\n",
    "    df[label_column] = df[label_column].apply(lambda x: relabel_index[x])"
   ]
  },
  {
   "cell_type": "code",
   "execution_count": null,
   "id": "356151fe-9cd6-4f74-ab65-0e72138d0d17",
   "metadata": {},
   "outputs": [],
   "source": [
    "import tqdm"
   ]
  },
  {
   "cell_type": "code",
   "execution_count": null,
   "id": "83768de6-756d-4f9c-87f9-d6a935fb5985",
   "metadata": {},
   "outputs": [],
   "source": [
    "edf = edf.reset_index(drop=True)"
   ]
  },
  {
   "cell_type": "code",
   "execution_count": null,
   "id": "eed35f33-3727-4d12-a1ce-779631e7005f",
   "metadata": {},
   "outputs": [],
   "source": [
    "ntimes = 100\n",
    "hold_out = 0.95\n",
    "\n",
    "res_param = 1.4\n",
    "kph = 20\n",
    "\n",
    "dat = edf[feat_cols].values\n",
    "datz_all = stats.zscore(dat)\n",
    "\n",
    "df_groups = pd.DataFrame(index=edf.index.astype(int))\n",
    "for ii in tqdm.tqdm(np.arange(ntimes)):\n",
    "    subset_inds = np.sort(\n",
    "        np.random.choice(\n",
    "            np.arange(dat.shape[0]),\n",
    "            size=np.round(hold_out * dat.shape[0]).astype(int),\n",
    "            replace=False,\n",
    "        )\n",
    "    )\n",
    "    \n",
    "    datz = datz_all[subset_inds]\n",
    "\n",
    "    labels, G, Q = phenograph.cluster(\n",
    "        datz, clustering_algo=\"leiden\", k=kph, resolution_parameter=res_param,\n",
    "    )\n",
    "\n",
    "    colname = f\"r_k{kph}_{ii}\"\n",
    "    df_groups.loc[subset_inds, colname] = labels\n",
    "\n",
    "# if save_plots:\n",
    "# df_groups.to_pickle(\"df_groups_onehot_100_v5.pickle\")"
   ]
  },
  {
   "cell_type": "code",
   "execution_count": null,
   "id": "05974c6b-f5df-4188-a949-8159baed8937",
   "metadata": {},
   "outputs": [],
   "source": [
    "def eq_nan_dist(u, v):\n",
    "    no_nan = ~pd.isna(u + v)\n",
    "    is_eq = np.equal(u[no_nan], v[no_nan])\n",
    "    return is_eq.astype(int).sum()\n",
    "\n",
    "from scipy import spatial\n",
    "\n",
    "N_co = spatial.distance.pdist(df_groups, eq_nan_dist)\n",
    "N_square = spatial.distance.squareform(N_co)\n",
    "\n",
    "from sklearn import cluster, metrics\n",
    "\n",
    "n_cl = []\n",
    "sils = []\n",
    "dbscores=[]\n",
    "for k in np.arange(2,30):\n",
    "    n_cl.append(k)\n",
    "    model = cluster.AgglomerativeClustering(\n",
    "        n_clusters=k,\n",
    "        affinity=\"precomputed\",\n",
    "        linkage=\"complete\",\n",
    "        compute_distances=True,\n",
    "        compute_full_tree=True,\n",
    "    )\n",
    "    l = model.fit_predict(-N_square)\n",
    "    sils.append(metrics.silhouette_score(N_square, l))\n",
    "    dbscores.append(metrics.davies_bouldin_score(N_square, l))"
   ]
  },
  {
   "cell_type": "code",
   "execution_count": null,
   "id": "3093009b-ebf4-4112-8d85-c77c017a3e1f",
   "metadata": {},
   "outputs": [],
   "source": [
    "fig, ax = plt.subplots(figsize=(3, 3), nrows=2, sharex=True)\n",
    "rel_ind = 16\n",
    "ax[0].plot(n_cl, dbscores, color='k')\n",
    "ax[0].plot(n_cl[rel_ind], dbscores[rel_ind], 'ro')\n",
    "ax[0].set_ylabel('Davies-Bouldin')\n",
    "\n",
    "ax[1].plot(n_cl, sils, color='k')\n",
    "ax[1].plot(n_cl[rel_ind], sils[rel_ind], 'ro')\n",
    "ax[1].set_ylabel('Silhouette')\n",
    "_ = ax[1].set_xticks(np.arange(0, 20, 5))\n",
    "\n",
    "sns.despine(ax=ax[0])\n",
    "sns.despine(ax=ax[1])"
   ]
  },
  {
   "cell_type": "code",
   "execution_count": null,
   "id": "953e51c6-cf4e-41f6-9f50-3708a423e031",
   "metadata": {},
   "outputs": [],
   "source": [
    "G, _, _ = phenograph.cluster(\n",
    "    datz,\n",
    "    clustering_algo=\"leiden\",\n",
    "    k=15,\n",
    "    primary_metric=\"euclidean\",\n",
    "    resolution_parameter=1.5,\n",
    ")\n",
    "edf[\"clust\"] = G\n",
    "relabel_sorted(edf, \"clust\", \"soma_depth\")"
   ]
  },
  {
   "cell_type": "code",
   "execution_count": null,
   "id": "fb440f8e-0856-4deb-bace-214e014674de",
   "metadata": {},
   "outputs": [],
   "source": [
    "fig, ax = plt.subplots(figsize=(5, 5), dpi=300)\n",
    "sns.scatterplot(\n",
    "    x=\"umap0\",\n",
    "    y=\"umap1\",\n",
    "    hue=\"clust\",\n",
    "    palette=\"tab20\",\n",
    "    data=edf,\n",
    "    alpha=0.2,\n",
    "    s=3,\n",
    "    ax=ax,\n",
    ")\n",
    "sns.scatterplot(\n",
    "    x=\"umap0\",\n",
    "    y=\"umap1\",\n",
    "    data=edf.query('clust==9'),\n",
    "    color='k',\n",
    "    s=5,\n",
    "    ax=ax,\n",
    ")\n",
    "\n",
    "ax.legend().set_bbox_to_anchor((1,1))"
   ]
  },
  {
   "cell_type": "code",
   "execution_count": null,
   "id": "fcdd63ae-8805-406f-87f6-7219b39f5e48",
   "metadata": {},
   "outputs": [],
   "source": [
    "layer_bnds  = [100, 270, 400, 550, 750]\n",
    "\n",
    "fig, ax = plt.subplots(dpi=200, figsize=(6,3))\n",
    "sns.stripplot(\n",
    "    x='clust',\n",
    "    y='soma_depth',\n",
    "    hue='clust',\n",
    "    palette='tab20',\n",
    "    data=edf,\n",
    "    s=2,\n",
    "    alpha=0.1,\n",
    "    ax=ax,\n",
    "    legend=False,\n",
    ")\n",
    "ax.hlines(layer_bnds, *ax.get_xlim(), linestyle=':', color='k', linewidth=1, zorder=-20)\n",
    "sns.despine(ax=ax)\n",
    "ax.invert_yaxis()"
   ]
  },
  {
   "cell_type": "code",
   "execution_count": null,
   "id": "a93c5f25-3205-4f2e-bfd6-5de9d5774d49",
   "metadata": {},
   "outputs": [],
   "source": [
    "# bad_l4 = edf.query('clust in [9]')['root_id'].values"
   ]
  },
  {
   "cell_type": "code",
   "execution_count": null,
   "id": "c56e1bb7-e973-4f28-bcbb-02fa36632c09",
   "metadata": {},
   "outputs": [],
   "source": [
    "val = 'num_syn_dendrite'\n",
    "\n",
    "fig, ax = plt.subplots(dpi=200, figsize=(6,3))\n",
    "sns.stripplot(\n",
    "    x='clust',\n",
    "    y=val,\n",
    "    hue='clust',\n",
    "    palette='tab20',\n",
    "    data=edf,\n",
    "    s=2,\n",
    "    alpha=0.1,\n",
    "    ax=ax,\n",
    "    legend=False,\n",
    ")\n",
    "\n",
    "sns.pointplot(\n",
    "    x='clust',\n",
    "    y=val,\n",
    "    color='k',\n",
    "    estimator='median',\n",
    "    data=edf,\n",
    "    ax=ax,\n",
    "    join=False,\n",
    ")\n",
    "# ax.hlines(layer_bnds, *ax.get_xlim(), linestyle=':', color='k', linewidth=1, zorder=-20)\n",
    "# ax.invert_yaxis()\n",
    "sns.despine(ax=ax)"
   ]
  },
  {
   "cell_type": "code",
   "execution_count": null,
   "id": "e911b210-9b65-4c68-b28b-74bffebfc506",
   "metadata": {},
   "outputs": [],
   "source": [
    "fig, ax = plt.subplots(figsize=(3,3), dpi=300)\n",
    "sns.scatterplot(\n",
    "    x=\"umap0\",\n",
    "    y=\"umap1\",\n",
    "    hue=\"num_syn_dendrite\",\n",
    "    hue_norm=(1000, 15000),\n",
    "    palette=\"magma\",\n",
    "    data=edf,\n",
    "    s=1,\n",
    "    legend=False\n",
    ")"
   ]
  },
  {
   "cell_type": "code",
   "execution_count": null,
   "id": "bf501b5c-9866-4ff2-8dc8-9d7cd19ee915",
   "metadata": {},
   "outputs": [],
   "source": [
    "edf['num_syn_total']  = edf['num_syn_dendrite'] + edf['num_syn_soma']\n",
    "\n",
    "fig, ax = plt.subplots(figsize=(3, 6), dpi=300)\n",
    "sns.scatterplot(\n",
    "    x='syn_depth_dist_p5',\n",
    "    y='soma_depth',\n",
    "    hue='clust',\n",
    "    palette='tab20',\n",
    "    data=edf,\n",
    "    s=2,\n",
    ")\n",
    "ax.vlines(layer_bnds, *ax.get_ylim(), linestyle=':', color='k', linewidth=1, alpha=0.2, zorder=-20)\n",
    "\n",
    "ax.hlines(layer_bnds, *ax.get_xlim(), linestyle=':', color='k', linewidth=1, zorder=-20)\n",
    "\n",
    "ax.invert_yaxis()\n",
    "ax.set_aspect('equal')\n",
    "ax.legend().set_bbox_to_anchor((1,1))"
   ]
  },
  {
   "cell_type": "code",
   "execution_count": null,
   "id": "5fe1eec2-b24b-4b6b-a461-34f610f8ea43",
   "metadata": {},
   "outputs": [],
   "source": [
    "edf['num_syn_total']  = edf['num_syn_dendrite'] + edf['num_syn_soma']\n",
    "\n",
    "fig, ax = plt.subplots(figsize=(3, 6), dpi=300)\n",
    "sns.scatterplot(\n",
    "    x='max_density',\n",
    "    y='soma_depth',\n",
    "    hue='clust',\n",
    "    palette='tab20',\n",
    "    data=edf,\n",
    "    s=2,\n",
    ")\n",
    "ax.set_xlim(0,3)\n",
    "ax.hlines(layer_bnds, *ax.get_xlim(), linestyle=':', color='k', linewidth=1, zorder=-20)\n",
    "ax.invert_yaxis()\n",
    "ax.legend().set_bbox_to_anchor((1,1))"
   ]
  },
  {
   "cell_type": "code",
   "execution_count": null,
   "id": "4a9b4b6d-4a6a-4c5c-b7d1-eedcda6560fb",
   "metadata": {},
   "outputs": [],
   "source": [
    "edf.query('soma_depth>300 and soma_depth<400 and max_density>1').root_id.values"
   ]
  },
  {
   "cell_type": "code",
   "execution_count": null,
   "id": "69e3fc08-0687-4410-833e-24b7f3b290a8",
   "metadata": {},
   "outputs": [],
   "source": [
    "val = 'syn_depth_extent'\n",
    "\n",
    "fig, ax = plt.subplots(dpi=200, figsize=(6,3))\n",
    "sns.stripplot(\n",
    "    x='clust',\n",
    "    y=val,\n",
    "    hue='clust',\n",
    "    palette='tab20',\n",
    "    data=edf,\n",
    "    s=2,\n",
    "    alpha=0.1,\n",
    "    ax=ax,\n",
    "    legend=False,\n",
    ")\n",
    "\n",
    "sns.pointplot(\n",
    "    x='clust',\n",
    "    y=val,\n",
    "    color='k',\n",
    "    estimator='median',\n",
    "    data=edf,\n",
    "    ax=ax,\n",
    "    join=False,\n",
    ")\n",
    "# ax.hlines(layer_bnds, *ax.get_xlim(), linestyle=':', color='k', linewidth=1, zorder=-20)\n",
    "# ax.invert_yaxis()\n",
    "sns.despine(ax=ax)"
   ]
  },
  {
   "cell_type": "code",
   "execution_count": null,
   "id": "f08e56d8-0775-44e2-b2cc-df7803e3bfce",
   "metadata": {},
   "outputs": [],
   "source": [
    "pt_subtype = {\n",
    "    'L2': [0],\n",
    "    'L3': [1,2,3,4,5],\n",
    "    'L4': [6,7,8],\n",
    "    'L5': [9,11,15],\n",
    "    'L5ET': [10,12,14],\n",
    "    'L5NP': [13],\n",
    "    'L6': [16,17,18,19,20,21,22,23,24,25],\n",
    "}"
   ]
  },
  {
   "cell_type": "code",
   "execution_count": null,
   "id": "43bc3541-2325-46b0-b67a-d23a536b37b7",
   "metadata": {},
   "outputs": [],
   "source": [
    "pt_rep = {}\n",
    "for k,v in pt_subtype.items():\n",
    "    for ct in v:\n",
    "        pt_rep[ct] = k"
   ]
  },
  {
   "cell_type": "code",
   "execution_count": null,
   "id": "aded520c-567f-4cbb-988e-fac06dbb1313",
   "metadata": {},
   "outputs": [],
   "source": [
    "edf_s['ct_category'] = edf_s['clust'].replace(pt_rep)"
   ]
  },
  {
   "cell_type": "code",
   "execution_count": null,
   "id": "7a17d905-b3bc-45f3-a9d6-40ccd7f3f035",
   "metadata": {},
   "outputs": [],
   "source": [
    "for _, row in edf_s.iterrows():\n",
    "    stage.add(\n",
    "        cell_type=row['ct_category'],\n",
    "        classification_system='excitatory',\n",
    "        target_id=row['id'],\n",
    "    )"
   ]
  },
  {
   "cell_type": "code",
   "execution_count": null,
   "id": "2578f981-9c12-43ba-b157-fad9ab176413",
   "metadata": {},
   "outputs": [],
   "source": [
    "client.annotation.get_table_metadata('cell_type_skel_features_v1')"
   ]
  },
  {
   "cell_type": "code",
   "execution_count": null,
   "id": "1301f7fd-a282-4cd8-bca3-8b3865885ece",
   "metadata": {},
   "outputs": [],
   "source": []
  },
  {
   "cell_type": "code",
   "execution_count": null,
   "id": "2e432da6-439e-4eec-8cea-bfe384dba984",
   "metadata": {},
   "outputs": [],
   "source": [
    "client.annotation.get_annotation_count('cell_type_skel_features_v1')"
   ]
  },
  {
   "cell_type": "code",
   "execution_count": null,
   "id": "22d34600-ad77-400d-be85-113f6f9abc2d",
   "metadata": {},
   "outputs": [],
   "source": [
    "pt_subtype = {\n",
    "    0: 'L2IT',\n",
    "    1: 'L3IT',\n",
    "    2: 'L3IT',\n",
    "    3: 'L3IT',\n",
    "    4: 'L4IT',\n",
    "    5: 'L4IT',\n",
    "    6: 'L4IT',\n",
    "    7: 'L4IT',\n",
    "    8: 'L5IT',\n",
    "    9: 'L5ET',\n",
    "    10: 'L5ET',\n",
    "    11: 'L5IT',\n",
    "    12: 'L5NP',\n",
    "}"
   ]
  },
  {
   "cell_type": "code",
   "execution_count": null,
   "id": "c8f4e612-2173-4a0e-864e-9d5be3cd959e",
   "metadata": {},
   "outputs": [],
   "source": [
    "feat_df"
   ]
  },
  {
   "cell_type": "code",
   "execution_count": null,
   "id": "159de08f-cf2d-4d8e-b8e3-ecc1dea66186",
   "metadata": {},
   "outputs": [],
   "source": [
    "pf_df = client.materialize.tables.ariadne_axon_task(cell_type=['clean', 'complete', 'submitted']).query()"
   ]
  },
  {
   "cell_type": "code",
   "execution_count": null,
   "id": "eb839ffe-cfb8-42a7-84b0-7093c14a4b64",
   "metadata": {},
   "outputs": [],
   "source": [
    "pf_df['proofread'] = True"
   ]
  },
  {
   "cell_type": "code",
   "execution_count": null,
   "id": "a0076885-4506-489a-aa8b-b72805cdd367",
   "metadata": {},
   "outputs": [],
   "source": [
    "edf_pf = edf.merge(\n",
    "    pf_df[['pt_root_id', 'proofread']].rename(columns={'pt_root_id': 'root_id'}),\n",
    "    on='root_id',\n",
    "    how='left',\n",
    ")\n",
    "\n",
    "edf_pf['proofread'] = edf_pf['proofread'].fillna(False)"
   ]
  },
  {
   "cell_type": "code",
   "execution_count": null,
   "id": "a7ea8c56-e9a9-4d2d-8640-d6095df87621",
   "metadata": {},
   "outputs": [],
   "source": [
    "edf_pf.query('proofread').groupby('clust').count()"
   ]
  },
  {
   "cell_type": "code",
   "execution_count": null,
   "id": "60a8c9b7-c412-491b-b387-d51a4453811e",
   "metadata": {},
   "outputs": [],
   "source": [
    "val = 'syn_depth_dist_p5'\n",
    "\n",
    "fig, ax = plt.subplots(dpi=200, figsize=(6,3))\n",
    "sns.stripplot(\n",
    "    x='clust',\n",
    "    y=val,\n",
    "    hue='clust',\n",
    "    palette='tab20',\n",
    "    data=edf,\n",
    "    s=2,\n",
    "    alpha=0.1,\n",
    "    ax=ax,\n",
    "    legend=False,\n",
    ")\n",
    "\n",
    "sns.pointplot(\n",
    "    x='clust',\n",
    "    y=val,\n",
    "    color='k',\n",
    "    estimator='median',\n",
    "    data=edf,\n",
    "    ax=ax,\n",
    "    join=False,\n",
    ")\n",
    "ax.hlines(layer_bnds, *ax.get_xlim(), linestyle=':', color='k', linewidth=1, zorder=-20)\n",
    "ax.invert_yaxis()\n",
    "sns.despine(ax=ax)"
   ]
  },
  {
   "cell_type": "code",
   "execution_count": null,
   "id": "0526f47f-c784-43cd-9196-f17868bb9438",
   "metadata": {},
   "outputs": [],
   "source": [
    "label_col = \"clust\"\n",
    "feat_cols_with_depth = [\"soma_depth\"] + feat_cols\n",
    "\n",
    "vline_locs = np.cumsum(edf.groupby(label_col).count()[\"root_id\"].values)\n",
    "datz = stats.zscore(edf[feat_cols_with_depth].values)\n",
    "h = datz.shape[1]\n",
    "\n",
    "fig, ax = plt.subplots(figsize=(20, 4), dpi=300)\n",
    "sns.heatmap(\n",
    "    datz[edf.reset_index().sort_values(by=[label_col, \"soma_depth\"]).index].T,\n",
    "    cmap=\"RdBu_r\",\n",
    "    center=0,\n",
    "    vmin=-2,\n",
    "    vmax=2,\n",
    ")\n",
    "\n",
    "ax.set_yticks(np.arange(datz.shape[1]) + 0.5)\n",
    "ax.vlines(vline_locs, 0, h, color=\"k\", linewidth=1, alpha=1)\n",
    "_ = ax.set_yticks(np.arange(0, len(feat_cols_with_depth))+0.5)\n",
    "_ = ax.set_yticklabels(feat_cols_with_depth, rotation=0, fontdict={\"size\": 5})\n",
    "_ = ax.set_xticks(\n",
    "    np.diff(np.concatenate(([0], vline_locs))) / 2\n",
    "    + np.concatenate(([0], vline_locs[:-1]))\n",
    ")\n",
    "_ = ax.set_xticklabels(sorted(list(edf[label_col].unique())), rotation=0)"
   ]
  },
  {
   "cell_type": "code",
   "execution_count": null,
   "id": "add1cbe2-9fec-4830-bcef-525c2decc150",
   "metadata": {},
   "outputs": [],
   "source": [
    "edf.query('clust==14')"
   ]
  },
  {
   "cell_type": "code",
   "execution_count": null,
   "id": "edc84520-fdf1-4a5d-a26b-05d4f950e5da",
   "metadata": {},
   "outputs": [],
   "source": [
    "edf_s = edf.merge(\n",
    "    df[['pt_root_id', 'id', 'pt_position']],\n",
    "    left_on='root_id',\n",
    "    right_on='pt_root_id',\n",
    "    how='left',\n",
    ")"
   ]
  },
  {
   "cell_type": "code",
   "execution_count": null,
   "id": "218ba605-82b4-47b4-94ff-bc7994dedcf4",
   "metadata": {},
   "outputs": [],
   "source": [
    "edf_s = edf_pf.merge(\n",
    "    df[['pt_root_id', 'pt_position']],\n",
    "    left_on='root_id',\n",
    "    right_on='pt_root_id',\n",
    "    how='left',\n",
    ")"
   ]
  },
  {
   "cell_type": "code",
   "execution_count": null,
   "id": "a97403de-410a-4a18-bd39-6c4ecf3402b5",
   "metadata": {},
   "outputs": [],
   "source": [
    "edf_pf.to_feather('../feature_extraction/excitatory_feature_d150.feather')"
   ]
  },
  {
   "cell_type": "code",
   "execution_count": null,
   "id": "f4526952-3709-44e5-b0db-cf5bc8a46f6b",
   "metadata": {},
   "outputs": [],
   "source": [
    "statebuilder.AnnotationLayerConfig?"
   ]
  },
  {
   "cell_type": "code",
   "execution_count": null,
   "id": "c7b08ece-b89b-4949-9202-4f7cf1f367fa",
   "metadata": {},
   "outputs": [],
   "source": [
    "from nglui import statebuilder\n",
    "\n",
    "img, seg = statebuilder.from_client(client)\n",
    "annos = []\n",
    "clusts = np.unique(edf['clust'])\n",
    "for ct, clr in zip(clusts, sns.palettes.color_palette('tab20', n_colors=len(np.unique(edf['clust'])))):\n",
    "    annos.append(\n",
    "        statebuilder.AnnotationLayerConfig(\n",
    "            f\"clust{ct}\",\n",
    "            mapping_rules=statebuilder.PointMapper('pt_position', linked_segmentation_column='pt_root_id'),\n",
    "            filter_query=f\"clust=={ct}\",\n",
    "            color=clr,\n",
    "            data_resolution=[1,1,1],\n",
    "            linked_segmentation_layer=seg.name,\n",
    "            filter_by_segmentation=True\n",
    "        )\n",
    "    )\n",
    "sb = statebuilder.StateBuilder([img, seg]+annos, client=client, view_kws={'background_color': [0,0,0]})\n",
    "\n",
    "sb.render_state(\n",
    "    edf_s.sort_values(by='soma_depth'),\n",
    "    return_as='html',\n",
    ")"
   ]
  },
  {
   "cell_type": "code",
   "execution_count": null,
   "id": "5e95d4a6-badb-484b-aa45-041649c9bce4",
   "metadata": {},
   "outputs": [],
   "source": []
  },
  {
   "cell_type": "code",
   "execution_count": null,
   "id": "4525d6b9-c1d8-43a7-b5d5-c6d59a64fe31",
   "metadata": {},
   "outputs": [],
   "source": [
    "feat_df.query('root_id == 864691132655358167')"
   ]
  },
  {
   "cell_type": "code",
   "execution_count": null,
   "id": "870f9d51-3612-4a25-bfe6-bb75599b226a",
   "metadata": {},
   "outputs": [],
   "source": [
    "edf.query('is_exc_pred').sort_values(by='num_syn_dendrite', ascending=False).head(20)"
   ]
  },
  {
   "cell_type": "code",
   "execution_count": null,
   "id": "3dc3fe00-b730-48da-9658-375092b0b9b7",
   "metadata": {},
   "outputs": [],
   "source": [
    "feat_cols"
   ]
  },
  {
   "cell_type": "code",
   "execution_count": null,
   "id": "6c94fed9-5296-4091-862e-a227c9b37f02",
   "metadata": {},
   "outputs": [],
   "source": [
    "raw_df.query('root_id == 864691132958276967')"
   ]
  },
  {
   "cell_type": "code",
   "execution_count": null,
   "id": "054a4578-db06-4782-84c8-1a3f64ad8f6f",
   "metadata": {},
   "outputs": [],
   "source": [
    "fig, ax = plt.subplots()\n",
    "sns.scatterplot(\n",
    "    x='radius_dist',\n",
    "    y='soma_depth',\n",
    "    hue='area_factor',\n",
    "    palette='magma',\n",
    "    # hue_norm=(150,250),\n",
    "    data=edf.query('clust==0'),\n",
    "    ax=ax,\n",
    "    edgecolor='k',\n",
    ")\n",
    "ax.invert_yaxis()"
   ]
  },
  {
   "cell_type": "code",
   "execution_count": null,
   "id": "e24843c3-77e9-48fc-ad5b-9b7ae38cf945",
   "metadata": {},
   "outputs": [],
   "source": [
    "fig, ax = plt.subplots()\n",
    "sns.histplot(\n",
    "    x='radius_dist',\n",
    "    data=edf.query('clust==0'),\n",
    "    bins=50,\n",
    ")"
   ]
  },
  {
   "cell_type": "code",
   "execution_count": null,
   "id": "3988fda4-ad23-4441-ac9e-256c9db11e82",
   "metadata": {},
   "outputs": [],
   "source": [
    "feat_df.pivot_table(\n",
    "    index='pheno',\n",
    "    columns='cell_type',\n",
    "    values = 'soma_depth',\n",
    "    fill_value=0,\n",
    "    aggfunc='count',\n",
    ")"
   ]
  },
  {
   "cell_type": "code",
   "execution_count": null,
   "id": "8948120f-5824-471b-8109-7cf89f0c70e8",
   "metadata": {},
   "outputs": [],
   "source": [
    "dfct_e = feat_df.query('cell_type == \"PYC\"').reset_index(drop=True)\n",
    "\n",
    "dat = dfct_e[feat_cols].values\n",
    "datz = stats.zscore(dat)\n",
    "res = umap.UMAP(metric=\"euclidean\", n_neighbors=10)\n",
    "xx = res.fit_transform(datz)\n",
    "dfct_e[\"umap0\"] = xx[:, 0]\n",
    "dfct_e[\"umap1\"] = xx[:, 1]"
   ]
  },
  {
   "cell_type": "code",
   "execution_count": null,
   "id": "cad6f37a-c9cf-4967-b948-fdb95bfa862c",
   "metadata": {},
   "outputs": [],
   "source": [
    "fig, ax = plt.subplots(figsize=(4,4), dpi=300)\n",
    "sns.scatterplot(\n",
    "    x='umap0',\n",
    "    y='umap1',\n",
    "    data=dfct_e,\n",
    "    s=5,\n",
    "    hue='soma_depth',\n",
    "    hue_norm=(0,700),\n",
    "    palette='viridis',\n",
    ")\n",
    "ax.vlines(13,0,10)\n",
    "ax.hlines(2.5,0,18)"
   ]
  },
  {
   "cell_type": "code",
   "execution_count": null,
   "id": "cbf82fb4-0f9d-43bc-a53f-ed2f0329e2c1",
   "metadata": {},
   "outputs": [],
   "source": [
    "dfct_e.shape"
   ]
  },
  {
   "cell_type": "code",
   "execution_count": null,
   "id": "f283117c-ee7d-4c89-b0d8-54c15d8ca28e",
   "metadata": {},
   "outputs": [],
   "source": [
    "dfct_e.query('umap0>13 and umap1>2.5').root_id.values"
   ]
  },
  {
   "cell_type": "code",
   "execution_count": null,
   "id": "ec918a87-a400-49c1-b2b8-34f954a934b8",
   "metadata": {},
   "outputs": [],
   "source": []
  }
 ],
 "metadata": {
  "kernelspec": {
   "display_name": "m1",
   "language": "python",
   "name": "python3"
  },
  "language_info": {
   "codemirror_mode": {
    "name": "ipython",
    "version": 3
   },
   "file_extension": ".py",
   "mimetype": "text/x-python",
   "name": "python",
   "nbconvert_exporter": "python",
   "pygments_lexer": "ipython3",
   "version": "3.10.9"
  }
 },
 "nbformat": 4,
 "nbformat_minor": 5
}
