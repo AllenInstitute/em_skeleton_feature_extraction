{
 "cells": [
  {
   "cell_type": "code",
   "execution_count": null,
   "metadata": {},
   "outputs": [],
   "source": [
    "import skel_features\n",
    "from standard_transform import v1dd_ds\n",
    "import pandas as pd\n",
    "import numpy as np\n",
    "from meshparty import meshwork\n",
    "\n",
    "from cloudpathlib import AnyPath as Path\n",
    "import l2label"
   ]
  },
  {
   "cell_type": "code",
   "execution_count": null,
   "metadata": {},
   "outputs": [],
   "source": [
    "l2label.models.get_models()"
   ]
  },
  {
   "cell_type": "code",
   "execution_count": null,
   "metadata": {},
   "outputs": [],
   "source": [
    "# skel_dir = Path('/Users/caseysm/Work/Code/Tasks/filequeue/output')\n",
    "skel_dir = Path(\"gs://csm-skel/v1dd/\")\n",
    "feature_dir = Path('features/v1dd_spine')\n",
    "feature_dir.mkdir(parents=True, exist_ok=True)\n",
    "\n",
    "height_bnds = [0, 850]\n",
    "layer_bnds = np.load('/Users/caseysm/Work/Projects/MinnieColumn/data/layer_bounds_v3.npy')"
   ]
  },
  {
   "cell_type": "code",
   "execution_count": null,
   "metadata": {},
   "outputs": [],
   "source": [
    "file_df = pd.read_feather(Path('~/Work/Code/Tasks/hydrated-skeletons-v1dd/v1dd_single_neuron_task_v1105.feather'))"
   ]
  },
  {
   "cell_type": "code",
   "execution_count": null,
   "metadata": {},
   "outputs": [],
   "source": [
    "success = skel_features.extraction.extract_features_mp(\n",
    "    file_df['root_id'],\n",
    "    skel_dir,\n",
    "    height_bnds,\n",
    "    v1dd_ds,\n",
    "    feature_dir,\n",
    "    dist_bins=5,\n",
    "    max_dist=200,\n",
    "    nodes=20,\n",
    "    rerun=True,\n",
    "    model_config='v1dd_ds15_us0_bd0.json',\n",
    "    synapse_transform='nm',\n",
    "    save_synapse_count=True,\n",
    ")"
   ]
  },
  {
   "cell_type": "code",
   "execution_count": null,
   "metadata": {},
   "outputs": [],
   "source": [
    "file_df['success'] = success"
   ]
  },
  {
   "cell_type": "code",
   "execution_count": null,
   "metadata": {},
   "outputs": [],
   "source": [
    "file_df.success.value_counts()"
   ]
  },
  {
   "cell_type": "code",
   "execution_count": null,
   "metadata": {},
   "outputs": [],
   "source": [
    "file_df = file_df.query('success').reset_index()"
   ]
  },
  {
   "cell_type": "code",
   "execution_count": null,
   "metadata": {},
   "outputs": [],
   "source": [
    "file_df.to_feather('v1dd_files_success_v1412ish_v2.feather')"
   ]
  },
  {
   "cell_type": "code",
   "execution_count": null,
   "metadata": {},
   "outputs": [],
   "source": [
    "file_df = pd.read_feather('v1dd_files_success_v1412ish_v2.feather')"
   ]
  },
  {
   "cell_type": "code",
   "execution_count": null,
   "metadata": {},
   "outputs": [],
   "source": [
    "raw_df = skel_features.io_utils.load_features(file_df['root_id'], feature_dir)"
   ]
  },
  {
   "cell_type": "code",
   "execution_count": null,
   "metadata": {},
   "outputs": [],
   "source": [
    "ii, col = np.where(raw_df.isna())"
   ]
  },
  {
   "cell_type": "code",
   "execution_count": null,
   "metadata": {},
   "outputs": [],
   "source": [
    "raw_df.drop(index=np.unique(ii), inplace=True)\n",
    "raw_df.reset_index(drop=True, inplace=True)"
   ]
  },
  {
   "cell_type": "code",
   "execution_count": null,
   "metadata": {},
   "outputs": [],
   "source": [
    "from sklearn import preprocessing, decomposition"
   ]
  },
  {
   "cell_type": "code",
   "execution_count": null,
   "metadata": {},
   "outputs": [],
   "source": [
    "ego_syn_pca = decomposition.SparsePCA(n_components=5)\n",
    "ego_pproc = preprocessing.StandardScaler()"
   ]
  },
  {
   "cell_type": "code",
   "execution_count": null,
   "metadata": {},
   "outputs": [],
   "source": [
    "pl_dat = np.vstack(raw_df[\"egocentric_bins\"].values)\n",
    "pl_dat_norm = pl_dat / np.atleast_2d(pl_dat.sum(axis=1)).T"
   ]
  },
  {
   "cell_type": "code",
   "execution_count": null,
   "metadata": {},
   "outputs": [],
   "source": [
    "ego_rows, _ = np.where(np.isnan(np.vstack(raw_df['egocentric_bins'])))"
   ]
  },
  {
   "cell_type": "code",
   "execution_count": null,
   "metadata": {},
   "outputs": [],
   "source": [
    "net_ego_syn = raw_df['egocentric_bins'].apply(lambda x: sum(x))\n",
    "raw_df['net_ego_syn'] = net_ego_syn.replace({0: np.nan})"
   ]
  },
  {
   "cell_type": "code",
   "execution_count": null,
   "metadata": {},
   "outputs": [],
   "source": [
    "ii, col = np.where(raw_df.isna())"
   ]
  },
  {
   "cell_type": "markdown",
   "metadata": {},
   "source": []
  },
  {
   "cell_type": "code",
   "execution_count": null,
   "metadata": {},
   "outputs": [],
   "source": [
    "raw_df.syn_dist"
   ]
  },
  {
   "cell_type": "code",
   "execution_count": null,
   "metadata": {},
   "outputs": [],
   "source": [
    "np.vstack(raw_df.syn_count_dist_binned_shaft)"
   ]
  },
  {
   "cell_type": "code",
   "execution_count": null,
   "metadata": {},
   "outputs": [],
   "source": [
    "(\n",
    "    feat_df_alt,\n",
    "    feat_cols,\n",
    "    syn_pca,\n",
    "    br_svd,\n",
    "    keep_depth,\n",
    "    ego_pca,\n",
    "    model_dict,\n",
    ") = skel_features.assembly.assemble_features_from_data(raw_df.dropna(), n_syn_comp=10, n_branch_comp=5, n_syn_ego=5, use_spines=True)"
   ]
  },
  {
   "cell_type": "code",
   "execution_count": null,
   "metadata": {},
   "outputs": [],
   "source": [
    "feat_df_alt.shape"
   ]
  },
  {
   "cell_type": "code",
   "execution_count": null,
   "metadata": {},
   "outputs": [],
   "source": [
    "feat_df_alt.to_feather('features/v1dd_spine/feat_df_spine_axon_prediction.feather')"
   ]
  },
  {
   "cell_type": "code",
   "execution_count": null,
   "metadata": {},
   "outputs": [],
   "source": [
    "import json\n",
    "with open('features/v1dd_spine/feat_cols_spine_axon_prediction.json', 'w') as f:\n",
    "    json.dump(feat_cols, f)"
   ]
  },
  {
   "cell_type": "code",
   "execution_count": null,
   "metadata": {},
   "outputs": [],
   "source": [
    "syn_counts = []\n",
    "rids = []\n",
    "for root_id in file_df['root_id']:\n",
    "    fname = f'{feature_dir}/{root_id}_syn_count.json'\n",
    "    try:\n",
    "        with open(fname) as f:\n",
    "            syn_count = json.load(f)\n",
    "        syn_counts.append(syn_count)    \n",
    "        rids.append(root_id)\n",
    "    except:\n",
    "        continue\n",
    "\n",
    "axon_compartment_df = pd.DataFrame(\n",
    "    {\n",
    "        'root_id': rids,\n",
    "        'syn_count': syn_counts,\n",
    "    }\n",
    ")"
   ]
  },
  {
   "cell_type": "code",
   "execution_count": null,
   "metadata": {},
   "outputs": [],
   "source": [
    "axon_compartment_df = axon_compartment_df.explode('syn_count').reset_index(drop=True)"
   ]
  },
  {
   "cell_type": "code",
   "execution_count": null,
   "metadata": {},
   "outputs": [],
   "source": [
    "axon_compartment_df.to_feather('v1dd_v1412ish_axon_compartments.feather')"
   ]
  },
  {
   "cell_type": "code",
   "execution_count": null,
   "metadata": {},
   "outputs": [],
   "source": [
    "blah = axon_compartment_df.groupby('root_id').transform('count')"
   ]
  },
  {
   "cell_type": "code",
   "execution_count": null,
   "metadata": {},
   "outputs": [],
   "source": [
    "axon_compartment_df.query('syn_count > 14000').root_id.values"
   ]
  },
  {
   "cell_type": "code",
   "execution_count": null,
   "metadata": {},
   "outputs": [],
   "source": []
  },
  {
   "cell_type": "code",
   "execution_count": null,
   "metadata": {},
   "outputs": [],
   "source": []
  },
  {
   "cell_type": "code",
   "execution_count": null,
   "metadata": {},
   "outputs": [],
   "source": [
    "axon_compartment_df"
   ]
  },
  {
   "cell_type": "code",
   "execution_count": null,
   "metadata": {},
   "outputs": [],
   "source": []
  },
  {
   "cell_type": "code",
   "execution_count": null,
   "metadata": {},
   "outputs": [],
   "source": [
    "nrn = meshwork.load_meshwork(filename=skel_dir / '864691135560849377.h5')"
   ]
  },
  {
   "cell_type": "code",
   "execution_count": null,
   "metadata": {},
   "outputs": [],
   "source": [
    "nrn.anno.post_syn.df"
   ]
  },
  {
   "cell_type": "code",
   "execution_count": null,
   "metadata": {},
   "outputs": [],
   "source": [
    "nrn.anno.post_syn.df"
   ]
  },
  {
   "cell_type": "code",
   "execution_count": null,
   "metadata": {},
   "outputs": [],
   "source": []
  },
  {
   "cell_type": "code",
   "execution_count": null,
   "metadata": {},
   "outputs": [],
   "source": []
  },
  {
   "cell_type": "code",
   "execution_count": null,
   "metadata": {},
   "outputs": [],
   "source": [
    "import skel_features.skel_filtering\n",
    "\n",
    "\n",
    "height_bounds = height_bnds\n",
    "n_egocentric_bins = 14\n",
    "\n",
    "depth_bins = skel_features.extraction.make_depth_bins(height_bounds)\n",
    "egocentric_bins = skel_features.extraction.make_egocentric_bins(100, n_egocentric_bins)\n",
    "radius_bins = np.arange(20, 300, 30)\n",
    "radius_bin_width = 10\n",
    "\n",
    "nrn = skel_features.io_utils.load_root_id(864691136674495623, skel_dir, peel_threshold=0.1)\n",
    "\n",
    "feats = skel_features.extraction.extract_features_dict(\n",
    "    nrn,\n",
    "    radius_bins=radius_bins,\n",
    "    radius_bin_width=radius_bin_width,\n",
    "    depth_bins=depth_bins,\n",
    "    egocentric_bins=egocentric_bins,\n",
    "    sl_dataset=minnie_ds,\n",
    ")"
   ]
  },
  {
   "cell_type": "code",
   "execution_count": null,
   "metadata": {},
   "outputs": [],
   "source": [
    "feats['syn_count_depth_shaft_dendrite'] / (feats['syn_count_depth_dendrite']+ 0.00000001)"
   ]
  },
  {
   "cell_type": "code",
   "execution_count": null,
   "metadata": {},
   "outputs": [],
   "source": [
    "feats['syn_count_depth_dendrite']"
   ]
  },
  {
   "cell_type": "code",
   "execution_count": null,
   "metadata": {},
   "outputs": [],
   "source": []
  }
 ],
 "metadata": {
  "kernelspec": {
   "display_name": ".venv",
   "language": "python",
   "name": "python3"
  },
  "language_info": {
   "codemirror_mode": {
    "name": "ipython",
    "version": 3
   },
   "file_extension": ".py",
   "mimetype": "text/x-python",
   "name": "python",
   "nbconvert_exporter": "python",
   "pygments_lexer": "ipython3",
   "version": "3.12.7"
  }
 },
 "nbformat": 4,
 "nbformat_minor": 2
}
