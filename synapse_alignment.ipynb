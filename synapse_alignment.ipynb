{
 "cells": [
  {
   "cell_type": "code",
   "execution_count": null,
   "id": "b1717812",
   "metadata": {},
   "outputs": [],
   "source": [
    "import pandas as pd\n",
    "import numpy as np\n",
    "from pathlib import Path\n",
    "import matplotlib.pyplot as plt\n",
    "import seaborn as sns\n",
    "import orjson as json\n",
    "\n",
    "from caveclient import CAVEclient\n",
    "from standard_transform.datasets import minnie_ds, v1dd_ds\n",
    "\n",
    "v1dd_feat_dir = Path('features/v1dd_spine')\n",
    "v1dd_file = 'features/v1dd_spine/feat_df_spine_axon_prediction.feather'\n",
    "v1dd_df = pd.read_feather(v1dd_file)"
   ]
  },
  {
   "cell_type": "code",
   "execution_count": null,
   "id": "95db1b45",
   "metadata": {},
   "outputs": [],
   "source": [
    "v1dd_rids = v1dd_df['root_id'].values"
   ]
  },
  {
   "cell_type": "code",
   "execution_count": null,
   "id": "0a5f6ead",
   "metadata": {},
   "outputs": [],
   "source": [
    "import tqdm.autonotebook as tqdm"
   ]
  },
  {
   "cell_type": "code",
   "execution_count": null,
   "id": "b2974ad3",
   "metadata": {},
   "outputs": [],
   "source": [
    "v1dd_syn_depths = []\n",
    "for rid in tqdm.tqdm(v1dd_rids):\n",
    "    with open(v1dd_feat_dir / f\"{rid}.json\", 'r') as f:\n",
    "        syn_data = json.loads(f.read())\n",
    "        if syn_data.get('num_syn_dendrite', 0) < 500:\n",
    "            continue\n",
    "        if syn_data.get('syn_depth_dist_spine') is not None:\n",
    "            v1dd_syn_depths.append(syn_data['syn_depth_dist_spine'])"
   ]
  },
  {
   "cell_type": "code",
   "execution_count": null,
   "id": "240c3e11",
   "metadata": {},
   "outputs": [],
   "source": [
    "v1dd_syn_depths = np.concat(v1dd_syn_depths)"
   ]
  },
  {
   "cell_type": "code",
   "execution_count": null,
   "id": "1e5d35a8",
   "metadata": {},
   "outputs": [],
   "source": [
    "v1dd_syn_df = pd.DataFrame(v1dd_syn_depths, columns=['syn_depth'])\n",
    "v1dd_syn_df['dataset'] = 'v1dd'"
   ]
  },
  {
   "cell_type": "code",
   "execution_count": null,
   "id": "2e33be99",
   "metadata": {},
   "outputs": [],
   "source": [
    "microns_feat_dir = Path('features/minnie65_phase3_v1_spines')\n",
    "microns_file = 'features/minnie65_phase3_v1_spines/feat_df_spine_axon_prediction.feather'\n",
    "microns_df = pd.read_feather(microns_file)"
   ]
  },
  {
   "cell_type": "code",
   "execution_count": null,
   "id": "ed9f0559",
   "metadata": {},
   "outputs": [],
   "source": [
    "microns_rids= microns_df['root_id'].values"
   ]
  },
  {
   "cell_type": "code",
   "execution_count": null,
   "id": "b8285293",
   "metadata": {},
   "outputs": [],
   "source": [
    "microns_syn_depths = []\n",
    "for rid in tqdm.tqdm(microns_rids):\n",
    "    with open(microns_feat_dir / f\"{rid}.json\", 'r') as f:\n",
    "        syn_data = json.loads(f.read())\n",
    "        if syn_data.get('syn_depth_dist_spine') is not None:\n",
    "            microns_syn_depths.append(syn_data['syn_depth_dist_spine'])\n",
    "\n",
    "microns_syn_depths = np.concatenate(microns_syn_depths)\n",
    "microns_syn_df = pd.DataFrame(microns_syn_depths, columns=['syn_depth'])\n",
    "microns_syn_df['dataset'] = 'microns'"
   ]
  },
  {
   "cell_type": "markdown",
   "id": "6e350b19",
   "metadata": {},
   "source": [
    "## Compare depth distributions"
   ]
  },
  {
   "cell_type": "code",
   "execution_count": null,
   "id": "fea74006",
   "metadata": {},
   "outputs": [],
   "source": [
    "combo_df = pd.concat([v1dd_syn_df, microns_syn_df], ignore_index=True)\n",
    "v1dd_idx = combo_df.query('dataset == \"v1dd\"').index\n",
    "combo_df.loc[v1dd_idx, 'syn_depth'] = 15 + 0.93 * combo_df['syn_depth'].loc[v1dd_idx]"
   ]
  },
  {
   "cell_type": "code",
   "execution_count": null,
   "id": "1acef2c0",
   "metadata": {},
   "outputs": [],
   "source": [
    "fig, ax = plt.subplots(figsize=(4, 8))\n",
    "\n",
    "sns.histplot(\n",
    "    y='syn_depth',\n",
    "    data=combo_df.sample(1_000_000),\n",
    "    hue='dataset',\n",
    "    stat='count',\n",
    "    common_norm=False,\n",
    "    bins=100,\n",
    "    element='step',\n",
    ")\n",
    "\n",
    "ax.invert_yaxis()"
   ]
  },
  {
   "cell_type": "markdown",
   "id": "b11039fa",
   "metadata": {},
   "source": [
    "Use soma depth instead"
   ]
  },
  {
   "cell_type": "code",
   "execution_count": null,
   "id": "fa7b1480",
   "metadata": {},
   "outputs": [],
   "source": [
    "soma_depth_df = pd.DataFrame(\n",
    "    {\n",
    "        'soma_depth': np.concat([microns_df['soma_depth'].values, v1dd_df['soma_depth'].values]),\n",
    "        'dataset': ['microns'] * len(microns_df) + ['v1dd'] * len(v1dd_df)\n",
    "    }\n",
    ")"
   ]
  },
  {
   "cell_type": "code",
   "execution_count": null,
   "id": "09660dd9",
   "metadata": {},
   "outputs": [],
   "source": [
    "v1dd_neuron_df = pd.read_feather(\n",
    "    'data/v1dd_nucleus_soma_model_results.feather'\n",
    ")"
   ]
  },
  {
   "cell_type": "code",
   "execution_count": null,
   "id": "3f654786",
   "metadata": {},
   "outputs": [],
   "source": [
    "v1dd_neuron_df = v1dd_neuron_df.query('coarse_label_pred == 0').reset_index(drop=True)"
   ]
  },
  {
   "cell_type": "code",
   "execution_count": null,
   "id": "d1fa3038",
   "metadata": {},
   "outputs": [],
   "source": [
    "soma_depth_df = pd.DataFrame(\n",
    "    {\n",
    "        'soma_depth': np.concat([microns_df['soma_depth'].values, 15+0.94*v1dd_df['soma_depth'].values, 15+0.94*v1dd_neuron_df['soma_depth'].values]),\n",
    "        'dataset': ['microns'] * len(microns_df) + ['v1dd_ss'] * len(v1dd_df) + ['v1dd_neuron'] * len(v1dd_neuron_df)\n",
    "    }\n",
    ")\n",
    "fig, ax = plt.subplots(figsize=(8, 8))\n",
    "\n",
    "sns.histplot(\n",
    "    y='soma_depth',\n",
    "    data=soma_depth_df,\n",
    "    hue='dataset',\n",
    "    stat='count',\n",
    "    palette={'microns': 'black', 'v1dd_ss': 'darkgreen', 'v1dd_neuron': 'darkmagenta'},\n",
    "    common_norm=False,\n",
    "    bins=75,\n",
    "    element='step',\n",
    "    alpha=1,\n",
    "    fill=False,\n",
    ")\n",
    "\n",
    "ax.invert_yaxis()"
   ]
  },
  {
   "cell_type": "markdown",
   "id": "f6cdeb47",
   "metadata": {},
   "source": [
    "### Apples to apples using streamslines and the same radial distance"
   ]
  },
  {
   "cell_type": "code",
   "execution_count": null,
   "id": "54119431",
   "metadata": {},
   "outputs": [],
   "source": [
    "v1dd_center = np.array([95473, 50500, 5077]) * [9,9,45]\n",
    "microns_center = np.array([180112, 114928, 21520]) * [4, 4, 40]"
   ]
  },
  {
   "cell_type": "code",
   "execution_count": null,
   "id": "a03081b3",
   "metadata": {},
   "outputs": [],
   "source": [
    "client_minnie = CAVEclient('minnie65_phase3_v1')\n",
    "client_v1dd = CAVEclient('v1dd')"
   ]
  },
  {
   "cell_type": "code",
   "execution_count": null,
   "id": "186eeca9",
   "metadata": {},
   "outputs": [],
   "source": [
    "tbl_qry_minnie = client_minnie.materialize.tables\n",
    "tbl_qry_v1dd = client_v1dd.materialize.tables"
   ]
  },
  {
   "cell_type": "code",
   "execution_count": null,
   "id": "1196c5c6",
   "metadata": {},
   "outputs": [],
   "source": [
    "minnie_radial_df = tbl_qry_minnie.aibs_metamodel_mtypes_v661_v2.get_all(desired_resolution=[1,1,1])\n",
    "v1dd_radial_df = tbl_qry_v1dd.nucleus_detection_v0.get_all(desired_resolution=[1,1,1])"
   ]
  },
  {
   "cell_type": "code",
   "execution_count": null,
   "id": "6d467adf",
   "metadata": {},
   "outputs": [],
   "source": [
    "minnie_radial_df['rad_dist'] = minnie_ds.streamline_nm.radial_distance(microns_center, np.vstack(minnie_radial_df['pt_position'].values))"
   ]
  },
  {
   "cell_type": "code",
   "execution_count": null,
   "id": "745fced9",
   "metadata": {},
   "outputs": [],
   "source": [
    "v1dd_radial_df.head()"
   ]
  },
  {
   "cell_type": "code",
   "execution_count": null,
   "id": "ec8b1d06",
   "metadata": {},
   "outputs": [],
   "source": [
    "v1dd_radial_df = v1dd_radial_df.query('id in @v1dd_neuron_df.cell_id ').reset_index(drop=True)"
   ]
  },
  {
   "cell_type": "code",
   "execution_count": null,
   "id": "e681437d",
   "metadata": {},
   "outputs": [],
   "source": [
    "v1dd_radial_df['rad_dist'] = v1dd_ds.streamline_nm.radial_distance(\n",
    "    v1dd_center,\n",
    "    np.vstack(v1dd_radial_df['pt_position'].values),\n",
    ")"
   ]
  },
  {
   "cell_type": "code",
   "execution_count": null,
   "id": "e9cf9d9e",
   "metadata": {},
   "outputs": [],
   "source": [
    "minnie_sample = minnie_radial_df.query('rad_dist < 150')"
   ]
  },
  {
   "cell_type": "code",
   "execution_count": null,
   "id": "64dfbede",
   "metadata": {},
   "outputs": [],
   "source": [
    "v1dd_sample = v1dd_radial_df.query('rad_dist < 150')"
   ]
  },
  {
   "cell_type": "code",
   "execution_count": null,
   "id": "0cd2cb06",
   "metadata": {},
   "outputs": [],
   "source": [
    "minnie_sample['soma_depth'] = minnie_ds.transform_nm.apply_dataframe('pt_position', minnie_sample, projection='y')\n",
    "v1dd_sample['soma_depth'] = v1dd_ds.transform_nm.apply_dataframe('pt_position', v1dd_sample, projection='y')"
   ]
  },
  {
   "cell_type": "code",
   "execution_count": null,
   "id": "cae623eb",
   "metadata": {},
   "outputs": [],
   "source": [
    "soma_depth_sample_df = pd.DataFrame(\n",
    "    {\n",
    "        'soma_depth': np.concat([minnie_sample['soma_depth'].values, -10+0.98*v1dd_sample['soma_depth'].values]),\n",
    "        'dataset': ['microns'] * len(minnie_sample) + ['v1dd'] * len(v1dd_sample)\n",
    "    }\n",
    ")\n",
    "fig, ax = plt.subplots(figsize=(8, 8))\n",
    "\n",
    "sns.histplot(\n",
    "    y='soma_depth',\n",
    "    data=soma_depth_sample_df,\n",
    "    hue='dataset',\n",
    "    stat='count',\n",
    "    palette={'microns': 'green', 'v1dd': 'darkmagenta'},\n",
    "    common_norm=False,\n",
    "    bins=50,\n",
    "    element='step',\n",
    "    alpha=0.1,\n",
    "    # fill=False,\n",
    ")\n",
    "\n",
    "ax.invert_yaxis()"
   ]
  },
  {
   "cell_type": "markdown",
   "id": "8e91a2a3",
   "metadata": {},
   "source": [
    "General lesson is that v1dd is largely aligned in depth, with maybe a 10-15 µm offset in soma depth.\n",
    "\n",
    "There remains a big difference `in the distribution of layer 2–4 cells and layer 6 cells. For some reason, the overall count of layer 6 is basically the same across teh two datasets, while layer 2-4 cells are considerably less numerous. by a factor of 20% or so.  "
   ]
  }
 ],
 "metadata": {
  "kernelspec": {
   "display_name": ".venv",
   "language": "python",
   "name": "python3"
  },
  "language_info": {
   "codemirror_mode": {
    "name": "ipython",
    "version": 3
   },
   "file_extension": ".py",
   "mimetype": "text/x-python",
   "name": "python",
   "nbconvert_exporter": "python",
   "pygments_lexer": "ipython3",
   "version": "3.12.7"
  }
 },
 "nbformat": 4,
 "nbformat_minor": 5
}
